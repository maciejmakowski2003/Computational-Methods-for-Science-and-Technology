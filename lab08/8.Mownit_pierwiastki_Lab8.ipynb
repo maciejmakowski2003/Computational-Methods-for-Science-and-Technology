{
 "cells": [
  {
   "cell_type": "markdown",
   "metadata": {},
   "source": [
    "# MOwNiT \n",
    "## Laboratorium\n",
    "### Znajdowanie pierwiastków"
   ]
  },
  {
   "cell_type": "markdown",
   "metadata": {},
   "source": [
    "Do poszukiwania pierwiastków funkcji w Julii używamy pakietu Roots"
   ]
  },
  {
   "cell_type": "markdown",
   "metadata": {},
   "source": [
    "```julia\n",
    "Pkg.add(\"Roots\")\n",
    "Pkg.add(\"ForwardDiff\")\n",
    "```"
   ]
  },
  {
   "cell_type": "code",
   "execution_count": 1,
   "metadata": {},
   "outputs": [],
   "source": [
    "using Pkg\n",
    "#Pkg.add(\"Roots\")\n",
    "#Pkg.add(\"ForwardDiff\")\n",
    "using Roots  \n",
    "using Plots\n",
    "using ForwardDiff"
   ]
  },
  {
   "cell_type": "code",
   "execution_count": 2,
   "metadata": {},
   "outputs": [
    {
     "data": {
      "image/png": "[encoded data removed]",
      "image/svg+xml": [
       "<?xml version=\"1.0\" encoding=\"utf-8\"?>\n",
       "<svg xmlns=\"http://www.w3.org/2000/svg\" xmlns:xlink=\"http://www.w3.org/1999/xlink\" width=\"600\" height=\"400\" viewBox=\"0 0 2400 1600\">\n",
       "<defs>\n",
       "  <clipPath id=\"clip680\">\n",
       "    <rect x=\"0\" y=\"0\" width=\"2400\" height=\"1600\"/>\n",
       "  </clipPath>\n",
       "</defs>\n",
       "<path clip-path=\"url(#clip680)\" d=\"M0 1600 L2400 1600 L2400 0 L0 0  Z\" fill=\"#ffffff\" fill-rule=\"evenodd\" fill-opacity=\"1\"/>\n",
       "<defs>\n",
       "  <clipPath id=\"clip681\">\n",
       "    <rect x=\"480\" y=\"0\" width=\"1681\" height=\"1600\"/>\n",
       "  </clipPath>\n",
       "</defs>\n",
       "<path clip-path=\"url(#clip680)\" d=\"M147.478 1486.45 L2352.76 1486.45 L2352.76 47.2441 L147.478 47.2441  Z\" fill=\"#ffffff\" fill-rule=\"evenodd\" fill-opacity=\"1\"/>\n",
       "<defs>\n",
       "  <clipPath id=\"clip682\">\n",
       "    <rect x=\"147\" y=\"47\" width=\"2206\" height=\"1440\"/>\n",
       "  </clipPath>\n",
       "</defs>\n",
       "<polyline clip-path=\"url(#clip682)\" style=\"stroke:#000000; stroke-linecap:round; stroke-linejoin:round; stroke-width:2; stroke-opacity:0.1; fill:none\" points=\"209.891,1486.45 209.891,47.2441 \"/>\n",
       "<polyline clip-path=\"url(#clip682)\" style=\"stroke:#000000; stroke-linecap:round; stroke-linejoin:round; stroke-width:2; stroke-opacity:0.1; fill:none\" points=\"730.004,1486.45 730.004,47.2441 \"/>\n",
       "<polyline clip-path=\"url(#clip682)\" style=\"stroke:#000000; stroke-linecap:round; stroke-linejoin:round; stroke-width:2; stroke-opacity:0.1; fill:none\" points=\"1250.12,1486.45 1250.12,47.2441 \"/>\n",
       "<polyline clip-path=\"url(#clip682)\" style=\"stroke:#000000; stroke-linecap:round; stroke-linejoin:round; stroke-width:2; stroke-opacity:0.1; fill:none\" points=\"1770.23,1486.45 1770.23,47.2441 \"/>\n",
       "<polyline clip-path=\"url(#clip682)\" style=\"stroke:#000000; stroke-linecap:round; stroke-linejoin:round; stroke-width:2; stroke-opacity:0.1; fill:none\" points=\"2290.34,1486.45 2290.34,47.2441 \"/>\n",
       "<polyline clip-path=\"url(#clip680)\" style=\"stroke:#000000; stroke-linecap:round; stroke-linejoin:round; stroke-width:4; stroke-opacity:1; fill:none\" points=\"147.478,1486.45 2352.76,1486.45 \"/>\n",
       "<polyline clip-path=\"url(#clip680)\" style=\"stroke:#000000; stroke-linecap:round; stroke-linejoin:round; stroke-width:4; stroke-opacity:1; fill:none\" points=\"209.891,1486.45 209.891,1467.55 \"/>\n",
       "<polyline clip-path=\"url(#clip680)\" style=\"stroke:#000000; stroke-linecap:round; stroke-linejoin:round; stroke-width:4; stroke-opacity:1; fill:none\" points=\"730.004,1486.45 730.004,1467.55 \"/>\n",
       "<polyline clip-path=\"url(#clip680)\" style=\"stroke:#000000; stroke-linecap:round; stroke-linejoin:round; stroke-width:4; stroke-opacity:1; fill:none\" points=\"1250.12,1486.45 1250.12,1467.55 \"/>\n",
       "<polyline clip-path=\"url(#clip680)\" style=\"stroke:#000000; stroke-linecap:round; stroke-linejoin:round; stroke-width:4; stroke-opacity:1; fill:none\" points=\"1770.23,1486.45 1770.23,1467.55 \"/>\n",
       "<polyline clip-path=\"url(#clip680)\" style=\"stroke:#000000; stroke-linecap:round; stroke-linejoin:round; stroke-width:4; stroke-opacity:1; fill:none\" points=\"2290.34,1486.45 2290.34,1467.55 \"/>\n",
       "<path clip-path=\"url(#clip680)\" d=\"M179.834 1532.02 L209.509 1532.02 L209.509 1535.95 L179.834 1535.95 L179.834 1532.02 Z\" fill=\"#000000\" fill-rule=\"nonzero\" fill-opacity=\"1\" /><path clip-path=\"url(#clip680)\" d=\"M223.63 1544.91 L239.949 1544.91 L239.949 1548.85 L218.005 1548.85 L218.005 1544.91 Q220.667 1542.16 225.25 1537.53 Q229.857 1532.88 231.037 1531.53 Q233.283 1529.01 234.162 1527.27 Q235.065 1525.51 235.065 1523.82 Q235.065 1521.07 233.12 1519.33 Q231.199 1517.6 228.097 1517.6 Q225.898 1517.6 223.445 1518.36 Q221.014 1519.13 218.236 1520.68 L218.236 1515.95 Q221.06 1514.82 223.514 1514.24 Q225.968 1513.66 228.005 1513.66 Q233.375 1513.66 236.57 1516.35 Q239.764 1519.03 239.764 1523.52 Q239.764 1525.65 238.954 1527.57 Q238.167 1529.47 236.06 1532.07 Q235.482 1532.74 232.38 1535.95 Q229.278 1539.15 223.63 1544.91 Z\" fill=\"#000000\" fill-rule=\"nonzero\" fill-opacity=\"1\" /><path clip-path=\"url(#clip680)\" d=\"M699.761 1532.02 L729.437 1532.02 L729.437 1535.95 L699.761 1535.95 L699.761 1532.02 Z\" fill=\"#000000\" fill-rule=\"nonzero\" fill-opacity=\"1\" /><path clip-path=\"url(#clip680)\" d=\"M740.34 1544.91 L747.979 1544.91 L747.979 1518.55 L739.668 1520.21 L739.668 1515.95 L747.932 1514.29 L752.608 1514.29 L752.608 1544.91 L760.247 1544.91 L760.247 1548.85 L740.34 1548.85 L740.34 1544.91 Z\" fill=\"#000000\" fill-rule=\"nonzero\" fill-opacity=\"1\" /><path clip-path=\"url(#clip680)\" d=\"M1250.12 1517.37 Q1246.51 1517.37 1244.68 1520.93 Q1242.87 1524.47 1242.87 1531.6 Q1242.87 1538.71 1244.68 1542.27 Q1246.51 1545.82 1250.12 1545.82 Q1253.75 1545.82 1255.56 1542.27 Q1257.39 1538.71 1257.39 1531.6 Q1257.39 1524.47 1255.56 1520.93 Q1253.75 1517.37 1250.12 1517.37 M1250.12 1513.66 Q1255.93 1513.66 1258.98 1518.27 Q1262.06 1522.85 1262.06 1531.6 Q1262.06 1540.33 1258.98 1544.94 Q1255.93 1549.52 1250.12 1549.52 Q1244.31 1549.52 1241.23 1544.94 Q1238.17 1540.33 1238.17 1531.6 Q1238.17 1522.85 1241.23 1518.27 Q1244.31 1513.66 1250.12 1513.66 Z\" fill=\"#000000\" fill-rule=\"nonzero\" fill-opacity=\"1\" /><path clip-path=\"url(#clip680)\" d=\"M1760.61 1544.91 L1768.25 1544.91 L1768.25 1518.55 L1759.94 1520.21 L1759.94 1515.95 L1768.2 1514.29 L1772.88 1514.29 L1772.88 1544.91 L1780.52 1544.91 L1780.52 1548.85 L1760.61 1548.85 L1760.61 1544.91 Z\" fill=\"#000000\" fill-rule=\"nonzero\" fill-opacity=\"1\" /><path clip-path=\"url(#clip680)\" d=\"M2285 1544.91 L2301.31 1544.91 L2301.31 1548.85 L2279.37 1548.85 L2279.37 1544.91 Q2282.03 1542.16 2286.62 1537.53 Q2291.22 1532.88 2292.4 1531.53 Q2294.65 1529.01 2295.53 1527.27 Q2296.43 1525.51 2296.43 1523.82 Q2296.43 1521.07 2294.49 1519.33 Q2292.56 1517.6 2289.46 1517.6 Q2287.26 1517.6 2284.81 1518.36 Q2282.38 1519.13 2279.6 1520.68 L2279.6 1515.95 Q2282.43 1514.82 2284.88 1514.24 Q2287.33 1513.66 2289.37 1513.66 Q2294.74 1513.66 2297.93 1516.35 Q2301.13 1519.03 2301.13 1523.52 Q2301.13 1525.65 2300.32 1527.57 Q2299.53 1529.47 2297.43 1532.07 Q2296.85 1532.74 2293.75 1535.95 Q2290.64 1539.15 2285 1544.91 Z\" fill=\"#000000\" fill-rule=\"nonzero\" fill-opacity=\"1\" /><polyline clip-path=\"url(#clip682)\" style=\"stroke:#000000; stroke-linecap:round; stroke-linejoin:round; stroke-width:2; stroke-opacity:0.1; fill:none\" points=\"147.478,1304.46 2352.76,1304.46 \"/>\n",
       "<polyline clip-path=\"url(#clip682)\" style=\"stroke:#000000; stroke-linecap:round; stroke-linejoin:round; stroke-width:2; stroke-opacity:0.1; fill:none\" points=\"147.478,965.026 2352.76,965.026 \"/>\n",
       "<polyline clip-path=\"url(#clip682)\" style=\"stroke:#000000; stroke-linecap:round; stroke-linejoin:round; stroke-width:2; stroke-opacity:0.1; fill:none\" points=\"147.478,625.591 2352.76,625.591 \"/>\n",
       "<polyline clip-path=\"url(#clip682)\" style=\"stroke:#000000; stroke-linecap:round; stroke-linejoin:round; stroke-width:2; stroke-opacity:0.1; fill:none\" points=\"147.478,286.156 2352.76,286.156 \"/>\n",
       "<polyline clip-path=\"url(#clip680)\" style=\"stroke:#000000; stroke-linecap:round; stroke-linejoin:round; stroke-width:4; stroke-opacity:1; fill:none\" points=\"147.478,1486.45 147.478,47.2441 \"/>\n",
       "<polyline clip-path=\"url(#clip680)\" style=\"stroke:#000000; stroke-linecap:round; stroke-linejoin:round; stroke-width:4; stroke-opacity:1; fill:none\" points=\"147.478,1304.46 166.376,1304.46 \"/>\n",
       "<polyline clip-path=\"url(#clip680)\" style=\"stroke:#000000; stroke-linecap:round; stroke-linejoin:round; stroke-width:4; stroke-opacity:1; fill:none\" points=\"147.478,965.026 166.376,965.026 \"/>\n",
       "<polyline clip-path=\"url(#clip680)\" style=\"stroke:#000000; stroke-linecap:round; stroke-linejoin:round; stroke-width:4; stroke-opacity:1; fill:none\" points=\"147.478,625.591 166.376,625.591 \"/>\n",
       "<polyline clip-path=\"url(#clip680)\" style=\"stroke:#000000; stroke-linecap:round; stroke-linejoin:round; stroke-width:4; stroke-opacity:1; fill:none\" points=\"147.478,286.156 166.376,286.156 \"/>\n",
       "<path clip-path=\"url(#clip680)\" d=\"M51.3625 1304.91 L81.0383 1304.91 L81.0383 1308.85 L51.3625 1308.85 L51.3625 1304.91 Z\" fill=\"#000000\" fill-rule=\"nonzero\" fill-opacity=\"1\" /><path clip-path=\"url(#clip680)\" d=\"M95.1586 1317.81 L111.478 1317.81 L111.478 1321.74 L89.5336 1321.74 L89.5336 1317.81 Q92.1956 1315.05 96.7789 1310.42 Q101.385 1305.77 102.566 1304.43 Q104.811 1301.9 105.691 1300.17 Q106.594 1298.41 106.594 1296.72 Q106.594 1293.96 104.649 1292.23 Q102.728 1290.49 99.6261 1290.49 Q97.4271 1290.49 94.9734 1291.26 Q92.5428 1292.02 89.7651 1293.57 L89.7651 1288.85 Q92.5891 1287.71 95.0428 1287.13 Q97.4965 1286.56 99.5335 1286.56 Q104.904 1286.56 108.098 1289.24 Q111.293 1291.93 111.293 1296.42 Q111.293 1298.55 110.483 1300.47 Q109.696 1302.37 107.589 1304.96 Q107.01 1305.63 103.909 1308.85 Q100.807 1312.04 95.1586 1317.81 Z\" fill=\"#000000\" fill-rule=\"nonzero\" fill-opacity=\"1\" /><path clip-path=\"url(#clip680)\" d=\"M50.9921 965.477 L80.6679 965.477 L80.6679 969.413 L50.9921 969.413 L50.9921 965.477 Z\" fill=\"#000000\" fill-rule=\"nonzero\" fill-opacity=\"1\" /><path clip-path=\"url(#clip680)\" d=\"M91.5706 978.371 L99.2095 978.371 L99.2095 952.005 L90.8993 953.672 L90.8993 949.413 L99.1632 947.746 L103.839 947.746 L103.839 978.371 L111.478 978.371 L111.478 982.306 L91.5706 982.306 L91.5706 978.371 Z\" fill=\"#000000\" fill-rule=\"nonzero\" fill-opacity=\"1\" /><path clip-path=\"url(#clip680)\" d=\"M99.5335 611.39 Q95.9224 611.39 94.0937 614.955 Q92.2882 618.496 92.2882 625.626 Q92.2882 632.732 94.0937 636.297 Q95.9224 639.839 99.5335 639.839 Q103.168 639.839 104.973 636.297 Q106.802 632.732 106.802 625.626 Q106.802 618.496 104.973 614.955 Q103.168 611.39 99.5335 611.39 M99.5335 607.686 Q105.344 607.686 108.399 612.293 Q111.478 616.876 111.478 625.626 Q111.478 634.353 108.399 638.959 Q105.344 643.543 99.5335 643.543 Q93.7234 643.543 90.6447 638.959 Q87.5892 634.353 87.5892 625.626 Q87.5892 616.876 90.6447 612.293 Q93.7234 607.686 99.5335 607.686 Z\" fill=\"#000000\" fill-rule=\"nonzero\" fill-opacity=\"1\" /><path clip-path=\"url(#clip680)\" d=\"M91.5706 299.501 L99.2095 299.501 L99.2095 273.136 L90.8993 274.802 L90.8993 270.543 L99.1632 268.876 L103.839 268.876 L103.839 299.501 L111.478 299.501 L111.478 303.436 L91.5706 303.436 L91.5706 299.501 Z\" fill=\"#000000\" fill-rule=\"nonzero\" fill-opacity=\"1\" /><polyline clip-path=\"url(#clip682)\" style=\"stroke:#009af9; stroke-linecap:round; stroke-linejoin:round; stroke-width:4; stroke-opacity:1; fill:none\" points=\"209.891,87.9763 223.436,88.7311 348.678,92.1664 423.943,92.4079 487.579,92.4731 556.705,93.1649 620.434,95.0334 688.757,99.0442 767.917,107.187 803.09,112.26 838.264,118.346 869.108,124.578 899.953,131.697 933.581,140.523 967.21,150.514 1001.04,161.788 1034.87,174.336 1072.27,189.741 1109.67,206.798 1145.26,224.598 1180.84,243.953 1217.84,265.748 1254.85,289.257 1285.99,310.378 1317.14,332.713 1355.17,361.616 1393.2,392.296 1428.03,421.934 1462.87,453.006 1495.04,482.945 1527.22,514.041 1559.81,546.68 1592.4,580.422 1628.92,619.488 1665.45,659.803 1698.55,697.345 1731.64,735.781 1807.43,826.791 1877.61,914.149 1946.79,1002.43 2013.96,1089.47 2082.82,1179.28 2158.27,1277.45 2267.86,1417.57 2290.34,1445.72 \"/>\n",
       "<path clip-path=\"url(#clip680)\" d=\"M2006.29 198.898 L2279.25 198.898 L2279.25 95.2176 L2006.29 95.2176  Z\" fill=\"#ffffff\" fill-rule=\"evenodd\" fill-opacity=\"1\"/>\n",
       "<polyline clip-path=\"url(#clip680)\" style=\"stroke:#000000; stroke-linecap:round; stroke-linejoin:round; stroke-width:4; stroke-opacity:1; fill:none\" points=\"2006.29,198.898 2279.25,198.898 2279.25,95.2176 2006.29,95.2176 2006.29,198.898 \"/>\n",
       "<polyline clip-path=\"url(#clip680)\" style=\"stroke:#009af9; stroke-linecap:round; stroke-linejoin:round; stroke-width:4; stroke-opacity:1; fill:none\" points=\"2030.79,147.058 2177.81,147.058 \"/>\n",
       "<path clip-path=\"url(#clip680)\" d=\"M2216.16 166.745 Q2214.35 171.375 2212.64 172.787 Q2210.92 174.199 2208.05 174.199 L2204.65 174.199 L2204.65 170.634 L2207.15 170.634 Q2208.91 170.634 2209.88 169.8 Q2210.85 168.967 2212.04 165.865 L2212.8 163.921 L2202.31 138.412 L2206.83 138.412 L2214.93 158.689 L2223.03 138.412 L2227.54 138.412 L2216.16 166.745 Z\" fill=\"#000000\" fill-rule=\"nonzero\" fill-opacity=\"1\" /><path clip-path=\"url(#clip680)\" d=\"M2234.84 160.402 L2242.48 160.402 L2242.48 134.037 L2234.16 135.703 L2234.16 131.444 L2242.43 129.778 L2247.1 129.778 L2247.1 160.402 L2254.74 160.402 L2254.74 164.338 L2234.84 164.338 L2234.84 160.402 Z\" fill=\"#000000\" fill-rule=\"nonzero\" fill-opacity=\"1\" /></svg>\n"
      ],
      "text/html": [
       "<?xml version=\"1.0\" encoding=\"utf-8\"?>\n",
       "<svg xmlns=\"http://www.w3.org/2000/svg\" xmlns:xlink=\"http://www.w3.org/1999/xlink\" width=\"600\" height=\"400\" viewBox=\"0 0 2400 1600\">\n",
       "<defs>\n",
       "  <clipPath id=\"clip730\">\n",
       "    <rect x=\"0\" y=\"0\" width=\"2400\" height=\"1600\"/>\n",
       "  </clipPath>\n",
       "</defs>\n",
       "<path clip-path=\"url(#clip730)\" d=\"M0 1600 L2400 1600 L2400 0 L0 0  Z\" fill=\"#ffffff\" fill-rule=\"evenodd\" fill-opacity=\"1\"/>\n",
       "<defs>\n",
       "  <clipPath id=\"clip731\">\n",
       "    <rect x=\"480\" y=\"0\" width=\"1681\" height=\"1600\"/>\n",
       "  </clipPath>\n",
       "</defs>\n",
       "<path clip-path=\"url(#clip730)\" d=\"M147.478 1486.45 L2352.76 1486.45 L2352.76 47.2441 L147.478 47.2441  Z\" fill=\"#ffffff\" fill-rule=\"evenodd\" fill-opacity=\"1\"/>\n",
       "<defs>\n",
       "  <clipPath id=\"clip732\">\n",
       "    <rect x=\"147\" y=\"47\" width=\"2206\" height=\"1440\"/>\n",
       "  </clipPath>\n",
       "</defs>\n",
       "<polyline clip-path=\"url(#clip732)\" style=\"stroke:#000000; stroke-linecap:round; stroke-linejoin:round; stroke-width:2; stroke-opacity:0.1; fill:none\" points=\"209.891,1486.45 209.891,47.2441 \"/>\n",
       "<polyline clip-path=\"url(#clip732)\" style=\"stroke:#000000; stroke-linecap:round; stroke-linejoin:round; stroke-width:2; stroke-opacity:0.1; fill:none\" points=\"730.004,1486.45 730.004,47.2441 \"/>\n",
       "<polyline clip-path=\"url(#clip732)\" style=\"stroke:#000000; stroke-linecap:round; stroke-linejoin:round; stroke-width:2; stroke-opacity:0.1; fill:none\" points=\"1250.12,1486.45 1250.12,47.2441 \"/>\n",
       "<polyline clip-path=\"url(#clip732)\" style=\"stroke:#000000; stroke-linecap:round; stroke-linejoin:round; stroke-width:2; stroke-opacity:0.1; fill:none\" points=\"1770.23,1486.45 1770.23,47.2441 \"/>\n",
       "<polyline clip-path=\"url(#clip732)\" style=\"stroke:#000000; stroke-linecap:round; stroke-linejoin:round; stroke-width:2; stroke-opacity:0.1; fill:none\" points=\"2290.34,1486.45 2290.34,47.2441 \"/>\n",
       "<polyline clip-path=\"url(#clip730)\" style=\"stroke:#000000; stroke-linecap:round; stroke-linejoin:round; stroke-width:4; stroke-opacity:1; fill:none\" points=\"147.478,1486.45 2352.76,1486.45 \"/>\n",
       "<polyline clip-path=\"url(#clip730)\" style=\"stroke:#000000; stroke-linecap:round; stroke-linejoin:round; stroke-width:4; stroke-opacity:1; fill:none\" points=\"209.891,1486.45 209.891,1467.55 \"/>\n",
       "<polyline clip-path=\"url(#clip730)\" style=\"stroke:#000000; stroke-linecap:round; stroke-linejoin:round; stroke-width:4; stroke-opacity:1; fill:none\" points=\"730.004,1486.45 730.004,1467.55 \"/>\n",
       "<polyline clip-path=\"url(#clip730)\" style=\"stroke:#000000; stroke-linecap:round; stroke-linejoin:round; stroke-width:4; stroke-opacity:1; fill:none\" points=\"1250.12,1486.45 1250.12,1467.55 \"/>\n",
       "<polyline clip-path=\"url(#clip730)\" style=\"stroke:#000000; stroke-linecap:round; stroke-linejoin:round; stroke-width:4; stroke-opacity:1; fill:none\" points=\"1770.23,1486.45 1770.23,1467.55 \"/>\n",
       "<polyline clip-path=\"url(#clip730)\" style=\"stroke:#000000; stroke-linecap:round; stroke-linejoin:round; stroke-width:4; stroke-opacity:1; fill:none\" points=\"2290.34,1486.45 2290.34,1467.55 \"/>\n",
       "<path clip-path=\"url(#clip730)\" d=\"M179.834 1532.02 L209.509 1532.02 L209.509 1535.95 L179.834 1535.95 L179.834 1532.02 Z\" fill=\"#000000\" fill-rule=\"nonzero\" fill-opacity=\"1\" /><path clip-path=\"url(#clip730)\" d=\"M223.63 1544.91 L239.949 1544.91 L239.949 1548.85 L218.005 1548.85 L218.005 1544.91 Q220.667 1542.16 225.25 1537.53 Q229.857 1532.88 231.037 1531.53 Q233.283 1529.01 234.162 1527.27 Q235.065 1525.51 235.065 1523.82 Q235.065 1521.07 233.12 1519.33 Q231.199 1517.6 228.097 1517.6 Q225.898 1517.6 223.445 1518.36 Q221.014 1519.13 218.236 1520.68 L218.236 1515.95 Q221.06 1514.82 223.514 1514.24 Q225.968 1513.66 228.005 1513.66 Q233.375 1513.66 236.57 1516.35 Q239.764 1519.03 239.764 1523.52 Q239.764 1525.65 238.954 1527.57 Q238.167 1529.47 236.06 1532.07 Q235.482 1532.74 232.38 1535.95 Q229.278 1539.15 223.63 1544.91 Z\" fill=\"#000000\" fill-rule=\"nonzero\" fill-opacity=\"1\" /><path clip-path=\"url(#clip730)\" d=\"M699.761 1532.02 L729.437 1532.02 L729.437 1535.95 L699.761 1535.95 L699.761 1532.02 Z\" fill=\"#000000\" fill-rule=\"nonzero\" fill-opacity=\"1\" /><path clip-path=\"url(#clip730)\" d=\"M740.34 1544.91 L747.979 1544.91 L747.979 1518.55 L739.668 1520.21 L739.668 1515.95 L747.932 1514.29 L752.608 1514.29 L752.608 1544.91 L760.247 1544.91 L760.247 1548.85 L740.34 1548.85 L740.34 1544.91 Z\" fill=\"#000000\" fill-rule=\"nonzero\" fill-opacity=\"1\" /><path clip-path=\"url(#clip730)\" d=\"M1250.12 1517.37 Q1246.51 1517.37 1244.68 1520.93 Q1242.87 1524.47 1242.87 1531.6 Q1242.87 1538.71 1244.68 1542.27 Q1246.51 1545.82 1250.12 1545.82 Q1253.75 1545.82 1255.56 1542.27 Q1257.39 1538.71 1257.39 1531.6 Q1257.39 1524.47 1255.56 1520.93 Q1253.75 1517.37 1250.12 1517.37 M1250.12 1513.66 Q1255.93 1513.66 1258.98 1518.27 Q1262.06 1522.85 1262.06 1531.6 Q1262.06 1540.33 1258.98 1544.94 Q1255.93 1549.52 1250.12 1549.52 Q1244.31 1549.52 1241.23 1544.94 Q1238.17 1540.33 1238.17 1531.6 Q1238.17 1522.85 1241.23 1518.27 Q1244.31 1513.66 1250.12 1513.66 Z\" fill=\"#000000\" fill-rule=\"nonzero\" fill-opacity=\"1\" /><path clip-path=\"url(#clip730)\" d=\"M1760.61 1544.91 L1768.25 1544.91 L1768.25 1518.55 L1759.94 1520.21 L1759.94 1515.95 L1768.2 1514.29 L1772.88 1514.29 L1772.88 1544.91 L1780.52 1544.91 L1780.52 1548.85 L1760.61 1548.85 L1760.61 1544.91 Z\" fill=\"#000000\" fill-rule=\"nonzero\" fill-opacity=\"1\" /><path clip-path=\"url(#clip730)\" d=\"M2285 1544.91 L2301.31 1544.91 L2301.31 1548.85 L2279.37 1548.85 L2279.37 1544.91 Q2282.03 1542.16 2286.62 1537.53 Q2291.22 1532.88 2292.4 1531.53 Q2294.65 1529.01 2295.53 1527.27 Q2296.43 1525.51 2296.43 1523.82 Q2296.43 1521.07 2294.49 1519.33 Q2292.56 1517.6 2289.46 1517.6 Q2287.26 1517.6 2284.81 1518.36 Q2282.38 1519.13 2279.6 1520.68 L2279.6 1515.95 Q2282.43 1514.82 2284.88 1514.24 Q2287.33 1513.66 2289.37 1513.66 Q2294.74 1513.66 2297.93 1516.35 Q2301.13 1519.03 2301.13 1523.52 Q2301.13 1525.65 2300.32 1527.57 Q2299.53 1529.47 2297.43 1532.07 Q2296.85 1532.74 2293.75 1535.95 Q2290.64 1539.15 2285 1544.91 Z\" fill=\"#000000\" fill-rule=\"nonzero\" fill-opacity=\"1\" /><polyline clip-path=\"url(#clip732)\" style=\"stroke:#000000; stroke-linecap:round; stroke-linejoin:round; stroke-width:2; stroke-opacity:0.1; fill:none\" points=\"147.478,1304.46 2352.76,1304.46 \"/>\n",
       "<polyline clip-path=\"url(#clip732)\" style=\"stroke:#000000; stroke-linecap:round; stroke-linejoin:round; stroke-width:2; stroke-opacity:0.1; fill:none\" points=\"147.478,965.026 2352.76,965.026 \"/>\n",
       "<polyline clip-path=\"url(#clip732)\" style=\"stroke:#000000; stroke-linecap:round; stroke-linejoin:round; stroke-width:2; stroke-opacity:0.1; fill:none\" points=\"147.478,625.591 2352.76,625.591 \"/>\n",
       "<polyline clip-path=\"url(#clip732)\" style=\"stroke:#000000; stroke-linecap:round; stroke-linejoin:round; stroke-width:2; stroke-opacity:0.1; fill:none\" points=\"147.478,286.156 2352.76,286.156 \"/>\n",
       "<polyline clip-path=\"url(#clip730)\" style=\"stroke:#000000; stroke-linecap:round; stroke-linejoin:round; stroke-width:4; stroke-opacity:1; fill:none\" points=\"147.478,1486.45 147.478,47.2441 \"/>\n",
       "<polyline clip-path=\"url(#clip730)\" style=\"stroke:#000000; stroke-linecap:round; stroke-linejoin:round; stroke-width:4; stroke-opacity:1; fill:none\" points=\"147.478,1304.46 166.376,1304.46 \"/>\n",
       "<polyline clip-path=\"url(#clip730)\" style=\"stroke:#000000; stroke-linecap:round; stroke-linejoin:round; stroke-width:4; stroke-opacity:1; fill:none\" points=\"147.478,965.026 166.376,965.026 \"/>\n",
       "<polyline clip-path=\"url(#clip730)\" style=\"stroke:#000000; stroke-linecap:round; stroke-linejoin:round; stroke-width:4; stroke-opacity:1; fill:none\" points=\"147.478,625.591 166.376,625.591 \"/>\n",
       "<polyline clip-path=\"url(#clip730)\" style=\"stroke:#000000; stroke-linecap:round; stroke-linejoin:round; stroke-width:4; stroke-opacity:1; fill:none\" points=\"147.478,286.156 166.376,286.156 \"/>\n",
       "<path clip-path=\"url(#clip730)\" d=\"M51.3625 1304.91 L81.0383 1304.91 L81.0383 1308.85 L51.3625 1308.85 L51.3625 1304.91 Z\" fill=\"#000000\" fill-rule=\"nonzero\" fill-opacity=\"1\" /><path clip-path=\"url(#clip730)\" d=\"M95.1586 1317.81 L111.478 1317.81 L111.478 1321.74 L89.5336 1321.74 L89.5336 1317.81 Q92.1956 1315.05 96.7789 1310.42 Q101.385 1305.77 102.566 1304.43 Q104.811 1301.9 105.691 1300.17 Q106.594 1298.41 106.594 1296.72 Q106.594 1293.96 104.649 1292.23 Q102.728 1290.49 99.6261 1290.49 Q97.4271 1290.49 94.9734 1291.26 Q92.5428 1292.02 89.7651 1293.57 L89.7651 1288.85 Q92.5891 1287.71 95.0428 1287.13 Q97.4965 1286.56 99.5335 1286.56 Q104.904 1286.56 108.098 1289.24 Q111.293 1291.93 111.293 1296.42 Q111.293 1298.55 110.483 1300.47 Q109.696 1302.37 107.589 1304.96 Q107.01 1305.63 103.909 1308.85 Q100.807 1312.04 95.1586 1317.81 Z\" fill=\"#000000\" fill-rule=\"nonzero\" fill-opacity=\"1\" /><path clip-path=\"url(#clip730)\" d=\"M50.9921 965.477 L80.6679 965.477 L80.6679 969.413 L50.9921 969.413 L50.9921 965.477 Z\" fill=\"#000000\" fill-rule=\"nonzero\" fill-opacity=\"1\" /><path clip-path=\"url(#clip730)\" d=\"M91.5706 978.371 L99.2095 978.371 L99.2095 952.005 L90.8993 953.672 L90.8993 949.413 L99.1632 947.746 L103.839 947.746 L103.839 978.371 L111.478 978.371 L111.478 982.306 L91.5706 982.306 L91.5706 978.371 Z\" fill=\"#000000\" fill-rule=\"nonzero\" fill-opacity=\"1\" /><path clip-path=\"url(#clip730)\" d=\"M99.5335 611.39 Q95.9224 611.39 94.0937 614.955 Q92.2882 618.496 92.2882 625.626 Q92.2882 632.732 94.0937 636.297 Q95.9224 639.839 99.5335 639.839 Q103.168 639.839 104.973 636.297 Q106.802 632.732 106.802 625.626 Q106.802 618.496 104.973 614.955 Q103.168 611.39 99.5335 611.39 M99.5335 607.686 Q105.344 607.686 108.399 612.293 Q111.478 616.876 111.478 625.626 Q111.478 634.353 108.399 638.959 Q105.344 643.543 99.5335 643.543 Q93.7234 643.543 90.6447 638.959 Q87.5892 634.353 87.5892 625.626 Q87.5892 616.876 90.6447 612.293 Q93.7234 607.686 99.5335 607.686 Z\" fill=\"#000000\" fill-rule=\"nonzero\" fill-opacity=\"1\" /><path clip-path=\"url(#clip730)\" d=\"M91.5706 299.501 L99.2095 299.501 L99.2095 273.136 L90.8993 274.802 L90.8993 270.543 L99.1632 268.876 L103.839 268.876 L103.839 299.501 L111.478 299.501 L111.478 303.436 L91.5706 303.436 L91.5706 299.501 Z\" fill=\"#000000\" fill-rule=\"nonzero\" fill-opacity=\"1\" /><polyline clip-path=\"url(#clip732)\" style=\"stroke:#009af9; stroke-linecap:round; stroke-linejoin:round; stroke-width:4; stroke-opacity:1; fill:none\" points=\"209.891,87.9763 223.436,88.7311 348.678,92.1664 423.943,92.4079 487.579,92.4731 556.705,93.1649 620.434,95.0334 688.757,99.0442 767.917,107.187 803.09,112.26 838.264,118.346 869.108,124.578 899.953,131.697 933.581,140.523 967.21,150.514 1001.04,161.788 1034.87,174.336 1072.27,189.741 1109.67,206.798 1145.26,224.598 1180.84,243.953 1217.84,265.748 1254.85,289.257 1285.99,310.378 1317.14,332.713 1355.17,361.616 1393.2,392.296 1428.03,421.934 1462.87,453.006 1495.04,482.945 1527.22,514.041 1559.81,546.68 1592.4,580.422 1628.92,619.488 1665.45,659.803 1698.55,697.345 1731.64,735.781 1807.43,826.791 1877.61,914.149 1946.79,1002.43 2013.96,1089.47 2082.82,1179.28 2158.27,1277.45 2267.86,1417.57 2290.34,1445.72 \"/>\n",
       "<path clip-path=\"url(#clip730)\" d=\"M2006.29 198.898 L2279.25 198.898 L2279.25 95.2176 L2006.29 95.2176  Z\" fill=\"#ffffff\" fill-rule=\"evenodd\" fill-opacity=\"1\"/>\n",
       "<polyline clip-path=\"url(#clip730)\" style=\"stroke:#000000; stroke-linecap:round; stroke-linejoin:round; stroke-width:4; stroke-opacity:1; fill:none\" points=\"2006.29,198.898 2279.25,198.898 2279.25,95.2176 2006.29,95.2176 2006.29,198.898 \"/>\n",
       "<polyline clip-path=\"url(#clip730)\" style=\"stroke:#009af9; stroke-linecap:round; stroke-linejoin:round; stroke-width:4; stroke-opacity:1; fill:none\" points=\"2030.79,147.058 2177.81,147.058 \"/>\n",
       "<path clip-path=\"url(#clip730)\" d=\"M2216.16 166.745 Q2214.35 171.375 2212.64 172.787 Q2210.92 174.199 2208.05 174.199 L2204.65 174.199 L2204.65 170.634 L2207.15 170.634 Q2208.91 170.634 2209.88 169.8 Q2210.85 168.967 2212.04 165.865 L2212.8 163.921 L2202.31 138.412 L2206.83 138.412 L2214.93 158.689 L2223.03 138.412 L2227.54 138.412 L2216.16 166.745 Z\" fill=\"#000000\" fill-rule=\"nonzero\" fill-opacity=\"1\" /><path clip-path=\"url(#clip730)\" d=\"M2234.84 160.402 L2242.48 160.402 L2242.48 134.037 L2234.16 135.703 L2234.16 131.444 L2242.43 129.778 L2247.1 129.778 L2247.1 160.402 L2254.74 160.402 L2254.74 164.338 L2234.84 164.338 L2234.84 160.402 Z\" fill=\"#000000\" fill-rule=\"nonzero\" fill-opacity=\"1\" /></svg>\n"
      ]
     },
     "execution_count": 2,
     "metadata": {},
     "output_type": "execute_result"
    }
   ],
   "source": [
    "# przykładowa funkcja do testów\n",
    "f(x) = cos(x) - x\n",
    "plot(f, -2, 2)"
   ]
  },
  {
   "cell_type": "markdown",
   "metadata": {},
   "source": [
    "Funkcja <i> find_zero</i>  dobiera odpowiedni algorytm w zależności od sposobu wywołania.\n"
   ]
  },
  {
   "cell_type": "markdown",
   "metadata": {},
   "source": [
    "### 1. Metody wykorzytujące  przedział i zmianę znaku"
   ]
  },
  {
   "cell_type": "markdown",
   "metadata": {},
   "source": [
    "#### 1.1 Metoda bisekcji - jesli wywołamy fzero z podaniem  przedziału (tutaj (0,1))"
   ]
  },
  {
   "cell_type": "code",
   "execution_count": 3,
   "metadata": {},
   "outputs": [
    {
     "data": {
      "text/plain": [
       "Results of univariate zero finding:\n",
       "\n",
       "* Converged to: 0.7390851332151607\n",
       "* Algorithm: Bisection()\n",
       "* iterations: 60\n",
       "* function evaluations ≈ 63\n",
       "* stopped as f(x_n) = 0\n",
       "\n",
       "Trace:\n",
       "(a₀, b₀) = ( 1.118751109680031e-154, 1 )\n",
       "(a₁, b₁) = ( 1.0795210693868056e-77, 1 )\n",
       "(a₂, b₂) = ( 3.3060778616876836e-39, 1 )\n",
       "(a₃, b₃) = ( 5.7598240413292423e-20, 1 )\n",
       "(a₄, b₄) = ( 2.4010660126805305e-10, 1 )\n",
       "(a₅, b₅) = ( 1.5497207641601562e-05, 1 )\n",
       "(a₆, b₆) = ( 0.003936767578125, 1 )\n",
       "(a₇, b₇) = ( 0.062744140625, 1 )\n",
       "(a₈, b₈) = ( 0.25048828125, 1 )\n",
       "(a₉, b₉) = ( 0.50048828125, 1 )\n",
       "(a₁₀, b₁₀) = ( 0.50048828125, 0.750244140625 )\n",
       "(a₁₁, b₁₁) = ( 0.6253662109375, 0.750244140625 )\n",
       "(a₁₂, b₁₂) = ( 0.68780517578125, 0.750244140625 )\n",
       "(a₁₃, b₁₃) = ( 0.719024658203125, 0.750244140625 )\n",
       "(a₁₄, b₁₄) = ( 0.7346343994140625, 0.750244140625 )\n",
       "(a₁₅, b₁₅) = ( 0.7346343994140625, 0.74243927001953125 )\n",
       "(a₁₆, b₁₆) = ( 0.73853683471679688, 0.74243927001953125 )\n",
       "(a₁₇, b₁₇) = ( 0.73853683471679688, 0.74048805236816406 )\n",
       "(a₁₈, b₁₈) = ( 0.73853683471679688, 0.73951244354248047 )\n",
       "(a₁₉, b₁₉) = ( 0.73902463912963867, 0.73951244354248047 )\n",
       "(a₂₀, b₂₀) = ( 0.73902463912963867, 0.73926854133605957 )\n",
       "(a₂₁, b₂₁) = ( 0.73902463912963867, 0.73914659023284912 )\n",
       "(a₂₂, b₂₂) = ( 0.73902463912963867, 0.7390856146812439 )\n",
       "(a₂₃, b₂₃) = ( 0.73905512690544128, 0.7390856146812439 )\n",
       "(a₂₄, b₂₄) = ( 0.73907037079334259, 0.7390856146812439 )\n",
       "(a₂₅, b₂₅) = ( 0.73907799273729324, 0.7390856146812439 )\n",
       "(a₂₆, b₂₆) = ( 0.73908180370926857, 0.7390856146812439 )\n",
       "(a₂₇, b₂₇) = ( 0.73908370919525623, 0.7390856146812439 )\n",
       "(a₂₈, b₂₈) = ( 0.73908466193825006, 0.7390856146812439 )\n",
       "(a₂₉, b₂₉) = ( 0.73908466193825006, 0.73908513830974698 )\n",
       "(a₃₀, b₃₀) = ( 0.73908490012399852, 0.73908513830974698 )\n",
       "(a₃₁, b₃₁) = ( 0.73908501921687275, 0.73908513830974698 )\n",
       "(a₃₂, b₃₂) = ( 0.73908507876330987, 0.73908513830974698 )\n",
       "(a₃₃, b₃₃) = ( 0.73908510853652842, 0.73908513830974698 )\n",
       "(a₃₄, b₃₄) = ( 0.7390851234231377, 0.73908513830974698 )\n",
       "(a₃₅, b₃₅) = ( 0.73908513086644234, 0.73908513830974698 )\n",
       "(a₃₆, b₃₆) = ( 0.73908513086644234, 0.73908513458809466 )\n",
       "(a₃₇, b₃₇) = ( 0.7390851327272685, 0.73908513458809466 )\n",
       "(a₃₈, b₃₈) = ( 0.7390851327272685, 0.73908513365768158 )\n",
       "(a₃₉, b₃₉) = ( 0.73908513319247504, 0.73908513365768158 )\n",
       "(a₄₀, b₄₀) = ( 0.73908513319247504, 0.73908513342507831 )\n",
       "(a₄₁, b₄₁) = ( 0.73908513319247504, 0.73908513330877668 )\n",
       "(a₄₂, b₄₂) = ( 0.73908513319247504, 0.73908513325062586 )\n",
       "(a₄₃, b₄₃) = ( 0.73908513319247504, 0.73908513322155045 )\n",
       "(a₄₄, b₄₄) = ( 0.73908513320701275, 0.73908513322155045 )\n",
       "(a₄₅, b₄₅) = ( 0.7390851332142816, 0.73908513322155045 )\n",
       "(a₄₆, b₄₆) = ( 0.7390851332142816, 0.73908513321791602 )\n",
       "(a₄₇, b₄₇) = ( 0.7390851332142816, 0.73908513321609881 )\n",
       "(a₄₈, b₄₈) = ( 0.7390851332142816, 0.7390851332151902 )\n",
       "(a₄₉, b₄₉) = ( 0.7390851332147359, 0.7390851332151902 )\n",
       "(a₅₀, b₅₀) = ( 0.73908513321496305, 0.7390851332151902 )\n",
       "(a₅₁, b₅₁) = ( 0.73908513321507663, 0.7390851332151902 )\n",
       "(a₅₂, b₅₂) = ( 0.73908513321513336, 0.7390851332151902 )\n",
       "(a₅₃, b₅₃) = ( 0.73908513321513336, 0.73908513321516178 )\n",
       "(a₅₄, b₅₄) = ( 0.73908513321514757, 0.73908513321516178 )\n",
       "(a₅₅, b₅₅) = ( 0.73908513321515468, 0.73908513321516178 )\n",
       "(a₅₆, b₅₆) = ( 0.73908513321515823, 0.73908513321516178 )\n",
       "(a₅₇, b₅₇) = ( 0.73908513321516001, 0.73908513321516178 )\n",
       "(a₅₈, b₅₈) = ( 0.73908513321516001, 0.73908513321516089 )\n",
       "(a₅₉, b₅₉) = ( 0.73908513321516045, 0.73908513321516089 )\n",
       "(a₆₀, b₆₀) = ( 0.73908513321516067, 0.73908513321516089 )\n",
       "\n"
      ]
     },
     "metadata": {},
     "output_type": "display_data"
    },
    {
     "data": {
      "text/plain": [
       "0.7390851332151607"
      ]
     },
     "execution_count": 3,
     "metadata": {},
     "output_type": "execute_result"
    }
   ],
   "source": [
    "x = find_zero(f, (0, 1),verbose=true)  "
   ]
  },
  {
   "cell_type": "code",
   "execution_count": 4,
   "metadata": {},
   "outputs": [
    {
     "data": {
      "text/plain": [
       "Results of univariate zero finding:\n",
       "\n",
       "* Converged to: 0.7390851332151607\n",
       "* Algorithm: Bisection()\n",
       "* iterations: 60\n",
       "* function evaluations ≈ 63\n",
       "* stopped as f(x_n) = 0\n",
       "\n",
       "Trace:\n",
       "(a₀, b₀) = ( 1.118751109680031e-154, 1 )\n",
       "(a₁, b₁) = ( 1.0795210693868056e-77, 1 )\n",
       "(a₂, b₂) = ( 3.3060778616876836e-39, 1 )\n",
       "(a₃, b₃) = ( 5.7598240413292423e-20, 1 )\n",
       "(a₄, b₄) = ( 2.4010660126805305e-10, 1 )\n",
       "(a₅, b₅) = ( 1.5497207641601562e-05, 1 )\n",
       "(a₆, b₆) = ( 0.003936767578125, 1 )\n",
       "(a₇, b₇) = ( 0.062744140625, 1 )\n",
       "(a₈, b₈) = ( 0.25048828125, 1 )\n",
       "(a₉, b₉) = ( 0.50048828125, 1 )\n",
       "(a₁₀, b₁₀) = ( 0.50048828125, 0.750244140625 )\n",
       "(a₁₁, b₁₁) = ( 0.6253662109375, 0.750244140625 )\n",
       "(a₁₂, b₁₂) = ( 0.68780517578125, 0.750244140625 )\n",
       "(a₁₃, b₁₃) = ( 0.719024658203125, 0.750244140625 )\n",
       "(a₁₄, b₁₄) = ( 0.7346343994140625, 0.750244140625 )\n",
       "(a₁₅, b₁₅) = ( 0.7346343994140625, 0.74243927001953125 )\n",
       "(a₁₆, b₁₆) = ( 0.73853683471679688, 0.74243927001953125 )\n",
       "(a₁₇, b₁₇) = ( 0.73853683471679688, 0.74048805236816406 )\n",
       "(a₁₈, b₁₈) = ( 0.73853683471679688, 0.73951244354248047 )\n",
       "(a₁₉, b₁₉) = ( 0.73902463912963867, 0.73951244354248047 )\n",
       "(a₂₀, b₂₀) = ( 0.73902463912963867, 0.73926854133605957 )\n",
       "(a₂₁, b₂₁) = ( 0.73902463912963867, 0.73914659023284912 )\n",
       "(a₂₂, b₂₂) = ( 0.73902463912963867, 0.7390856146812439 )\n",
       "(a₂₃, b₂₃) = ( 0.73905512690544128, 0.7390856146812439 )\n",
       "(a₂₄, b₂₄) = ( 0.73907037079334259, 0.7390856146812439 )\n",
       "(a₂₅, b₂₅) = ( 0.73907799273729324, 0.7390856146812439 )\n",
       "(a₂₆, b₂₆) = ( 0.73908180370926857, 0.7390856146812439 )\n",
       "(a₂₇, b₂₇) = ( 0.73908370919525623, 0.7390856146812439 )\n",
       "(a₂₈, b₂₈) = ( 0.73908466193825006, 0.7390856146812439 )\n",
       "(a₂₉, b₂₉) = ( 0.73908466193825006, 0.73908513830974698 )\n",
       "(a₃₀, b₃₀) = ( 0.73908490012399852, 0.73908513830974698 )\n",
       "(a₃₁, b₃₁) = ( 0.73908501921687275, 0.73908513830974698 )\n",
       "(a₃₂, b₃₂) = ( 0.73908507876330987, 0.73908513830974698 )\n",
       "(a₃₃, b₃₃) = ( 0.73908510853652842, 0.73908513830974698 )\n",
       "(a₃₄, b₃₄) = ( 0.7390851234231377, 0.73908513830974698 )\n",
       "(a₃₅, b₃₅) = ( 0.73908513086644234, 0.73908513830974698 )\n",
       "(a₃₆, b₃₆) = ( 0.73908513086644234, 0.73908513458809466 )\n",
       "(a₃₇, b₃₇) = ( 0.7390851327272685, 0.73908513458809466 )\n",
       "(a₃₈, b₃₈) = ( 0.7390851327272685, 0.73908513365768158 )\n",
       "(a₃₉, b₃₉) = ( 0.73908513319247504, 0.73908513365768158 )\n",
       "(a₄₀, b₄₀) = ( 0.73908513319247504, 0.73908513342507831 )\n",
       "(a₄₁, b₄₁) = ( 0.73908513319247504, 0.73908513330877668 )\n",
       "(a₄₂, b₄₂) = ( 0.73908513319247504, 0.73908513325062586 )\n",
       "(a₄₃, b₄₃) = ( 0.73908513319247504, 0.73908513322155045 )\n",
       "(a₄₄, b₄₄) = ( 0.73908513320701275, 0.73908513322155045 )\n",
       "(a₄₅, b₄₅) = ( 0.7390851332142816, 0.73908513322155045 )\n",
       "(a₄₆, b₄₆) = ( 0.7390851332142816, 0.73908513321791602 )\n",
       "(a₄₇, b₄₇) = ( 0.7390851332142816, 0.73908513321609881 )\n",
       "(a₄₈, b₄₈) = ( 0.7390851332142816, 0.7390851332151902 )\n",
       "(a₄₉, b₄₉) = ( 0.7390851332147359, 0.7390851332151902 )\n",
       "(a₅₀, b₅₀) = ( 0.73908513321496305, 0.7390851332151902 )\n",
       "(a₅₁, b₅₁) = ( 0.73908513321507663, 0.7390851332151902 )\n",
       "(a₅₂, b₅₂) = ( 0.73908513321513336, 0.7390851332151902 )\n",
       "(a₅₃, b₅₃) = ( 0.73908513321513336, 0.73908513321516178 )\n",
       "(a₅₄, b₅₄) = ( 0.73908513321514757, 0.73908513321516178 )\n",
       "(a₅₅, b₅₅) = ( 0.73908513321515468, 0.73908513321516178 )\n",
       "(a₅₆, b₅₆) = ( 0.73908513321515823, 0.73908513321516178 )\n",
       "(a₅₇, b₅₇) = ( 0.73908513321516001, 0.73908513321516178 )\n",
       "(a₅₈, b₅₈) = ( 0.73908513321516001, 0.73908513321516089 )\n",
       "(a₅₉, b₅₉) = ( 0.73908513321516045, 0.73908513321516089 )\n",
       "(a₆₀, b₆₀) = ( 0.73908513321516067, 0.73908513321516089 )\n",
       "\n"
      ]
     },
     "metadata": {},
     "output_type": "display_data"
    },
    {
     "data": {
      "text/plain": [
       "0.7390851332151607"
      ]
     },
     "execution_count": 4,
     "metadata": {},
     "output_type": "execute_result"
    }
   ],
   "source": [
    "# mozna wyspecyfikowac wprost\n",
    "x = find_zero(f, (0, 1), Bisection(),verbose=true)  "
   ]
  },
  {
   "cell_type": "markdown",
   "metadata": {},
   "source": [
    "#### Sprawdzanie, czy znaleźliśmy 0"
   ]
  },
  {
   "cell_type": "code",
   "execution_count": 5,
   "metadata": {},
   "outputs": [
    {
     "data": {
      "text/plain": [
       "true"
      ]
     },
     "execution_count": 5,
     "metadata": {},
     "output_type": "execute_result"
    }
   ],
   "source": [
    "#Sprawdzamy czy znaleźliśmy 0\n",
    "iszero(f(x))"
   ]
  },
  {
   "cell_type": "code",
   "execution_count": 6,
   "metadata": {},
   "outputs": [
    {
     "data": {
      "text/plain": [
       "-1.0"
      ]
     },
     "execution_count": 6,
     "metadata": {},
     "output_type": "execute_result"
    }
   ],
   "source": [
    "# można też sprawdzić, czy funkcja zmienia znak dla lewego i prawego sąsiada miejsca zerowego.\n",
    "sign(f(prevfloat(x))) *sign(f(nextfloat(x))) "
   ]
  },
  {
   "cell_type": "code",
   "execution_count": 7,
   "metadata": {},
   "outputs": [
    {
     "data": {
      "text/plain": [
       "(3.141592653589793, 1.2246467991473532e-16)"
      ]
     },
     "execution_count": 7,
     "metadata": {},
     "output_type": "execute_result"
    }
   ],
   "source": [
    "# czasem algorytm znajduje najlepsze przybliżenie 0\n",
    "g(x) = sin(x)\n",
    "x = find_zero(g, (pi/2, 3pi/2))\n",
    "x, g(x)"
   ]
  },
  {
   "cell_type": "code",
   "execution_count": 8,
   "metadata": {},
   "outputs": [
    {
     "data": {
      "text/plain": [
       "false"
      ]
     },
     "execution_count": 8,
     "metadata": {},
     "output_type": "execute_result"
    }
   ],
   "source": [
    "# nie jest to dokładnie 0, ale ...\n",
    "iszero(g(x))"
   ]
  },
  {
   "cell_type": "code",
   "execution_count": 9,
   "metadata": {},
   "outputs": [
    {
     "data": {
      "text/plain": [
       "true"
      ]
     },
     "execution_count": 9,
     "metadata": {},
     "output_type": "execute_result"
    }
   ],
   "source": [
    "#... najbliższy lewy albo prawy sąsiad leży po przeciwnej stronie osi x  niż nasze 0.\n",
    "g(prevfloat(x)) * g(x) < 0.0 || g(x) * g(nextfloat(x)) < 0.0"
   ]
  },
  {
   "cell_type": "markdown",
   "metadata": {},
   "source": [
    "#### 1.2 Metoda regula falsi"
   ]
  },
  {
   "cell_type": "code",
   "execution_count": 10,
   "metadata": {},
   "outputs": [
    {
     "data": {
      "text/plain": [
       "Results of univariate zero finding:\n",
       "\n",
       "* Converged to: 0.7390851332151607\n",
       "* Algorithm: FalsePosition{:anderson_bjork}()\n",
       "* iterations: 6\n",
       "* function evaluations ≈ 8\n",
       "* stopped as f(x_n) = 0\n",
       "\n",
       "Trace:\n",
       "x₁ = 1.118751109680031e-154,\t fx₁ = 1\n",
       "x₂ = 1,\t fx₂ = -0.45969769413186023\n",
       "x₃ = 0.68507335732604513,\t fx₃ = 0.089299276481859979\n",
       "x₄ = 0.73629899761365403,\t fx₄ = 0.0046600390381426049\n",
       "x₅ = 0.7390895164441823,\t fx₅ = -7.3358319172545094e-06\n",
       "x₆ = 0.73908513051468816,\t fx₆ = 4.5195431841449363e-09\n",
       "x₇ = 0.73908513321515801,\t fx₇ = 4.4408920985006262e-15\n",
       "x₈ = 0.73908513321516067,\t fx₈ = 0\n",
       "\n"
      ]
     },
     "metadata": {},
     "output_type": "display_data"
    },
    {
     "data": {
      "text/plain": [
       "0.7390851332151607"
      ]
     },
     "execution_count": 10,
     "metadata": {},
     "output_type": "execute_result"
    }
   ],
   "source": [
    "find_zero(f, (0, 1), FalsePosition(), verbose=true) "
   ]
  },
  {
   "cell_type": "code",
   "execution_count": 11,
   "metadata": {},
   "outputs": [
    {
     "data": {
      "text/plain": [
       "Results of univariate zero finding:\n",
       "\n",
       "* Converged to: 0.7390851332151607\n",
       "* Algorithm: FalsePosition{12}()\n",
       "* iterations: 6\n",
       "* function evaluations ≈ 8\n",
       "* stopped as f(x_n) = 0\n",
       "\n",
       "Trace:\n",
       "x₁ = 1.118751109680031e-154,\t fx₁ = 1\n",
       "x₂ = 1,\t fx₂ = -0.45969769413186023\n",
       "x₃ = 0.68507335732604513,\t fx₃ = 0.089299276481859979\n",
       "x₄ = 0.73629899761365403,\t fx₄ = 0.0046600390381426049\n",
       "x₅ = 0.7390895164441823,\t fx₅ = -7.3358319172545094e-06\n",
       "x₆ = 0.73908513051468816,\t fx₆ = 4.5195431841449363e-09\n",
       "x₇ = 0.73908513321515801,\t fx₇ = 4.4408920985006262e-15\n",
       "x₈ = 0.73908513321516067,\t fx₈ = 0\n",
       "\n"
      ]
     },
     "metadata": {},
     "output_type": "display_data"
    },
    {
     "data": {
      "text/plain": [
       "0.7390851332151607"
      ]
     },
     "execution_count": 11,
     "metadata": {},
     "output_type": "execute_result"
    }
   ],
   "source": [
    "# do dyspozycji mamy  12 wersji algorytmu regula falsi\n",
    "find_zero(f, (0, 1), FalsePosition(12), verbose=true)"
   ]
  },
  {
   "cell_type": "markdown",
   "metadata": {},
   "source": [
    "### 2. Metody korzystające z pochodnych\n",
    "\n",
    "#### 2.1 Metoda Newtona, potrzebuje punktu startowego i wykorzystuje pochodną funkcji."
   ]
  },
  {
   "cell_type": "markdown",
   "metadata": {},
   "source": [
    "Aby użyć Metody Newtona, można skorzystać z pakietu ForwardDiff, aby obliczyć pochodną funkcji. "
   ]
  },
  {
   "cell_type": "code",
   "execution_count": 12,
   "metadata": {},
   "outputs": [
    {
     "data": {
      "text/plain": [
       "D (generic function with 1 method)"
      ]
     },
     "execution_count": 12,
     "metadata": {},
     "output_type": "execute_result"
    }
   ],
   "source": [
    "# definujemy D(f) obliczającą  funkcje pochodną \n",
    "D(f) = x->ForwardDiff.derivative(f, float(x))"
   ]
  },
  {
   "cell_type": "code",
   "execution_count": 13,
   "metadata": {},
   "outputs": [
    {
     "data": {
      "image/png": "[encoded data removed]",
      "image/svg+xml": [
       "<?xml version=\"1.0\" encoding=\"utf-8\"?>\n",
       "<svg xmlns=\"http://www.w3.org/2000/svg\" xmlns:xlink=\"http://www.w3.org/1999/xlink\" width=\"600\" height=\"400\" viewBox=\"0 0 2400 1600\">\n",
       "<defs>\n",
       "  <clipPath id=\"clip770\">\n",
       "    <rect x=\"0\" y=\"0\" width=\"2400\" height=\"1600\"/>\n",
       "  </clipPath>\n",
       "</defs>\n",
       "<path clip-path=\"url(#clip770)\" d=\"M0 1600 L2400 1600 L2400 0 L0 0  Z\" fill=\"#ffffff\" fill-rule=\"evenodd\" fill-opacity=\"1\"/>\n",
       "<defs>\n",
       "  <clipPath id=\"clip771\">\n",
       "    <rect x=\"480\" y=\"0\" width=\"1681\" height=\"1600\"/>\n",
       "  </clipPath>\n",
       "</defs>\n",
       "<path clip-path=\"url(#clip770)\" d=\"M193.936 1486.45 L2352.76 1486.45 L2352.76 47.2441 L193.936 47.2441  Z\" fill=\"#ffffff\" fill-rule=\"evenodd\" fill-opacity=\"1\"/>\n",
       "<defs>\n",
       "  <clipPath id=\"clip772\">\n",
       "    <rect x=\"193\" y=\"47\" width=\"2160\" height=\"1440\"/>\n",
       "  </clipPath>\n",
       "</defs>\n",
       "<polyline clip-path=\"url(#clip772)\" style=\"stroke:#000000; stroke-linecap:round; stroke-linejoin:round; stroke-width:2; stroke-opacity:0.1; fill:none\" points=\"255.035,1486.45 255.035,47.2441 \"/>\n",
       "<polyline clip-path=\"url(#clip772)\" style=\"stroke:#000000; stroke-linecap:round; stroke-linejoin:round; stroke-width:2; stroke-opacity:0.1; fill:none\" points=\"764.19,1486.45 764.19,47.2441 \"/>\n",
       "<polyline clip-path=\"url(#clip772)\" style=\"stroke:#000000; stroke-linecap:round; stroke-linejoin:round; stroke-width:2; stroke-opacity:0.1; fill:none\" points=\"1273.35,1486.45 1273.35,47.2441 \"/>\n",
       "<polyline clip-path=\"url(#clip772)\" style=\"stroke:#000000; stroke-linecap:round; stroke-linejoin:round; stroke-width:2; stroke-opacity:0.1; fill:none\" points=\"1782.5,1486.45 1782.5,47.2441 \"/>\n",
       "<polyline clip-path=\"url(#clip772)\" style=\"stroke:#000000; stroke-linecap:round; stroke-linejoin:round; stroke-width:2; stroke-opacity:0.1; fill:none\" points=\"2291.66,1486.45 2291.66,47.2441 \"/>\n",
       "<polyline clip-path=\"url(#clip770)\" style=\"stroke:#000000; stroke-linecap:round; stroke-linejoin:round; stroke-width:4; stroke-opacity:1; fill:none\" points=\"193.936,1486.45 2352.76,1486.45 \"/>\n",
       "<polyline clip-path=\"url(#clip770)\" style=\"stroke:#000000; stroke-linecap:round; stroke-linejoin:round; stroke-width:4; stroke-opacity:1; fill:none\" points=\"255.035,1486.45 255.035,1467.55 \"/>\n",
       "<polyline clip-path=\"url(#clip770)\" style=\"stroke:#000000; stroke-linecap:round; stroke-linejoin:round; stroke-width:4; stroke-opacity:1; fill:none\" points=\"764.19,1486.45 764.19,1467.55 \"/>\n",
       "<polyline clip-path=\"url(#clip770)\" style=\"stroke:#000000; stroke-linecap:round; stroke-linejoin:round; stroke-width:4; stroke-opacity:1; fill:none\" points=\"1273.35,1486.45 1273.35,1467.55 \"/>\n",
       "<polyline clip-path=\"url(#clip770)\" style=\"stroke:#000000; stroke-linecap:round; stroke-linejoin:round; stroke-width:4; stroke-opacity:1; fill:none\" points=\"1782.5,1486.45 1782.5,1467.55 \"/>\n",
       "<polyline clip-path=\"url(#clip770)\" style=\"stroke:#000000; stroke-linecap:round; stroke-linejoin:round; stroke-width:4; stroke-opacity:1; fill:none\" points=\"2291.66,1486.45 2291.66,1467.55 \"/>\n",
       "<path clip-path=\"url(#clip770)\" d=\"M224.977 1532.02 L254.653 1532.02 L254.653 1535.95 L224.977 1535.95 L224.977 1532.02 Z\" fill=\"#000000\" fill-rule=\"nonzero\" fill-opacity=\"1\" /><path clip-path=\"url(#clip770)\" d=\"M268.773 1544.91 L285.092 1544.91 L285.092 1548.85 L263.148 1548.85 L263.148 1544.91 Q265.81 1542.16 270.393 1537.53 Q275 1532.88 276.18 1531.53 Q278.426 1529.01 279.305 1527.27 Q280.208 1525.51 280.208 1523.82 Q280.208 1521.07 278.264 1519.33 Q276.342 1517.6 273.241 1517.6 Q271.042 1517.6 268.588 1518.36 Q266.157 1519.13 263.38 1520.68 L263.38 1515.95 Q266.204 1514.82 268.657 1514.24 Q271.111 1513.66 273.148 1513.66 Q278.518 1513.66 281.713 1516.35 Q284.907 1519.03 284.907 1523.52 Q284.907 1525.65 284.097 1527.57 Q283.31 1529.47 281.204 1532.07 Q280.625 1532.74 277.523 1535.95 Q274.421 1539.15 268.773 1544.91 Z\" fill=\"#000000\" fill-rule=\"nonzero\" fill-opacity=\"1\" /><path clip-path=\"url(#clip770)\" d=\"M733.947 1532.02 L763.623 1532.02 L763.623 1535.95 L733.947 1535.95 L733.947 1532.02 Z\" fill=\"#000000\" fill-rule=\"nonzero\" fill-opacity=\"1\" /><path clip-path=\"url(#clip770)\" d=\"M774.526 1544.91 L782.165 1544.91 L782.165 1518.55 L773.855 1520.21 L773.855 1515.95 L782.118 1514.29 L786.794 1514.29 L786.794 1544.91 L794.433 1544.91 L794.433 1548.85 L774.526 1548.85 L774.526 1544.91 Z\" fill=\"#000000\" fill-rule=\"nonzero\" fill-opacity=\"1\" /><path clip-path=\"url(#clip770)\" d=\"M1273.35 1517.37 Q1269.73 1517.37 1267.91 1520.93 Q1266.1 1524.47 1266.1 1531.6 Q1266.1 1538.71 1267.91 1542.27 Q1269.73 1545.82 1273.35 1545.82 Q1276.98 1545.82 1278.79 1542.27 Q1280.61 1538.71 1280.61 1531.6 Q1280.61 1524.47 1278.79 1520.93 Q1276.98 1517.37 1273.35 1517.37 M1273.35 1513.66 Q1279.16 1513.66 1282.21 1518.27 Q1285.29 1522.85 1285.29 1531.6 Q1285.29 1540.33 1282.21 1544.94 Q1279.16 1549.52 1273.35 1549.52 Q1267.54 1549.52 1264.46 1544.94 Q1261.4 1540.33 1261.4 1531.6 Q1261.4 1522.85 1264.46 1518.27 Q1267.54 1513.66 1273.35 1513.66 Z\" fill=\"#000000\" fill-rule=\"nonzero\" fill-opacity=\"1\" /><path clip-path=\"url(#clip770)\" d=\"M1772.88 1544.91 L1780.52 1544.91 L1780.52 1518.55 L1772.21 1520.21 L1772.21 1515.95 L1780.48 1514.29 L1785.15 1514.29 L1785.15 1544.91 L1792.79 1544.91 L1792.79 1548.85 L1772.88 1548.85 L1772.88 1544.91 Z\" fill=\"#000000\" fill-rule=\"nonzero\" fill-opacity=\"1\" /><path clip-path=\"url(#clip770)\" d=\"M2286.31 1544.91 L2302.63 1544.91 L2302.63 1548.85 L2280.69 1548.85 L2280.69 1544.91 Q2283.35 1542.16 2287.93 1537.53 Q2292.54 1532.88 2293.72 1531.53 Q2295.96 1529.01 2296.84 1527.27 Q2297.75 1525.51 2297.75 1523.82 Q2297.75 1521.07 2295.8 1519.33 Q2293.88 1517.6 2290.78 1517.6 Q2288.58 1517.6 2286.12 1518.36 Q2283.69 1519.13 2280.92 1520.68 L2280.92 1515.95 Q2283.74 1514.82 2286.19 1514.24 Q2288.65 1513.66 2290.69 1513.66 Q2296.06 1513.66 2299.25 1516.35 Q2302.44 1519.03 2302.44 1523.52 Q2302.44 1525.65 2301.63 1527.57 Q2300.85 1529.47 2298.74 1532.07 Q2298.16 1532.74 2295.06 1535.95 Q2291.96 1539.15 2286.31 1544.91 Z\" fill=\"#000000\" fill-rule=\"nonzero\" fill-opacity=\"1\" /><polyline clip-path=\"url(#clip772)\" style=\"stroke:#000000; stroke-linecap:round; stroke-linejoin:round; stroke-width:2; stroke-opacity:0.1; fill:none\" points=\"193.936,1446.03 2352.76,1446.03 \"/>\n",
       "<polyline clip-path=\"url(#clip772)\" style=\"stroke:#000000; stroke-linecap:round; stroke-linejoin:round; stroke-width:2; stroke-opacity:0.1; fill:none\" points=\"193.936,1106.49 2352.76,1106.49 \"/>\n",
       "<polyline clip-path=\"url(#clip772)\" style=\"stroke:#000000; stroke-linecap:round; stroke-linejoin:round; stroke-width:2; stroke-opacity:0.1; fill:none\" points=\"193.936,766.948 2352.76,766.948 \"/>\n",
       "<polyline clip-path=\"url(#clip772)\" style=\"stroke:#000000; stroke-linecap:round; stroke-linejoin:round; stroke-width:2; stroke-opacity:0.1; fill:none\" points=\"193.936,427.409 2352.76,427.409 \"/>\n",
       "<polyline clip-path=\"url(#clip772)\" style=\"stroke:#000000; stroke-linecap:round; stroke-linejoin:round; stroke-width:2; stroke-opacity:0.1; fill:none\" points=\"193.936,87.8705 2352.76,87.8705 \"/>\n",
       "<polyline clip-path=\"url(#clip770)\" style=\"stroke:#000000; stroke-linecap:round; stroke-linejoin:round; stroke-width:4; stroke-opacity:1; fill:none\" points=\"193.936,1486.45 193.936,47.2441 \"/>\n",
       "<polyline clip-path=\"url(#clip770)\" style=\"stroke:#000000; stroke-linecap:round; stroke-linejoin:round; stroke-width:4; stroke-opacity:1; fill:none\" points=\"193.936,1446.03 212.834,1446.03 \"/>\n",
       "<polyline clip-path=\"url(#clip770)\" style=\"stroke:#000000; stroke-linecap:round; stroke-linejoin:round; stroke-width:4; stroke-opacity:1; fill:none\" points=\"193.936,1106.49 212.834,1106.49 \"/>\n",
       "<polyline clip-path=\"url(#clip770)\" style=\"stroke:#000000; stroke-linecap:round; stroke-linejoin:round; stroke-width:4; stroke-opacity:1; fill:none\" points=\"193.936,766.948 212.834,766.948 \"/>\n",
       "<polyline clip-path=\"url(#clip770)\" style=\"stroke:#000000; stroke-linecap:round; stroke-linejoin:round; stroke-width:4; stroke-opacity:1; fill:none\" points=\"193.936,427.409 212.834,427.409 \"/>\n",
       "<polyline clip-path=\"url(#clip770)\" style=\"stroke:#000000; stroke-linecap:round; stroke-linejoin:round; stroke-width:4; stroke-opacity:1; fill:none\" points=\"193.936,87.8705 212.834,87.8705 \"/>\n",
       "<path clip-path=\"url(#clip770)\" d=\"M50.9921 1446.48 L80.6679 1446.48 L80.6679 1450.41 L50.9921 1450.41 L50.9921 1446.48 Z\" fill=\"#000000\" fill-rule=\"nonzero\" fill-opacity=\"1\" /><path clip-path=\"url(#clip770)\" d=\"M94.7882 1459.37 L111.108 1459.37 L111.108 1463.31 L89.1632 1463.31 L89.1632 1459.37 Q91.8252 1456.62 96.4085 1451.99 Q101.015 1447.33 102.196 1445.99 Q104.441 1443.47 105.321 1441.73 Q106.223 1439.97 106.223 1438.28 Q106.223 1435.53 104.279 1433.79 Q102.358 1432.06 99.2558 1432.06 Q97.0567 1432.06 94.603 1432.82 Q92.1725 1433.58 89.3947 1435.13 L89.3947 1430.41 Q92.2188 1429.28 94.6724 1428.7 Q97.1261 1428.12 99.1632 1428.12 Q104.534 1428.12 107.728 1430.81 Q110.922 1433.49 110.922 1437.98 Q110.922 1440.11 110.112 1442.03 Q109.325 1443.93 107.219 1446.52 Q106.64 1447.19 103.538 1450.41 Q100.436 1453.61 94.7882 1459.37 Z\" fill=\"#000000\" fill-rule=\"nonzero\" fill-opacity=\"1\" /><path clip-path=\"url(#clip770)\" d=\"M120.922 1457.43 L125.807 1457.43 L125.807 1463.31 L120.922 1463.31 L120.922 1457.43 Z\" fill=\"#000000\" fill-rule=\"nonzero\" fill-opacity=\"1\" /><path clip-path=\"url(#clip770)\" d=\"M145.992 1431.82 Q142.381 1431.82 140.552 1435.39 Q138.746 1438.93 138.746 1446.06 Q138.746 1453.17 140.552 1456.73 Q142.381 1460.27 145.992 1460.27 Q149.626 1460.27 151.431 1456.73 Q153.26 1453.17 153.26 1446.06 Q153.26 1438.93 151.431 1435.39 Q149.626 1431.82 145.992 1431.82 M145.992 1428.12 Q151.802 1428.12 154.857 1432.73 Q157.936 1437.31 157.936 1446.06 Q157.936 1454.79 154.857 1459.39 Q151.802 1463.98 145.992 1463.98 Q140.181 1463.98 137.103 1459.39 Q134.047 1454.79 134.047 1446.06 Q134.047 1437.31 137.103 1432.73 Q140.181 1428.12 145.992 1428.12 Z\" fill=\"#000000\" fill-rule=\"nonzero\" fill-opacity=\"1\" /><path clip-path=\"url(#clip770)\" d=\"M51.9875 1106.94 L81.6633 1106.94 L81.6633 1110.87 L51.9875 1110.87 L51.9875 1106.94 Z\" fill=\"#000000\" fill-rule=\"nonzero\" fill-opacity=\"1\" /><path clip-path=\"url(#clip770)\" d=\"M92.566 1119.83 L100.205 1119.83 L100.205 1093.47 L91.8947 1095.13 L91.8947 1090.87 L100.159 1089.21 L104.834 1089.21 L104.834 1119.83 L112.473 1119.83 L112.473 1123.77 L92.566 1123.77 L92.566 1119.83 Z\" fill=\"#000000\" fill-rule=\"nonzero\" fill-opacity=\"1\" /><path clip-path=\"url(#clip770)\" d=\"M121.918 1117.89 L126.802 1117.89 L126.802 1123.77 L121.918 1123.77 L121.918 1117.89 Z\" fill=\"#000000\" fill-rule=\"nonzero\" fill-opacity=\"1\" /><path clip-path=\"url(#clip770)\" d=\"M137.033 1089.21 L155.39 1089.21 L155.39 1093.14 L141.316 1093.14 L141.316 1101.61 Q142.334 1101.27 143.353 1101.1 Q144.371 1100.92 145.39 1100.92 Q151.177 1100.92 154.556 1104.09 Q157.936 1107.26 157.936 1112.68 Q157.936 1118.26 154.464 1121.36 Q150.992 1124.44 144.672 1124.44 Q142.496 1124.44 140.228 1124.07 Q137.982 1123.7 135.575 1122.96 L135.575 1118.26 Q137.658 1119.39 139.881 1119.95 Q142.103 1120.5 144.58 1120.5 Q148.584 1120.5 150.922 1118.4 Q153.26 1116.29 153.26 1112.68 Q153.26 1109.07 150.922 1106.96 Q148.584 1104.85 144.58 1104.85 Q142.705 1104.85 140.83 1105.27 Q138.978 1105.69 137.033 1106.57 L137.033 1089.21 Z\" fill=\"#000000\" fill-rule=\"nonzero\" fill-opacity=\"1\" /><path clip-path=\"url(#clip770)\" d=\"M50.9921 767.399 L80.6679 767.399 L80.6679 771.335 L50.9921 771.335 L50.9921 767.399 Z\" fill=\"#000000\" fill-rule=\"nonzero\" fill-opacity=\"1\" /><path clip-path=\"url(#clip770)\" d=\"M91.5706 780.293 L99.2095 780.293 L99.2095 753.927 L90.8993 755.594 L90.8993 751.335 L99.1632 749.668 L103.839 749.668 L103.839 780.293 L111.478 780.293 L111.478 784.228 L91.5706 784.228 L91.5706 780.293 Z\" fill=\"#000000\" fill-rule=\"nonzero\" fill-opacity=\"1\" /><path clip-path=\"url(#clip770)\" d=\"M120.922 778.348 L125.807 778.348 L125.807 784.228 L120.922 784.228 L120.922 778.348 Z\" fill=\"#000000\" fill-rule=\"nonzero\" fill-opacity=\"1\" /><path clip-path=\"url(#clip770)\" d=\"M145.992 752.747 Q142.381 752.747 140.552 756.312 Q138.746 759.853 138.746 766.983 Q138.746 774.089 140.552 777.654 Q142.381 781.196 145.992 781.196 Q149.626 781.196 151.431 777.654 Q153.26 774.089 153.26 766.983 Q153.26 759.853 151.431 756.312 Q149.626 752.747 145.992 752.747 M145.992 749.043 Q151.802 749.043 154.857 753.649 Q157.936 758.233 157.936 766.983 Q157.936 775.71 154.857 780.316 Q151.802 784.899 145.992 784.899 Q140.181 784.899 137.103 780.316 Q134.047 775.71 134.047 766.983 Q134.047 758.233 137.103 753.649 Q140.181 749.043 145.992 749.043 Z\" fill=\"#000000\" fill-rule=\"nonzero\" fill-opacity=\"1\" /><path clip-path=\"url(#clip770)\" d=\"M51.9875 427.861 L81.6633 427.861 L81.6633 431.796 L51.9875 431.796 L51.9875 427.861 Z\" fill=\"#000000\" fill-rule=\"nonzero\" fill-opacity=\"1\" /><path clip-path=\"url(#clip770)\" d=\"M101.756 413.208 Q98.1447 413.208 96.316 416.773 Q94.5104 420.314 94.5104 427.444 Q94.5104 434.55 96.316 438.115 Q98.1447 441.657 101.756 441.657 Q105.39 441.657 107.196 438.115 Q109.024 434.55 109.024 427.444 Q109.024 420.314 107.196 416.773 Q105.39 413.208 101.756 413.208 M101.756 409.504 Q107.566 409.504 110.621 414.111 Q113.7 418.694 113.7 427.444 Q113.7 436.171 110.621 440.777 Q107.566 445.361 101.756 445.361 Q95.9456 445.361 92.8669 440.777 Q89.8114 436.171 89.8114 427.444 Q89.8114 418.694 92.8669 414.111 Q95.9456 409.504 101.756 409.504 Z\" fill=\"#000000\" fill-rule=\"nonzero\" fill-opacity=\"1\" /><path clip-path=\"url(#clip770)\" d=\"M121.918 438.81 L126.802 438.81 L126.802 444.689 L121.918 444.689 L121.918 438.81 Z\" fill=\"#000000\" fill-rule=\"nonzero\" fill-opacity=\"1\" /><path clip-path=\"url(#clip770)\" d=\"M137.033 410.129 L155.39 410.129 L155.39 414.064 L141.316 414.064 L141.316 422.537 Q142.334 422.189 143.353 422.027 Q144.371 421.842 145.39 421.842 Q151.177 421.842 154.556 425.013 Q157.936 428.185 157.936 433.601 Q157.936 439.18 154.464 442.282 Q150.992 445.361 144.672 445.361 Q142.496 445.361 140.228 444.99 Q137.982 444.62 135.575 443.879 L135.575 439.18 Q137.658 440.314 139.881 440.87 Q142.103 441.425 144.58 441.425 Q148.584 441.425 150.922 439.319 Q153.26 437.212 153.26 433.601 Q153.26 429.99 150.922 427.884 Q148.584 425.777 144.58 425.777 Q142.705 425.777 140.83 426.194 Q138.978 426.611 137.033 427.49 L137.033 410.129 Z\" fill=\"#000000\" fill-rule=\"nonzero\" fill-opacity=\"1\" /><path clip-path=\"url(#clip770)\" d=\"M100.76 73.6691 Q97.1493 73.6691 95.3206 77.2339 Q93.515 80.7756 93.515 87.9052 Q93.515 95.0116 95.3206 98.5764 Q97.1493 102.118 100.76 102.118 Q104.395 102.118 106.2 98.5764 Q108.029 95.0116 108.029 87.9052 Q108.029 80.7756 106.2 77.2339 Q104.395 73.6691 100.76 73.6691 M100.76 69.9655 Q106.571 69.9655 109.626 74.5719 Q112.705 79.1552 112.705 87.9052 Q112.705 96.632 109.626 101.238 Q106.571 105.822 100.76 105.822 Q94.9502 105.822 91.8715 101.238 Q88.816 96.632 88.816 87.9052 Q88.816 79.1552 91.8715 74.5719 Q94.9502 69.9655 100.76 69.9655 Z\" fill=\"#000000\" fill-rule=\"nonzero\" fill-opacity=\"1\" /><path clip-path=\"url(#clip770)\" d=\"M120.922 99.2709 L125.807 99.2709 L125.807 105.15 L120.922 105.15 L120.922 99.2709 Z\" fill=\"#000000\" fill-rule=\"nonzero\" fill-opacity=\"1\" /><path clip-path=\"url(#clip770)\" d=\"M145.992 73.6691 Q142.381 73.6691 140.552 77.2339 Q138.746 80.7756 138.746 87.9052 Q138.746 95.0116 140.552 98.5764 Q142.381 102.118 145.992 102.118 Q149.626 102.118 151.431 98.5764 Q153.26 95.0116 153.26 87.9052 Q153.26 80.7756 151.431 77.2339 Q149.626 73.6691 145.992 73.6691 M145.992 69.9655 Q151.802 69.9655 154.857 74.5719 Q157.936 79.1552 157.936 87.9052 Q157.936 96.632 154.857 101.238 Q151.802 105.822 145.992 105.822 Q140.181 105.822 137.103 101.238 Q134.047 96.632 134.047 87.9052 Q134.047 79.1552 137.103 74.5719 Q140.181 69.9655 145.992 69.9655 Z\" fill=\"#000000\" fill-rule=\"nonzero\" fill-opacity=\"1\" /><polyline clip-path=\"url(#clip772)\" style=\"stroke:#009af9; stroke-linecap:round; stroke-linejoin:round; stroke-width:4; stroke-opacity:1; fill:none\" points=\"255.035,149.465 258.35,147.638 261.664,145.837 264.979,144.063 268.294,142.315 298.945,127.418 329.596,114.838 360.247,104.62 390.898,96.8017 409.318,93.2698 427.737,90.6194 446.157,88.8542 464.577,87.9763 495.725,88.5134 526.872,91.5888 560.707,97.7919 594.542,106.949 625.735,117.973 656.928,131.432 690.37,148.509 723.812,168.253 762.558,194.351 801.304,223.762 835.737,252.544 870.17,283.678 900.364,312.803 930.558,343.524 963.478,378.711 996.398,415.521 1029.51,454.03 1062.63,493.863 1135.86,585.795 1205.53,676.768 1277.98,773.123 1338.96,854.216 1413.41,951.412 1481.62,1037.04 1513.11,1075.04 1544.61,1111.86 1576.51,1147.82 1608.42,1182.28 1644.17,1218.95 1679.93,1253.4 1712.33,1282.55 1744.73,1309.61 1781.83,1337.88 1818.92,1363.13 1853.27,1383.69 1887.62,1401.45 1921.48,1416.13 1955.34,1427.94 1988.22,1436.61 2021.1,1442.48 2054.8,1445.59 2088.51,1445.72 2106.97,1444.53 2125.44,1442.44 2143.9,1439.48 2162.36,1435.62 2189.18,1428.46 2216,1419.46 2242.83,1408.66 2269.65,1396.07 2275.15,1393.27 2280.65,1390.39 2286.15,1387.45 2291.66,1384.43 \"/>\n",
       "<path clip-path=\"url(#clip770)\" d=\"M2012.48 198.898 L2280.8 198.898 L2280.8 95.2176 L2012.48 95.2176  Z\" fill=\"#ffffff\" fill-rule=\"evenodd\" fill-opacity=\"1\"/>\n",
       "<polyline clip-path=\"url(#clip770)\" style=\"stroke:#000000; stroke-linecap:round; stroke-linejoin:round; stroke-width:4; stroke-opacity:1; fill:none\" points=\"2012.48,198.898 2280.8,198.898 2280.8,95.2176 2012.48,95.2176 2012.48,198.898 \"/>\n",
       "<polyline clip-path=\"url(#clip770)\" style=\"stroke:#009af9; stroke-linecap:round; stroke-linejoin:round; stroke-width:4; stroke-opacity:1; fill:none\" points=\"2036.47,147.058 2180.39,147.058 \"/>\n",
       "<path clip-path=\"url(#clip770)\" d=\"M2218.22 166.745 Q2216.42 171.375 2214.7 172.787 Q2212.99 174.199 2210.12 174.199 L2206.72 174.199 L2206.72 170.634 L2209.22 170.634 Q2210.98 170.634 2211.95 169.8 Q2212.92 168.967 2214.1 165.865 L2214.86 163.921 L2204.38 138.412 L2208.89 138.412 L2216.99 158.689 L2225.1 138.412 L2229.61 138.412 L2218.22 166.745 Z\" fill=\"#000000\" fill-rule=\"nonzero\" fill-opacity=\"1\" /><path clip-path=\"url(#clip770)\" d=\"M2236.9 160.402 L2244.54 160.402 L2244.54 134.037 L2236.23 135.703 L2236.23 131.444 L2244.49 129.778 L2249.17 129.778 L2249.17 160.402 L2256.81 160.402 L2256.81 164.338 L2236.9 164.338 L2236.9 160.402 Z\" fill=\"#000000\" fill-rule=\"nonzero\" fill-opacity=\"1\" /></svg>\n"
      ],
      "text/html": [
       "<?xml version=\"1.0\" encoding=\"utf-8\"?>\n",
       "<svg xmlns=\"http://www.w3.org/2000/svg\" xmlns:xlink=\"http://www.w3.org/1999/xlink\" width=\"600\" height=\"400\" viewBox=\"0 0 2400 1600\">\n",
       "<defs>\n",
       "  <clipPath id=\"clip820\">\n",
       "    <rect x=\"0\" y=\"0\" width=\"2400\" height=\"1600\"/>\n",
       "  </clipPath>\n",
       "</defs>\n",
       "<path clip-path=\"url(#clip820)\" d=\"M0 1600 L2400 1600 L2400 0 L0 0  Z\" fill=\"#ffffff\" fill-rule=\"evenodd\" fill-opacity=\"1\"/>\n",
       "<defs>\n",
       "  <clipPath id=\"clip821\">\n",
       "    <rect x=\"480\" y=\"0\" width=\"1681\" height=\"1600\"/>\n",
       "  </clipPath>\n",
       "</defs>\n",
       "<path clip-path=\"url(#clip820)\" d=\"M193.936 1486.45 L2352.76 1486.45 L2352.76 47.2441 L193.936 47.2441  Z\" fill=\"#ffffff\" fill-rule=\"evenodd\" fill-opacity=\"1\"/>\n",
       "<defs>\n",
       "  <clipPath id=\"clip822\">\n",
       "    <rect x=\"193\" y=\"47\" width=\"2160\" height=\"1440\"/>\n",
       "  </clipPath>\n",
       "</defs>\n",
       "<polyline clip-path=\"url(#clip822)\" style=\"stroke:#000000; stroke-linecap:round; stroke-linejoin:round; stroke-width:2; stroke-opacity:0.1; fill:none\" points=\"255.035,1486.45 255.035,47.2441 \"/>\n",
       "<polyline clip-path=\"url(#clip822)\" style=\"stroke:#000000; stroke-linecap:round; stroke-linejoin:round; stroke-width:2; stroke-opacity:0.1; fill:none\" points=\"764.19,1486.45 764.19,47.2441 \"/>\n",
       "<polyline clip-path=\"url(#clip822)\" style=\"stroke:#000000; stroke-linecap:round; stroke-linejoin:round; stroke-width:2; stroke-opacity:0.1; fill:none\" points=\"1273.35,1486.45 1273.35,47.2441 \"/>\n",
       "<polyline clip-path=\"url(#clip822)\" style=\"stroke:#000000; stroke-linecap:round; stroke-linejoin:round; stroke-width:2; stroke-opacity:0.1; fill:none\" points=\"1782.5,1486.45 1782.5,47.2441 \"/>\n",
       "<polyline clip-path=\"url(#clip822)\" style=\"stroke:#000000; stroke-linecap:round; stroke-linejoin:round; stroke-width:2; stroke-opacity:0.1; fill:none\" points=\"2291.66,1486.45 2291.66,47.2441 \"/>\n",
       "<polyline clip-path=\"url(#clip820)\" style=\"stroke:#000000; stroke-linecap:round; stroke-linejoin:round; stroke-width:4; stroke-opacity:1; fill:none\" points=\"193.936,1486.45 2352.76,1486.45 \"/>\n",
       "<polyline clip-path=\"url(#clip820)\" style=\"stroke:#000000; stroke-linecap:round; stroke-linejoin:round; stroke-width:4; stroke-opacity:1; fill:none\" points=\"255.035,1486.45 255.035,1467.55 \"/>\n",
       "<polyline clip-path=\"url(#clip820)\" style=\"stroke:#000000; stroke-linecap:round; stroke-linejoin:round; stroke-width:4; stroke-opacity:1; fill:none\" points=\"764.19,1486.45 764.19,1467.55 \"/>\n",
       "<polyline clip-path=\"url(#clip820)\" style=\"stroke:#000000; stroke-linecap:round; stroke-linejoin:round; stroke-width:4; stroke-opacity:1; fill:none\" points=\"1273.35,1486.45 1273.35,1467.55 \"/>\n",
       "<polyline clip-path=\"url(#clip820)\" style=\"stroke:#000000; stroke-linecap:round; stroke-linejoin:round; stroke-width:4; stroke-opacity:1; fill:none\" points=\"1782.5,1486.45 1782.5,1467.55 \"/>\n",
       "<polyline clip-path=\"url(#clip820)\" style=\"stroke:#000000; stroke-linecap:round; stroke-linejoin:round; stroke-width:4; stroke-opacity:1; fill:none\" points=\"2291.66,1486.45 2291.66,1467.55 \"/>\n",
       "<path clip-path=\"url(#clip820)\" d=\"M224.977 1532.02 L254.653 1532.02 L254.653 1535.95 L224.977 1535.95 L224.977 1532.02 Z\" fill=\"#000000\" fill-rule=\"nonzero\" fill-opacity=\"1\" /><path clip-path=\"url(#clip820)\" d=\"M268.773 1544.91 L285.092 1544.91 L285.092 1548.85 L263.148 1548.85 L263.148 1544.91 Q265.81 1542.16 270.393 1537.53 Q275 1532.88 276.18 1531.53 Q278.426 1529.01 279.305 1527.27 Q280.208 1525.51 280.208 1523.82 Q280.208 1521.07 278.264 1519.33 Q276.342 1517.6 273.241 1517.6 Q271.042 1517.6 268.588 1518.36 Q266.157 1519.13 263.38 1520.68 L263.38 1515.95 Q266.204 1514.82 268.657 1514.24 Q271.111 1513.66 273.148 1513.66 Q278.518 1513.66 281.713 1516.35 Q284.907 1519.03 284.907 1523.52 Q284.907 1525.65 284.097 1527.57 Q283.31 1529.47 281.204 1532.07 Q280.625 1532.74 277.523 1535.95 Q274.421 1539.15 268.773 1544.91 Z\" fill=\"#000000\" fill-rule=\"nonzero\" fill-opacity=\"1\" /><path clip-path=\"url(#clip820)\" d=\"M733.947 1532.02 L763.623 1532.02 L763.623 1535.95 L733.947 1535.95 L733.947 1532.02 Z\" fill=\"#000000\" fill-rule=\"nonzero\" fill-opacity=\"1\" /><path clip-path=\"url(#clip820)\" d=\"M774.526 1544.91 L782.165 1544.91 L782.165 1518.55 L773.855 1520.21 L773.855 1515.95 L782.118 1514.29 L786.794 1514.29 L786.794 1544.91 L794.433 1544.91 L794.433 1548.85 L774.526 1548.85 L774.526 1544.91 Z\" fill=\"#000000\" fill-rule=\"nonzero\" fill-opacity=\"1\" /><path clip-path=\"url(#clip820)\" d=\"M1273.35 1517.37 Q1269.73 1517.37 1267.91 1520.93 Q1266.1 1524.47 1266.1 1531.6 Q1266.1 1538.71 1267.91 1542.27 Q1269.73 1545.82 1273.35 1545.82 Q1276.98 1545.82 1278.79 1542.27 Q1280.61 1538.71 1280.61 1531.6 Q1280.61 1524.47 1278.79 1520.93 Q1276.98 1517.37 1273.35 1517.37 M1273.35 1513.66 Q1279.16 1513.66 1282.21 1518.27 Q1285.29 1522.85 1285.29 1531.6 Q1285.29 1540.33 1282.21 1544.94 Q1279.16 1549.52 1273.35 1549.52 Q1267.54 1549.52 1264.46 1544.94 Q1261.4 1540.33 1261.4 1531.6 Q1261.4 1522.85 1264.46 1518.27 Q1267.54 1513.66 1273.35 1513.66 Z\" fill=\"#000000\" fill-rule=\"nonzero\" fill-opacity=\"1\" /><path clip-path=\"url(#clip820)\" d=\"M1772.88 1544.91 L1780.52 1544.91 L1780.52 1518.55 L1772.21 1520.21 L1772.21 1515.95 L1780.48 1514.29 L1785.15 1514.29 L1785.15 1544.91 L1792.79 1544.91 L1792.79 1548.85 L1772.88 1548.85 L1772.88 1544.91 Z\" fill=\"#000000\" fill-rule=\"nonzero\" fill-opacity=\"1\" /><path clip-path=\"url(#clip820)\" d=\"M2286.31 1544.91 L2302.63 1544.91 L2302.63 1548.85 L2280.69 1548.85 L2280.69 1544.91 Q2283.35 1542.16 2287.93 1537.53 Q2292.54 1532.88 2293.72 1531.53 Q2295.96 1529.01 2296.84 1527.27 Q2297.75 1525.51 2297.75 1523.82 Q2297.75 1521.07 2295.8 1519.33 Q2293.88 1517.6 2290.78 1517.6 Q2288.58 1517.6 2286.12 1518.36 Q2283.69 1519.13 2280.92 1520.68 L2280.92 1515.95 Q2283.74 1514.82 2286.19 1514.24 Q2288.65 1513.66 2290.69 1513.66 Q2296.06 1513.66 2299.25 1516.35 Q2302.44 1519.03 2302.44 1523.52 Q2302.44 1525.65 2301.63 1527.57 Q2300.85 1529.47 2298.74 1532.07 Q2298.16 1532.74 2295.06 1535.95 Q2291.96 1539.15 2286.31 1544.91 Z\" fill=\"#000000\" fill-rule=\"nonzero\" fill-opacity=\"1\" /><polyline clip-path=\"url(#clip822)\" style=\"stroke:#000000; stroke-linecap:round; stroke-linejoin:round; stroke-width:2; stroke-opacity:0.1; fill:none\" points=\"193.936,1446.03 2352.76,1446.03 \"/>\n",
       "<polyline clip-path=\"url(#clip822)\" style=\"stroke:#000000; stroke-linecap:round; stroke-linejoin:round; stroke-width:2; stroke-opacity:0.1; fill:none\" points=\"193.936,1106.49 2352.76,1106.49 \"/>\n",
       "<polyline clip-path=\"url(#clip822)\" style=\"stroke:#000000; stroke-linecap:round; stroke-linejoin:round; stroke-width:2; stroke-opacity:0.1; fill:none\" points=\"193.936,766.948 2352.76,766.948 \"/>\n",
       "<polyline clip-path=\"url(#clip822)\" style=\"stroke:#000000; stroke-linecap:round; stroke-linejoin:round; stroke-width:2; stroke-opacity:0.1; fill:none\" points=\"193.936,427.409 2352.76,427.409 \"/>\n",
       "<polyline clip-path=\"url(#clip822)\" style=\"stroke:#000000; stroke-linecap:round; stroke-linejoin:round; stroke-width:2; stroke-opacity:0.1; fill:none\" points=\"193.936,87.8705 2352.76,87.8705 \"/>\n",
       "<polyline clip-path=\"url(#clip820)\" style=\"stroke:#000000; stroke-linecap:round; stroke-linejoin:round; stroke-width:4; stroke-opacity:1; fill:none\" points=\"193.936,1486.45 193.936,47.2441 \"/>\n",
       "<polyline clip-path=\"url(#clip820)\" style=\"stroke:#000000; stroke-linecap:round; stroke-linejoin:round; stroke-width:4; stroke-opacity:1; fill:none\" points=\"193.936,1446.03 212.834,1446.03 \"/>\n",
       "<polyline clip-path=\"url(#clip820)\" style=\"stroke:#000000; stroke-linecap:round; stroke-linejoin:round; stroke-width:4; stroke-opacity:1; fill:none\" points=\"193.936,1106.49 212.834,1106.49 \"/>\n",
       "<polyline clip-path=\"url(#clip820)\" style=\"stroke:#000000; stroke-linecap:round; stroke-linejoin:round; stroke-width:4; stroke-opacity:1; fill:none\" points=\"193.936,766.948 212.834,766.948 \"/>\n",
       "<polyline clip-path=\"url(#clip820)\" style=\"stroke:#000000; stroke-linecap:round; stroke-linejoin:round; stroke-width:4; stroke-opacity:1; fill:none\" points=\"193.936,427.409 212.834,427.409 \"/>\n",
       "<polyline clip-path=\"url(#clip820)\" style=\"stroke:#000000; stroke-linecap:round; stroke-linejoin:round; stroke-width:4; stroke-opacity:1; fill:none\" points=\"193.936,87.8705 212.834,87.8705 \"/>\n",
       "<path clip-path=\"url(#clip820)\" d=\"M50.9921 1446.48 L80.6679 1446.48 L80.6679 1450.41 L50.9921 1450.41 L50.9921 1446.48 Z\" fill=\"#000000\" fill-rule=\"nonzero\" fill-opacity=\"1\" /><path clip-path=\"url(#clip820)\" d=\"M94.7882 1459.37 L111.108 1459.37 L111.108 1463.31 L89.1632 1463.31 L89.1632 1459.37 Q91.8252 1456.62 96.4085 1451.99 Q101.015 1447.33 102.196 1445.99 Q104.441 1443.47 105.321 1441.73 Q106.223 1439.97 106.223 1438.28 Q106.223 1435.53 104.279 1433.79 Q102.358 1432.06 99.2558 1432.06 Q97.0567 1432.06 94.603 1432.82 Q92.1725 1433.58 89.3947 1435.13 L89.3947 1430.41 Q92.2188 1429.28 94.6724 1428.7 Q97.1261 1428.12 99.1632 1428.12 Q104.534 1428.12 107.728 1430.81 Q110.922 1433.49 110.922 1437.98 Q110.922 1440.11 110.112 1442.03 Q109.325 1443.93 107.219 1446.52 Q106.64 1447.19 103.538 1450.41 Q100.436 1453.61 94.7882 1459.37 Z\" fill=\"#000000\" fill-rule=\"nonzero\" fill-opacity=\"1\" /><path clip-path=\"url(#clip820)\" d=\"M120.922 1457.43 L125.807 1457.43 L125.807 1463.31 L120.922 1463.31 L120.922 1457.43 Z\" fill=\"#000000\" fill-rule=\"nonzero\" fill-opacity=\"1\" /><path clip-path=\"url(#clip820)\" d=\"M145.992 1431.82 Q142.381 1431.82 140.552 1435.39 Q138.746 1438.93 138.746 1446.06 Q138.746 1453.17 140.552 1456.73 Q142.381 1460.27 145.992 1460.27 Q149.626 1460.27 151.431 1456.73 Q153.26 1453.17 153.26 1446.06 Q153.26 1438.93 151.431 1435.39 Q149.626 1431.82 145.992 1431.82 M145.992 1428.12 Q151.802 1428.12 154.857 1432.73 Q157.936 1437.31 157.936 1446.06 Q157.936 1454.79 154.857 1459.39 Q151.802 1463.98 145.992 1463.98 Q140.181 1463.98 137.103 1459.39 Q134.047 1454.79 134.047 1446.06 Q134.047 1437.31 137.103 1432.73 Q140.181 1428.12 145.992 1428.12 Z\" fill=\"#000000\" fill-rule=\"nonzero\" fill-opacity=\"1\" /><path clip-path=\"url(#clip820)\" d=\"M51.9875 1106.94 L81.6633 1106.94 L81.6633 1110.87 L51.9875 1110.87 L51.9875 1106.94 Z\" fill=\"#000000\" fill-rule=\"nonzero\" fill-opacity=\"1\" /><path clip-path=\"url(#clip820)\" d=\"M92.566 1119.83 L100.205 1119.83 L100.205 1093.47 L91.8947 1095.13 L91.8947 1090.87 L100.159 1089.21 L104.834 1089.21 L104.834 1119.83 L112.473 1119.83 L112.473 1123.77 L92.566 1123.77 L92.566 1119.83 Z\" fill=\"#000000\" fill-rule=\"nonzero\" fill-opacity=\"1\" /><path clip-path=\"url(#clip820)\" d=\"M121.918 1117.89 L126.802 1117.89 L126.802 1123.77 L121.918 1123.77 L121.918 1117.89 Z\" fill=\"#000000\" fill-rule=\"nonzero\" fill-opacity=\"1\" /><path clip-path=\"url(#clip820)\" d=\"M137.033 1089.21 L155.39 1089.21 L155.39 1093.14 L141.316 1093.14 L141.316 1101.61 Q142.334 1101.27 143.353 1101.1 Q144.371 1100.92 145.39 1100.92 Q151.177 1100.92 154.556 1104.09 Q157.936 1107.26 157.936 1112.68 Q157.936 1118.26 154.464 1121.36 Q150.992 1124.44 144.672 1124.44 Q142.496 1124.44 140.228 1124.07 Q137.982 1123.7 135.575 1122.96 L135.575 1118.26 Q137.658 1119.39 139.881 1119.95 Q142.103 1120.5 144.58 1120.5 Q148.584 1120.5 150.922 1118.4 Q153.26 1116.29 153.26 1112.68 Q153.26 1109.07 150.922 1106.96 Q148.584 1104.85 144.58 1104.85 Q142.705 1104.85 140.83 1105.27 Q138.978 1105.69 137.033 1106.57 L137.033 1089.21 Z\" fill=\"#000000\" fill-rule=\"nonzero\" fill-opacity=\"1\" /><path clip-path=\"url(#clip820)\" d=\"M50.9921 767.399 L80.6679 767.399 L80.6679 771.335 L50.9921 771.335 L50.9921 767.399 Z\" fill=\"#000000\" fill-rule=\"nonzero\" fill-opacity=\"1\" /><path clip-path=\"url(#clip820)\" d=\"M91.5706 780.293 L99.2095 780.293 L99.2095 753.927 L90.8993 755.594 L90.8993 751.335 L99.1632 749.668 L103.839 749.668 L103.839 780.293 L111.478 780.293 L111.478 784.228 L91.5706 784.228 L91.5706 780.293 Z\" fill=\"#000000\" fill-rule=\"nonzero\" fill-opacity=\"1\" /><path clip-path=\"url(#clip820)\" d=\"M120.922 778.348 L125.807 778.348 L125.807 784.228 L120.922 784.228 L120.922 778.348 Z\" fill=\"#000000\" fill-rule=\"nonzero\" fill-opacity=\"1\" /><path clip-path=\"url(#clip820)\" d=\"M145.992 752.747 Q142.381 752.747 140.552 756.312 Q138.746 759.853 138.746 766.983 Q138.746 774.089 140.552 777.654 Q142.381 781.196 145.992 781.196 Q149.626 781.196 151.431 777.654 Q153.26 774.089 153.26 766.983 Q153.26 759.853 151.431 756.312 Q149.626 752.747 145.992 752.747 M145.992 749.043 Q151.802 749.043 154.857 753.649 Q157.936 758.233 157.936 766.983 Q157.936 775.71 154.857 780.316 Q151.802 784.899 145.992 784.899 Q140.181 784.899 137.103 780.316 Q134.047 775.71 134.047 766.983 Q134.047 758.233 137.103 753.649 Q140.181 749.043 145.992 749.043 Z\" fill=\"#000000\" fill-rule=\"nonzero\" fill-opacity=\"1\" /><path clip-path=\"url(#clip820)\" d=\"M51.9875 427.861 L81.6633 427.861 L81.6633 431.796 L51.9875 431.796 L51.9875 427.861 Z\" fill=\"#000000\" fill-rule=\"nonzero\" fill-opacity=\"1\" /><path clip-path=\"url(#clip820)\" d=\"M101.756 413.208 Q98.1447 413.208 96.316 416.773 Q94.5104 420.314 94.5104 427.444 Q94.5104 434.55 96.316 438.115 Q98.1447 441.657 101.756 441.657 Q105.39 441.657 107.196 438.115 Q109.024 434.55 109.024 427.444 Q109.024 420.314 107.196 416.773 Q105.39 413.208 101.756 413.208 M101.756 409.504 Q107.566 409.504 110.621 414.111 Q113.7 418.694 113.7 427.444 Q113.7 436.171 110.621 440.777 Q107.566 445.361 101.756 445.361 Q95.9456 445.361 92.8669 440.777 Q89.8114 436.171 89.8114 427.444 Q89.8114 418.694 92.8669 414.111 Q95.9456 409.504 101.756 409.504 Z\" fill=\"#000000\" fill-rule=\"nonzero\" fill-opacity=\"1\" /><path clip-path=\"url(#clip820)\" d=\"M121.918 438.81 L126.802 438.81 L126.802 444.689 L121.918 444.689 L121.918 438.81 Z\" fill=\"#000000\" fill-rule=\"nonzero\" fill-opacity=\"1\" /><path clip-path=\"url(#clip820)\" d=\"M137.033 410.129 L155.39 410.129 L155.39 414.064 L141.316 414.064 L141.316 422.537 Q142.334 422.189 143.353 422.027 Q144.371 421.842 145.39 421.842 Q151.177 421.842 154.556 425.013 Q157.936 428.185 157.936 433.601 Q157.936 439.18 154.464 442.282 Q150.992 445.361 144.672 445.361 Q142.496 445.361 140.228 444.99 Q137.982 444.62 135.575 443.879 L135.575 439.18 Q137.658 440.314 139.881 440.87 Q142.103 441.425 144.58 441.425 Q148.584 441.425 150.922 439.319 Q153.26 437.212 153.26 433.601 Q153.26 429.99 150.922 427.884 Q148.584 425.777 144.58 425.777 Q142.705 425.777 140.83 426.194 Q138.978 426.611 137.033 427.49 L137.033 410.129 Z\" fill=\"#000000\" fill-rule=\"nonzero\" fill-opacity=\"1\" /><path clip-path=\"url(#clip820)\" d=\"M100.76 73.6691 Q97.1493 73.6691 95.3206 77.2339 Q93.515 80.7756 93.515 87.9052 Q93.515 95.0116 95.3206 98.5764 Q97.1493 102.118 100.76 102.118 Q104.395 102.118 106.2 98.5764 Q108.029 95.0116 108.029 87.9052 Q108.029 80.7756 106.2 77.2339 Q104.395 73.6691 100.76 73.6691 M100.76 69.9655 Q106.571 69.9655 109.626 74.5719 Q112.705 79.1552 112.705 87.9052 Q112.705 96.632 109.626 101.238 Q106.571 105.822 100.76 105.822 Q94.9502 105.822 91.8715 101.238 Q88.816 96.632 88.816 87.9052 Q88.816 79.1552 91.8715 74.5719 Q94.9502 69.9655 100.76 69.9655 Z\" fill=\"#000000\" fill-rule=\"nonzero\" fill-opacity=\"1\" /><path clip-path=\"url(#clip820)\" d=\"M120.922 99.2709 L125.807 99.2709 L125.807 105.15 L120.922 105.15 L120.922 99.2709 Z\" fill=\"#000000\" fill-rule=\"nonzero\" fill-opacity=\"1\" /><path clip-path=\"url(#clip820)\" d=\"M145.992 73.6691 Q142.381 73.6691 140.552 77.2339 Q138.746 80.7756 138.746 87.9052 Q138.746 95.0116 140.552 98.5764 Q142.381 102.118 145.992 102.118 Q149.626 102.118 151.431 98.5764 Q153.26 95.0116 153.26 87.9052 Q153.26 80.7756 151.431 77.2339 Q149.626 73.6691 145.992 73.6691 M145.992 69.9655 Q151.802 69.9655 154.857 74.5719 Q157.936 79.1552 157.936 87.9052 Q157.936 96.632 154.857 101.238 Q151.802 105.822 145.992 105.822 Q140.181 105.822 137.103 101.238 Q134.047 96.632 134.047 87.9052 Q134.047 79.1552 137.103 74.5719 Q140.181 69.9655 145.992 69.9655 Z\" fill=\"#000000\" fill-rule=\"nonzero\" fill-opacity=\"1\" /><polyline clip-path=\"url(#clip822)\" style=\"stroke:#009af9; stroke-linecap:round; stroke-linejoin:round; stroke-width:4; stroke-opacity:1; fill:none\" points=\"255.035,149.465 258.35,147.638 261.664,145.837 264.979,144.063 268.294,142.315 298.945,127.418 329.596,114.838 360.247,104.62 390.898,96.8017 409.318,93.2698 427.737,90.6194 446.157,88.8542 464.577,87.9763 495.725,88.5134 526.872,91.5888 560.707,97.7919 594.542,106.949 625.735,117.973 656.928,131.432 690.37,148.509 723.812,168.253 762.558,194.351 801.304,223.762 835.737,252.544 870.17,283.678 900.364,312.803 930.558,343.524 963.478,378.711 996.398,415.521 1029.51,454.03 1062.63,493.863 1135.86,585.795 1205.53,676.768 1277.98,773.123 1338.96,854.216 1413.41,951.412 1481.62,1037.04 1513.11,1075.04 1544.61,1111.86 1576.51,1147.82 1608.42,1182.28 1644.17,1218.95 1679.93,1253.4 1712.33,1282.55 1744.73,1309.61 1781.83,1337.88 1818.92,1363.13 1853.27,1383.69 1887.62,1401.45 1921.48,1416.13 1955.34,1427.94 1988.22,1436.61 2021.1,1442.48 2054.8,1445.59 2088.51,1445.72 2106.97,1444.53 2125.44,1442.44 2143.9,1439.48 2162.36,1435.62 2189.18,1428.46 2216,1419.46 2242.83,1408.66 2269.65,1396.07 2275.15,1393.27 2280.65,1390.39 2286.15,1387.45 2291.66,1384.43 \"/>\n",
       "<path clip-path=\"url(#clip820)\" d=\"M2012.48 198.898 L2280.8 198.898 L2280.8 95.2176 L2012.48 95.2176  Z\" fill=\"#ffffff\" fill-rule=\"evenodd\" fill-opacity=\"1\"/>\n",
       "<polyline clip-path=\"url(#clip820)\" style=\"stroke:#000000; stroke-linecap:round; stroke-linejoin:round; stroke-width:4; stroke-opacity:1; fill:none\" points=\"2012.48,198.898 2280.8,198.898 2280.8,95.2176 2012.48,95.2176 2012.48,198.898 \"/>\n",
       "<polyline clip-path=\"url(#clip820)\" style=\"stroke:#009af9; stroke-linecap:round; stroke-linejoin:round; stroke-width:4; stroke-opacity:1; fill:none\" points=\"2036.47,147.058 2180.39,147.058 \"/>\n",
       "<path clip-path=\"url(#clip820)\" d=\"M2218.22 166.745 Q2216.42 171.375 2214.7 172.787 Q2212.99 174.199 2210.12 174.199 L2206.72 174.199 L2206.72 170.634 L2209.22 170.634 Q2210.98 170.634 2211.95 169.8 Q2212.92 168.967 2214.1 165.865 L2214.86 163.921 L2204.38 138.412 L2208.89 138.412 L2216.99 158.689 L2225.1 138.412 L2229.61 138.412 L2218.22 166.745 Z\" fill=\"#000000\" fill-rule=\"nonzero\" fill-opacity=\"1\" /><path clip-path=\"url(#clip820)\" d=\"M2236.9 160.402 L2244.54 160.402 L2244.54 134.037 L2236.23 135.703 L2236.23 131.444 L2244.49 129.778 L2249.17 129.778 L2249.17 160.402 L2256.81 160.402 L2256.81 164.338 L2236.9 164.338 L2236.9 160.402 Z\" fill=\"#000000\" fill-rule=\"nonzero\" fill-opacity=\"1\" /></svg>\n"
      ]
     },
     "execution_count": 13,
     "metadata": {},
     "output_type": "execute_result"
    }
   ],
   "source": [
    "plot(D(f), -2,2)"
   ]
  },
  {
   "cell_type": "code",
   "execution_count": 14,
   "metadata": {},
   "outputs": [
    {
     "data": {
      "text/plain": [
       "Results of univariate zero finding:\n",
       "\n",
       "* Converged to: 0.7390851332151607\n",
       "* Algorithm: Roots.Newton()\n",
       "* iterations: 5\n",
       "* function evaluations ≈ 10\n",
       "* stopped as f(x_n) = 0\n",
       "\n",
       "Trace:\n",
       "x₁ = 0,\t fx₁ = 1\n",
       "x₂ = 1,\t fx₂ = -0.45969769413186023\n",
       "x₃ = 0.75036386784024389,\t fx₃ = -0.018923073822117442\n",
       "x₄ = 0.73911289091136168,\t fx₄ = -4.6455898990771516e-05\n",
       "x₅ = 0.73908513338528403,\t fx₅ = -2.8472058044570758e-10\n",
       "x₆ = 0.73908513321516067,\t fx₆ = 0\n",
       "\n"
      ]
     },
     "metadata": {},
     "output_type": "display_data"
    },
    {
     "data": {
      "text/plain": [
       "0.7390851332151607"
      ]
     },
     "execution_count": 14,
     "metadata": {},
     "output_type": "execute_result"
    }
   ],
   "source": [
    "#wywolanie metody Newtona\n",
    "find_zero((f, D(f)),0, Roots.Newton(),verbose=true)"
   ]
  },
  {
   "cell_type": "markdown",
   "metadata": {},
   "source": [
    "#### 2.2 Metoda Halleya (potrzebuje pierwszej i drugiej pochodnej)"
   ]
  },
  {
   "cell_type": "code",
   "execution_count": 15,
   "metadata": {},
   "outputs": [
    {
     "data": {
      "text/plain": [
       "Results of univariate zero finding:\n",
       "\n",
       "* Converged to: 0.7390851332151606\n",
       "* Algorithm: Roots.Halley()\n",
       "* iterations: 4\n",
       "* function evaluations ≈ 15\n",
       "* stopped as |f(x_n)| ≤ max(δ, |x|⋅ϵ) using δ = atol, ϵ = rtol\n",
       "\n",
       "Trace:\n",
       "x₁ = 0,\t fx₁ = 1\n",
       "x₂ = 0.66666666666666663,\t fx₂ = 0.11922059411028141\n",
       "x₃ = 0.73903926244631024,\t fx₃ = 7.6769092960393692e-05\n",
       "x₄ = 0.73908513321514946,\t fx₄ = 1.865174681370263e-14\n",
       "x₅ = 0.73908513321516056,\t fx₅ = 1.1102230246251565e-16\n",
       "\n"
      ]
     },
     "metadata": {},
     "output_type": "display_data"
    },
    {
     "data": {
      "text/plain": [
       "0.7390851332151606"
      ]
     },
     "execution_count": 15,
     "metadata": {},
     "output_type": "execute_result"
    }
   ],
   "source": [
    "DD(f) = x->ForwardDiff.derivative(D(f), float(x))\n",
    "find_zero((f, D(f), DD(f)), 0.0, Roots.Halley(), verbose=true) "
   ]
  },
  {
   "cell_type": "markdown",
   "metadata": {},
   "source": [
    "### 3. Metody korzystające z przybliżenia pochodnej"
   ]
  },
  {
   "cell_type": "markdown",
   "metadata": {},
   "source": [
    "#### 3.1 Domyślna metoda bazuje na metodzie z <a href=\"http://www.hpl.hp.com/hpjournal/pdfs/IssuePDFs/1979-12.pdf\"> kalkulatorów HP-34</a> , używa metody siecznych\n",
    "oraz metody bazującej na przedziale wg artykułu:\n",
    "\n",
    "<a href=\"http://na.math.kit.edu/alefeld/download/1995_Algorithm_748_Enclosing_Zeros_of_Continuous_Functions.pdf\">G. E. Alefeld, F. A. Potra, and\n",
    "Y. Shi, \"Algorithm 748: enclosing zeros of continuous functions,\" ACM\n",
    "Trans. Math. Softw. 21, 327–344 (1995), DOI: 10.1145/210089.210111. </a>"
   ]
  },
  {
   "cell_type": "code",
   "execution_count": 16,
   "metadata": {},
   "outputs": [
    {
     "data": {
      "text/plain": [
       "Results of univariate zero finding:\n",
       "\n",
       "* Converged to: 0.7390851332151607\n",
       "* Algorithm: Secant(); finished with bracketing method AlefeldPotraShi()\n",
       "* iterations: 4\n",
       "* function evaluations ≈ 10\n",
       "* stopped as x_n ≈ x_{n-1} using atol=xatol, rtol=xrtol\n",
       "* Note: Used bracketing method AlefeldPotraShi() on  [0.0,0.9999969722835389]\n",
       "\n",
       "Trace:\n",
       "x₁ = 6.0554544523933395e-06,\t fx₁ = 0.99999394452721335\n",
       "x₂ = 0,\t fx₂ = 1\n",
       "x₃ = 0.9999969722835389,\t fx₃ = -0.4596921186823234\n",
       "(a₃, b₃) = ( 0, 0.9999969722835389 )\n",
       "(a₄, b₄) = ( 0.68507389982090516, 0.9999969722835389 )\n",
       "(a₅, b₅) = ( 0.73908449070788018, 0.739085775539707 )\n",
       "(a₆, b₆) = ( 0.73908513321516056, 0.73908513321516078 )\n",
       "\n"
      ]
     },
     "metadata": {},
     "output_type": "display_data"
    },
    {
     "data": {
      "text/plain": [
       "0.7390851332151607"
      ]
     },
     "execution_count": 16,
     "metadata": {},
     "output_type": "execute_result"
    }
   ],
   "source": [
    "x = find_zero(f, 0,   verbose=true)"
   ]
  },
  {
   "cell_type": "markdown",
   "metadata": {},
   "source": [
    "Metody find_zero dla wyzszych rzędów to wariacje metody Newtona, które nie korzystaja z pochodnej, ale ja przyblizają.\n"
   ]
  },
  {
   "cell_type": "markdown",
   "metadata": {},
   "source": [
    "#### 3.2 Metoda siecznych"
   ]
  },
  {
   "cell_type": "code",
   "execution_count": 17,
   "metadata": {},
   "outputs": [
    {
     "data": {
      "text/plain": [
       "Results of univariate zero finding:\n",
       "\n",
       "* Converged to: 0.7390851332151607\n",
       "* Algorithm: Secant()\n",
       "* iterations: 7\n",
       "* function evaluations ≈ 9\n",
       "* stopped as f(x_n) = 0\n",
       "\n",
       "Trace:\n",
       "x₁ = 6.0554544523933395e-06,\t fx₁ = 0.99999394452721335\n",
       "x₂ = 0,\t fx₂ = 1\n",
       "x₃ = 0.9999969722835389,\t fx₃ = -0.4596921186823234\n",
       "x₄ = 0.68507389982090516,\t fx₄ = 0.089298390734211308\n",
       "x₅ = 0.73629905416077657,\t fx₅ = 0.0046599445167858633\n",
       "x₆ = 0.7391193608624661,\t fx₆ = -5.7284235187471388e-05\n",
       "x₇ = 0.73908511212853889,\t fx₇ = 3.5290823707789798e-08\n",
       "x₈ = 0.73908513321500136,\t fx₈ = 2.6656454821250009e-13\n",
       "x₉ = 0.73908513321516067,\t fx₉ = 0\n",
       "\n"
      ]
     },
     "metadata": {},
     "output_type": "display_data"
    },
    {
     "data": {
      "text/plain": [
       "0.7390851332151607"
      ]
     },
     "execution_count": 17,
     "metadata": {},
     "output_type": "execute_result"
    }
   ],
   "source": [
    "# wywołanie find_zero używając punktu startowego (a nie przedziału) \n",
    "# oraz opcji order=1   wykorzystuje metodę siecznych  \n",
    "x = find_zero(f, 0, Order1(),  verbose=true) "
   ]
  },
  {
   "cell_type": "code",
   "execution_count": 18,
   "metadata": {},
   "outputs": [
    {
     "data": {
      "text/plain": [
       "0.7390851332151607"
      ]
     },
     "execution_count": 18,
     "metadata": {},
     "output_type": "execute_result"
    }
   ],
   "source": [
    "# metoda siecznych może być wywołana bezpośrednio \n",
    "# implementacja taka sama jak find_zero(f, 0, Order1()), ale bez\n",
    "# narzutów frameworku oraz mniejsza ilość sprawdzanych warunków zbieżności - szybsza\n",
    "Roots.secant_method(f, 0)"
   ]
  },
  {
   "cell_type": "code",
   "execution_count": 19,
   "metadata": {},
   "outputs": [
    {
     "data": {
      "text/plain": [
       "0.7390851332151607"
      ]
     },
     "execution_count": 19,
     "metadata": {},
     "output_type": "execute_result"
    }
   ],
   "source": [
    "# mozemy podać przedział\n",
    "Roots.secant_method(f, (0,1))"
   ]
  },
  {
   "cell_type": "markdown",
   "metadata": {},
   "source": [
    "#### 3.3 Metoda Steffensena \n",
    "przybliża pochodną poprzez  (f(x + f(x)) - f(x))/f(x)  \n",
    "aby ja wywołać podajemy punkt startowy oraz order 2"
   ]
  },
  {
   "cell_type": "code",
   "execution_count": 20,
   "metadata": {},
   "outputs": [
    {
     "data": {
      "text/plain": [
       "Results of univariate zero finding:\n",
       "\n",
       "* Converged to: 0.7390851332151607\n",
       "* Algorithm: Order2()\n",
       "* iterations: 6\n",
       "* function evaluations ≈ 10\n",
       "* stopped as f(x_n) = 0\n",
       "\n",
       "Trace:\n",
       "x₁ = 6.0554544523933395e-06,\t fx₁ = 0.99999394452721335\n",
       "x₂ = 0,\t fx₂ = 1\n",
       "x₃ = 0.9999969722835389,\t fx₃ = -0.4596921186823234\n",
       "x₄ = 0.68507389982090516,\t fx₄ = 0.089298390734211308\n",
       "x₅ = 0.73629905416077657,\t fx₅ = 0.0046599445167858633\n",
       "x₆ = 0.7391193608624661,\t fx₆ = -5.7284235187471388e-05\n",
       "x₇ = 0.73908513304090806,\t fx₇ = 2.9163127468478933e-10\n",
       "x₈ = 0.73908513321516067,\t fx₈ = 0\n",
       "\n"
      ]
     },
     "metadata": {},
     "output_type": "display_data"
    },
    {
     "data": {
      "text/plain": [
       "0.7390851332151607"
      ]
     },
     "execution_count": 20,
     "metadata": {},
     "output_type": "execute_result"
    }
   ],
   "source": [
    "x = find_zero(f, 0, Order2(), verbose=true) "
   ]
  },
  {
   "cell_type": "code",
   "execution_count": 21,
   "metadata": {},
   "outputs": [
    {
     "data": {
      "text/plain": [
       "Results of univariate zero finding:\n",
       "\n",
       "* Converged to: 0.7390851332151607\n",
       "* Algorithm: Order8()\n",
       "* iterations: 5\n",
       "* function evaluations ≈ 10\n",
       "* stopped as f(x_n) = 0\n",
       "\n",
       "Trace:\n",
       "x₁ = 6.0554544523933395e-06,\t fx₁ = 0.99999394452721335\n",
       "x₂ = 0,\t fx₂ = 1\n",
       "x₃ = 0.9999969722835389,\t fx₃ = -0.4596921186823234\n",
       "x₄ = 0.68507389982090516,\t fx₄ = 0.089298390734211308\n",
       "x₅ = 0.73629905416077657,\t fx₅ = 0.0046599445167858633\n",
       "x₆ = 0.7391193608624661,\t fx₆ = -5.7284235187471388e-05\n",
       "x₇ = 0.73908513321516067,\t fx₇ = 0\n",
       "\n"
      ]
     },
     "metadata": {},
     "output_type": "display_data"
    },
    {
     "data": {
      "text/plain": [
       "0.7390851332151607"
      ]
     },
     "execution_count": 21,
     "metadata": {},
     "output_type": "execute_result"
    }
   ],
   "source": [
    "# mozliwe sa jeszcze rzędy 5, 8 i 16\n",
    "x = find_zero(f, 0, Order8(), verbose=true) "
   ]
  },
  {
   "cell_type": "markdown",
   "metadata": {},
   "source": [
    "Można użyć funkcji fzero do znajdowania nieciagłości"
   ]
  },
  {
   "cell_type": "code",
   "execution_count": 22,
   "metadata": {},
   "outputs": [
    {
     "data": {
      "image/png": "[encoded data removed]",
      "image/svg+xml": [
       "<?xml version=\"1.0\" encoding=\"utf-8\"?>\n",
       "<svg xmlns=\"http://www.w3.org/2000/svg\" xmlns:xlink=\"http://www.w3.org/1999/xlink\" width=\"600\" height=\"400\" viewBox=\"0 0 2400 1600\">\n",
       "<defs>\n",
       "  <clipPath id=\"clip860\">\n",
       "    <rect x=\"0\" y=\"0\" width=\"2400\" height=\"1600\"/>\n",
       "  </clipPath>\n",
       "</defs>\n",
       "<path clip-path=\"url(#clip860)\" d=\"M0 1600 L2400 1600 L2400 0 L0 0  Z\" fill=\"#ffffff\" fill-rule=\"evenodd\" fill-opacity=\"1\"/>\n",
       "<defs>\n",
       "  <clipPath id=\"clip861\">\n",
       "    <rect x=\"480\" y=\"0\" width=\"1681\" height=\"1600\"/>\n",
       "  </clipPath>\n",
       "</defs>\n",
       "<path clip-path=\"url(#clip860)\" d=\"M209.029 1486.45 L2352.76 1486.45 L2352.76 47.2441 L209.029 47.2441  Z\" fill=\"#ffffff\" fill-rule=\"evenodd\" fill-opacity=\"1\"/>\n",
       "<defs>\n",
       "  <clipPath id=\"clip862\">\n",
       "    <rect x=\"209\" y=\"47\" width=\"2145\" height=\"1440\"/>\n",
       "  </clipPath>\n",
       "</defs>\n",
       "<polyline clip-path=\"url(#clip862)\" style=\"stroke:#000000; stroke-linecap:round; stroke-linejoin:round; stroke-width:2; stroke-opacity:0.1; fill:none\" points=\"471.938,1486.45 471.938,47.2441 \"/>\n",
       "<polyline clip-path=\"url(#clip862)\" style=\"stroke:#000000; stroke-linecap:round; stroke-linejoin:round; stroke-width:2; stroke-opacity:0.1; fill:none\" points=\"876.415,1486.45 876.415,47.2441 \"/>\n",
       "<polyline clip-path=\"url(#clip862)\" style=\"stroke:#000000; stroke-linecap:round; stroke-linejoin:round; stroke-width:2; stroke-opacity:0.1; fill:none\" points=\"1280.89,1486.45 1280.89,47.2441 \"/>\n",
       "<polyline clip-path=\"url(#clip862)\" style=\"stroke:#000000; stroke-linecap:round; stroke-linejoin:round; stroke-width:2; stroke-opacity:0.1; fill:none\" points=\"1685.37,1486.45 1685.37,47.2441 \"/>\n",
       "<polyline clip-path=\"url(#clip862)\" style=\"stroke:#000000; stroke-linecap:round; stroke-linejoin:round; stroke-width:2; stroke-opacity:0.1; fill:none\" points=\"2089.85,1486.45 2089.85,47.2441 \"/>\n",
       "<polyline clip-path=\"url(#clip860)\" style=\"stroke:#000000; stroke-linecap:round; stroke-linejoin:round; stroke-width:4; stroke-opacity:1; fill:none\" points=\"209.029,1486.45 2352.76,1486.45 \"/>\n",
       "<polyline clip-path=\"url(#clip860)\" style=\"stroke:#000000; stroke-linecap:round; stroke-linejoin:round; stroke-width:4; stroke-opacity:1; fill:none\" points=\"471.938,1486.45 471.938,1467.55 \"/>\n",
       "<polyline clip-path=\"url(#clip860)\" style=\"stroke:#000000; stroke-linecap:round; stroke-linejoin:round; stroke-width:4; stroke-opacity:1; fill:none\" points=\"876.415,1486.45 876.415,1467.55 \"/>\n",
       "<polyline clip-path=\"url(#clip860)\" style=\"stroke:#000000; stroke-linecap:round; stroke-linejoin:round; stroke-width:4; stroke-opacity:1; fill:none\" points=\"1280.89,1486.45 1280.89,1467.55 \"/>\n",
       "<polyline clip-path=\"url(#clip860)\" style=\"stroke:#000000; stroke-linecap:round; stroke-linejoin:round; stroke-width:4; stroke-opacity:1; fill:none\" points=\"1685.37,1486.45 1685.37,1467.55 \"/>\n",
       "<polyline clip-path=\"url(#clip860)\" style=\"stroke:#000000; stroke-linecap:round; stroke-linejoin:round; stroke-width:4; stroke-opacity:1; fill:none\" points=\"2089.85,1486.45 2089.85,1467.55 \"/>\n",
       "<path clip-path=\"url(#clip860)\" d=\"M440.839 1532.02 L470.515 1532.02 L470.515 1535.95 L440.839 1535.95 L440.839 1532.02 Z\" fill=\"#000000\" fill-rule=\"nonzero\" fill-opacity=\"1\" /><path clip-path=\"url(#clip860)\" d=\"M493.455 1518.36 L481.649 1536.81 L493.455 1536.81 L493.455 1518.36 M492.228 1514.29 L498.107 1514.29 L498.107 1536.81 L503.038 1536.81 L503.038 1540.7 L498.107 1540.7 L498.107 1548.85 L493.455 1548.85 L493.455 1540.7 L477.853 1540.7 L477.853 1536.19 L492.228 1514.29 Z\" fill=\"#000000\" fill-rule=\"nonzero\" fill-opacity=\"1\" /><path clip-path=\"url(#clip860)\" d=\"M846.358 1532.02 L876.033 1532.02 L876.033 1535.95 L846.358 1535.95 L846.358 1532.02 Z\" fill=\"#000000\" fill-rule=\"nonzero\" fill-opacity=\"1\" /><path clip-path=\"url(#clip860)\" d=\"M890.154 1544.91 L906.473 1544.91 L906.473 1548.85 L884.529 1548.85 L884.529 1544.91 Q887.191 1542.16 891.774 1537.53 Q896.381 1532.88 897.561 1531.53 Q899.806 1529.01 900.686 1527.27 Q901.589 1525.51 901.589 1523.82 Q901.589 1521.07 899.644 1519.33 Q897.723 1517.6 894.621 1517.6 Q892.422 1517.6 889.969 1518.36 Q887.538 1519.13 884.76 1520.68 L884.76 1515.95 Q887.584 1514.82 890.038 1514.24 Q892.492 1513.66 894.529 1513.66 Q899.899 1513.66 903.093 1516.35 Q906.288 1519.03 906.288 1523.52 Q906.288 1525.65 905.478 1527.57 Q904.691 1529.47 902.584 1532.07 Q902.005 1532.74 898.904 1535.95 Q895.802 1539.15 890.154 1544.91 Z\" fill=\"#000000\" fill-rule=\"nonzero\" fill-opacity=\"1\" /><path clip-path=\"url(#clip860)\" d=\"M1280.89 1517.37 Q1277.28 1517.37 1275.45 1520.93 Q1273.65 1524.47 1273.65 1531.6 Q1273.65 1538.71 1275.45 1542.27 Q1277.28 1545.82 1280.89 1545.82 Q1284.53 1545.82 1286.33 1542.27 Q1288.16 1538.71 1288.16 1531.6 Q1288.16 1524.47 1286.33 1520.93 Q1284.53 1517.37 1280.89 1517.37 M1280.89 1513.66 Q1286.7 1513.66 1289.76 1518.27 Q1292.84 1522.85 1292.84 1531.6 Q1292.84 1540.33 1289.76 1544.94 Q1286.7 1549.52 1280.89 1549.52 Q1275.08 1549.52 1272 1544.94 Q1268.95 1540.33 1268.95 1531.6 Q1268.95 1522.85 1272 1518.27 Q1275.08 1513.66 1280.89 1513.66 Z\" fill=\"#000000\" fill-rule=\"nonzero\" fill-opacity=\"1\" /><path clip-path=\"url(#clip860)\" d=\"M1680.02 1544.91 L1696.34 1544.91 L1696.34 1548.85 L1674.4 1548.85 L1674.4 1544.91 Q1677.06 1542.16 1681.64 1537.53 Q1686.25 1532.88 1687.43 1531.53 Q1689.67 1529.01 1690.55 1527.27 Q1691.46 1525.51 1691.46 1523.82 Q1691.46 1521.07 1689.51 1519.33 Q1687.59 1517.6 1684.49 1517.6 Q1682.29 1517.6 1679.84 1518.36 Q1677.41 1519.13 1674.63 1520.68 L1674.63 1515.95 Q1677.45 1514.82 1679.91 1514.24 Q1682.36 1513.66 1684.4 1513.66 Q1689.77 1513.66 1692.96 1516.35 Q1696.16 1519.03 1696.16 1523.52 Q1696.16 1525.65 1695.35 1527.57 Q1694.56 1529.47 1692.45 1532.07 Q1691.87 1532.74 1688.77 1535.95 Q1685.67 1539.15 1680.02 1544.91 Z\" fill=\"#000000\" fill-rule=\"nonzero\" fill-opacity=\"1\" /><path clip-path=\"url(#clip860)\" d=\"M2092.86 1518.36 L2081.05 1536.81 L2092.86 1536.81 L2092.86 1518.36 M2091.63 1514.29 L2097.51 1514.29 L2097.51 1536.81 L2102.44 1536.81 L2102.44 1540.7 L2097.51 1540.7 L2097.51 1548.85 L2092.86 1548.85 L2092.86 1540.7 L2077.25 1540.7 L2077.25 1536.19 L2091.63 1514.29 Z\" fill=\"#000000\" fill-rule=\"nonzero\" fill-opacity=\"1\" /><polyline clip-path=\"url(#clip862)\" style=\"stroke:#000000; stroke-linecap:round; stroke-linejoin:round; stroke-width:2; stroke-opacity:0.1; fill:none\" points=\"209.029,1479.73 2352.76,1479.73 \"/>\n",
       "<polyline clip-path=\"url(#clip862)\" style=\"stroke:#000000; stroke-linecap:round; stroke-linejoin:round; stroke-width:2; stroke-opacity:0.1; fill:none\" points=\"209.029,1200.9 2352.76,1200.9 \"/>\n",
       "<polyline clip-path=\"url(#clip862)\" style=\"stroke:#000000; stroke-linecap:round; stroke-linejoin:round; stroke-width:2; stroke-opacity:0.1; fill:none\" points=\"209.029,922.068 2352.76,922.068 \"/>\n",
       "<polyline clip-path=\"url(#clip862)\" style=\"stroke:#000000; stroke-linecap:round; stroke-linejoin:round; stroke-width:2; stroke-opacity:0.1; fill:none\" points=\"209.029,643.236 2352.76,643.236 \"/>\n",
       "<polyline clip-path=\"url(#clip862)\" style=\"stroke:#000000; stroke-linecap:round; stroke-linejoin:round; stroke-width:2; stroke-opacity:0.1; fill:none\" points=\"209.029,364.403 2352.76,364.403 \"/>\n",
       "<polyline clip-path=\"url(#clip862)\" style=\"stroke:#000000; stroke-linecap:round; stroke-linejoin:round; stroke-width:2; stroke-opacity:0.1; fill:none\" points=\"209.029,85.571 2352.76,85.571 \"/>\n",
       "<polyline clip-path=\"url(#clip860)\" style=\"stroke:#000000; stroke-linecap:round; stroke-linejoin:round; stroke-width:4; stroke-opacity:1; fill:none\" points=\"209.029,1486.45 209.029,47.2441 \"/>\n",
       "<polyline clip-path=\"url(#clip860)\" style=\"stroke:#000000; stroke-linecap:round; stroke-linejoin:round; stroke-width:4; stroke-opacity:1; fill:none\" points=\"209.029,1479.73 227.926,1479.73 \"/>\n",
       "<polyline clip-path=\"url(#clip860)\" style=\"stroke:#000000; stroke-linecap:round; stroke-linejoin:round; stroke-width:4; stroke-opacity:1; fill:none\" points=\"209.029,1200.9 227.926,1200.9 \"/>\n",
       "<polyline clip-path=\"url(#clip860)\" style=\"stroke:#000000; stroke-linecap:round; stroke-linejoin:round; stroke-width:4; stroke-opacity:1; fill:none\" points=\"209.029,922.068 227.926,922.068 \"/>\n",
       "<polyline clip-path=\"url(#clip860)\" style=\"stroke:#000000; stroke-linecap:round; stroke-linejoin:round; stroke-width:4; stroke-opacity:1; fill:none\" points=\"209.029,643.236 227.926,643.236 \"/>\n",
       "<polyline clip-path=\"url(#clip860)\" style=\"stroke:#000000; stroke-linecap:round; stroke-linejoin:round; stroke-width:4; stroke-opacity:1; fill:none\" points=\"209.029,364.403 227.926,364.403 \"/>\n",
       "<polyline clip-path=\"url(#clip860)\" style=\"stroke:#000000; stroke-linecap:round; stroke-linejoin:round; stroke-width:4; stroke-opacity:1; fill:none\" points=\"209.029,85.571 227.926,85.571 \"/>\n",
       "<path clip-path=\"url(#clip860)\" d=\"M50.9921 1480.18 L80.6679 1480.18 L80.6679 1484.12 L50.9921 1484.12 L50.9921 1480.18 Z\" fill=\"#000000\" fill-rule=\"nonzero\" fill-opacity=\"1\" /><path clip-path=\"url(#clip860)\" d=\"M90.8067 1462.45 L109.163 1462.45 L109.163 1466.39 L95.0891 1466.39 L95.0891 1474.86 Q96.1076 1474.51 97.1261 1474.35 Q98.1447 1474.17 99.1632 1474.17 Q104.95 1474.17 108.33 1477.34 Q111.709 1480.51 111.709 1485.93 Q111.709 1491.5 108.237 1494.61 Q104.765 1497.68 98.4456 1497.68 Q96.2697 1497.68 94.0012 1497.31 Q91.7558 1496.94 89.3484 1496.2 L89.3484 1491.5 Q91.4317 1492.64 93.6539 1493.19 Q95.8761 1493.75 98.353 1493.75 Q102.358 1493.75 104.696 1491.64 Q107.033 1489.54 107.033 1485.93 Q107.033 1482.31 104.696 1480.21 Q102.358 1478.1 98.353 1478.1 Q96.478 1478.1 94.603 1478.52 Q92.7512 1478.93 90.8067 1479.81 L90.8067 1462.45 Z\" fill=\"#000000\" fill-rule=\"nonzero\" fill-opacity=\"1\" /><path clip-path=\"url(#clip860)\" d=\"M130.922 1465.53 Q127.311 1465.53 125.482 1469.1 Q123.677 1472.64 123.677 1479.77 Q123.677 1486.87 125.482 1490.44 Q127.311 1493.98 130.922 1493.98 Q134.556 1493.98 136.362 1490.44 Q138.191 1486.87 138.191 1479.77 Q138.191 1472.64 136.362 1469.1 Q134.556 1465.53 130.922 1465.53 M130.922 1461.83 Q136.732 1461.83 139.788 1466.43 Q142.867 1471.02 142.867 1479.77 Q142.867 1488.49 139.788 1493.1 Q136.732 1497.68 130.922 1497.68 Q125.112 1497.68 122.033 1493.1 Q118.978 1488.49 118.978 1479.77 Q118.978 1471.02 122.033 1466.43 Q125.112 1461.83 130.922 1461.83 Z\" fill=\"#000000\" fill-rule=\"nonzero\" fill-opacity=\"1\" /><path clip-path=\"url(#clip860)\" d=\"M161.084 1465.53 Q157.473 1465.53 155.644 1469.1 Q153.839 1472.64 153.839 1479.77 Q153.839 1486.87 155.644 1490.44 Q157.473 1493.98 161.084 1493.98 Q164.718 1493.98 166.524 1490.44 Q168.353 1486.87 168.353 1479.77 Q168.353 1472.64 166.524 1469.1 Q164.718 1465.53 161.084 1465.53 M161.084 1461.83 Q166.894 1461.83 169.95 1466.43 Q173.029 1471.02 173.029 1479.77 Q173.029 1488.49 169.95 1493.1 Q166.894 1497.68 161.084 1497.68 Q155.274 1497.68 152.195 1493.1 Q149.14 1488.49 149.14 1479.77 Q149.14 1471.02 152.195 1466.43 Q155.274 1461.83 161.084 1461.83 Z\" fill=\"#000000\" fill-rule=\"nonzero\" fill-opacity=\"1\" /><path clip-path=\"url(#clip860)\" d=\"M161.084 1186.7 Q157.473 1186.7 155.644 1190.26 Q153.839 1193.81 153.839 1200.94 Q153.839 1208.04 155.644 1211.61 Q157.473 1215.15 161.084 1215.15 Q164.718 1215.15 166.524 1211.61 Q168.353 1208.04 168.353 1200.94 Q168.353 1193.81 166.524 1190.26 Q164.718 1186.7 161.084 1186.7 M161.084 1183 Q166.894 1183 169.95 1187.6 Q173.029 1192.19 173.029 1200.94 Q173.029 1209.66 169.95 1214.27 Q166.894 1218.85 161.084 1218.85 Q155.274 1218.85 152.195 1214.27 Q149.14 1209.66 149.14 1200.94 Q149.14 1192.19 152.195 1187.6 Q155.274 1183 161.084 1183 Z\" fill=\"#000000\" fill-rule=\"nonzero\" fill-opacity=\"1\" /><path clip-path=\"url(#clip860)\" d=\"M90.8067 904.788 L109.163 904.788 L109.163 908.724 L95.0891 908.724 L95.0891 917.196 Q96.1076 916.848 97.1261 916.686 Q98.1447 916.501 99.1632 916.501 Q104.95 916.501 108.33 919.673 Q111.709 922.844 111.709 928.26 Q111.709 933.839 108.237 936.941 Q104.765 940.02 98.4456 940.02 Q96.2697 940.02 94.0012 939.649 Q91.7558 939.279 89.3484 938.538 L89.3484 933.839 Q91.4317 934.973 93.6539 935.529 Q95.8761 936.084 98.353 936.084 Q102.358 936.084 104.696 933.978 Q107.033 931.872 107.033 928.26 Q107.033 924.649 104.696 922.543 Q102.358 920.436 98.353 920.436 Q96.478 920.436 94.603 920.853 Q92.7512 921.27 90.8067 922.149 L90.8067 904.788 Z\" fill=\"#000000\" fill-rule=\"nonzero\" fill-opacity=\"1\" /><path clip-path=\"url(#clip860)\" d=\"M130.922 907.867 Q127.311 907.867 125.482 911.432 Q123.677 914.973 123.677 922.103 Q123.677 929.21 125.482 932.774 Q127.311 936.316 130.922 936.316 Q134.556 936.316 136.362 932.774 Q138.191 929.21 138.191 922.103 Q138.191 914.973 136.362 911.432 Q134.556 907.867 130.922 907.867 M130.922 904.163 Q136.732 904.163 139.788 908.77 Q142.867 913.353 142.867 922.103 Q142.867 930.83 139.788 935.436 Q136.732 940.02 130.922 940.02 Q125.112 940.02 122.033 935.436 Q118.978 930.83 118.978 922.103 Q118.978 913.353 122.033 908.77 Q125.112 904.163 130.922 904.163 Z\" fill=\"#000000\" fill-rule=\"nonzero\" fill-opacity=\"1\" /><path clip-path=\"url(#clip860)\" d=\"M161.084 907.867 Q157.473 907.867 155.644 911.432 Q153.839 914.973 153.839 922.103 Q153.839 929.21 155.644 932.774 Q157.473 936.316 161.084 936.316 Q164.718 936.316 166.524 932.774 Q168.353 929.21 168.353 922.103 Q168.353 914.973 166.524 911.432 Q164.718 907.867 161.084 907.867 M161.084 904.163 Q166.894 904.163 169.95 908.77 Q173.029 913.353 173.029 922.103 Q173.029 930.83 169.95 935.436 Q166.894 940.02 161.084 940.02 Q155.274 940.02 152.195 935.436 Q149.14 930.83 149.14 922.103 Q149.14 913.353 152.195 908.77 Q155.274 904.163 161.084 904.163 Z\" fill=\"#000000\" fill-rule=\"nonzero\" fill-opacity=\"1\" /><path clip-path=\"url(#clip860)\" d=\"M61.4087 656.581 L69.0476 656.581 L69.0476 630.215 L60.7374 631.882 L60.7374 627.623 L69.0013 625.956 L73.6772 625.956 L73.6772 656.581 L81.316 656.581 L81.316 660.516 L61.4087 660.516 L61.4087 656.581 Z\" fill=\"#000000\" fill-rule=\"nonzero\" fill-opacity=\"1\" /><path clip-path=\"url(#clip860)\" d=\"M100.76 629.035 Q97.1493 629.035 95.3206 632.599 Q93.515 636.141 93.515 643.271 Q93.515 650.377 95.3206 653.942 Q97.1493 657.484 100.76 657.484 Q104.395 657.484 106.2 653.942 Q108.029 650.377 108.029 643.271 Q108.029 636.141 106.2 632.599 Q104.395 629.035 100.76 629.035 M100.76 625.331 Q106.571 625.331 109.626 629.937 Q112.705 634.521 112.705 643.271 Q112.705 651.997 109.626 656.604 Q106.571 661.187 100.76 661.187 Q94.9502 661.187 91.8715 656.604 Q88.816 651.997 88.816 643.271 Q88.816 634.521 91.8715 629.937 Q94.9502 625.331 100.76 625.331 Z\" fill=\"#000000\" fill-rule=\"nonzero\" fill-opacity=\"1\" /><path clip-path=\"url(#clip860)\" d=\"M130.922 629.035 Q127.311 629.035 125.482 632.599 Q123.677 636.141 123.677 643.271 Q123.677 650.377 125.482 653.942 Q127.311 657.484 130.922 657.484 Q134.556 657.484 136.362 653.942 Q138.191 650.377 138.191 643.271 Q138.191 636.141 136.362 632.599 Q134.556 629.035 130.922 629.035 M130.922 625.331 Q136.732 625.331 139.788 629.937 Q142.867 634.521 142.867 643.271 Q142.867 651.997 139.788 656.604 Q136.732 661.187 130.922 661.187 Q125.112 661.187 122.033 656.604 Q118.978 651.997 118.978 643.271 Q118.978 634.521 122.033 629.937 Q125.112 625.331 130.922 625.331 Z\" fill=\"#000000\" fill-rule=\"nonzero\" fill-opacity=\"1\" /><path clip-path=\"url(#clip860)\" d=\"M161.084 629.035 Q157.473 629.035 155.644 632.599 Q153.839 636.141 153.839 643.271 Q153.839 650.377 155.644 653.942 Q157.473 657.484 161.084 657.484 Q164.718 657.484 166.524 653.942 Q168.353 650.377 168.353 643.271 Q168.353 636.141 166.524 632.599 Q164.718 629.035 161.084 629.035 M161.084 625.331 Q166.894 625.331 169.95 629.937 Q173.029 634.521 173.029 643.271 Q173.029 651.997 169.95 656.604 Q166.894 661.187 161.084 661.187 Q155.274 661.187 152.195 656.604 Q149.14 651.997 149.14 643.271 Q149.14 634.521 152.195 629.937 Q155.274 625.331 161.084 625.331 Z\" fill=\"#000000\" fill-rule=\"nonzero\" fill-opacity=\"1\" /><path clip-path=\"url(#clip860)\" d=\"M61.4087 377.748 L69.0476 377.748 L69.0476 351.383 L60.7374 353.049 L60.7374 348.79 L69.0013 347.123 L73.6772 347.123 L73.6772 377.748 L81.316 377.748 L81.316 381.683 L61.4087 381.683 L61.4087 377.748 Z\" fill=\"#000000\" fill-rule=\"nonzero\" fill-opacity=\"1\" /><path clip-path=\"url(#clip860)\" d=\"M90.8067 347.123 L109.163 347.123 L109.163 351.059 L95.0891 351.059 L95.0891 359.531 Q96.1076 359.184 97.1261 359.022 Q98.1447 358.836 99.1632 358.836 Q104.95 358.836 108.33 362.008 Q111.709 365.179 111.709 370.596 Q111.709 376.174 108.237 379.276 Q104.765 382.355 98.4456 382.355 Q96.2697 382.355 94.0012 381.984 Q91.7558 381.614 89.3484 380.873 L89.3484 376.174 Q91.4317 377.309 93.6539 377.864 Q95.8761 378.42 98.353 378.42 Q102.358 378.42 104.696 376.313 Q107.033 374.207 107.033 370.596 Q107.033 366.984 104.696 364.878 Q102.358 362.772 98.353 362.772 Q96.478 362.772 94.603 363.188 Q92.7512 363.605 90.8067 364.484 L90.8067 347.123 Z\" fill=\"#000000\" fill-rule=\"nonzero\" fill-opacity=\"1\" /><path clip-path=\"url(#clip860)\" d=\"M130.922 350.202 Q127.311 350.202 125.482 353.767 Q123.677 357.309 123.677 364.438 Q123.677 371.545 125.482 375.109 Q127.311 378.651 130.922 378.651 Q134.556 378.651 136.362 375.109 Q138.191 371.545 138.191 364.438 Q138.191 357.309 136.362 353.767 Q134.556 350.202 130.922 350.202 M130.922 346.498 Q136.732 346.498 139.788 351.105 Q142.867 355.688 142.867 364.438 Q142.867 373.165 139.788 377.771 Q136.732 382.355 130.922 382.355 Q125.112 382.355 122.033 377.771 Q118.978 373.165 118.978 364.438 Q118.978 355.688 122.033 351.105 Q125.112 346.498 130.922 346.498 Z\" fill=\"#000000\" fill-rule=\"nonzero\" fill-opacity=\"1\" /><path clip-path=\"url(#clip860)\" d=\"M161.084 350.202 Q157.473 350.202 155.644 353.767 Q153.839 357.309 153.839 364.438 Q153.839 371.545 155.644 375.109 Q157.473 378.651 161.084 378.651 Q164.718 378.651 166.524 375.109 Q168.353 371.545 168.353 364.438 Q168.353 357.309 166.524 353.767 Q164.718 350.202 161.084 350.202 M161.084 346.498 Q166.894 346.498 169.95 351.105 Q173.029 355.688 173.029 364.438 Q173.029 373.165 169.95 377.771 Q166.894 382.355 161.084 382.355 Q155.274 382.355 152.195 377.771 Q149.14 373.165 149.14 364.438 Q149.14 355.688 152.195 351.105 Q155.274 346.498 161.084 346.498 Z\" fill=\"#000000\" fill-rule=\"nonzero\" fill-opacity=\"1\" /><path clip-path=\"url(#clip860)\" d=\"M64.6263 98.9159 L80.9457 98.9159 L80.9457 102.851 L59.0013 102.851 L59.0013 98.9159 Q61.6634 96.1613 66.2467 91.5317 Q70.8531 86.8789 72.0337 85.5363 Q74.279 83.0132 75.1587 81.2771 Q76.0614 79.5178 76.0614 77.828 Q76.0614 75.0734 74.117 73.3373 Q72.1957 71.6012 69.0939 71.6012 Q66.8948 71.6012 64.4411 72.3651 Q62.0106 73.129 59.2328 74.6799 L59.2328 69.9577 Q62.0569 68.8235 64.5106 68.2448 Q66.9643 67.6661 69.0013 67.6661 Q74.3716 67.6661 77.5661 70.3512 Q80.7605 73.0364 80.7605 77.5271 Q80.7605 79.6567 79.9503 81.578 Q79.1633 83.4762 77.0568 86.0687 Q76.4781 86.74 73.3763 89.9576 Q70.2744 93.152 64.6263 98.9159 Z\" fill=\"#000000\" fill-rule=\"nonzero\" fill-opacity=\"1\" /><path clip-path=\"url(#clip860)\" d=\"M100.76 71.3697 Q97.1493 71.3697 95.3206 74.9345 Q93.515 78.4762 93.515 85.6058 Q93.515 92.7122 95.3206 96.277 Q97.1493 99.8187 100.76 99.8187 Q104.395 99.8187 106.2 96.277 Q108.029 92.7122 108.029 85.6058 Q108.029 78.4762 106.2 74.9345 Q104.395 71.3697 100.76 71.3697 M100.76 67.6661 Q106.571 67.6661 109.626 72.2725 Q112.705 76.8558 112.705 85.6058 Q112.705 94.3326 109.626 98.939 Q106.571 103.522 100.76 103.522 Q94.9502 103.522 91.8715 98.939 Q88.816 94.3326 88.816 85.6058 Q88.816 76.8558 91.8715 72.2725 Q94.9502 67.6661 100.76 67.6661 Z\" fill=\"#000000\" fill-rule=\"nonzero\" fill-opacity=\"1\" /><path clip-path=\"url(#clip860)\" d=\"M130.922 71.3697 Q127.311 71.3697 125.482 74.9345 Q123.677 78.4762 123.677 85.6058 Q123.677 92.7122 125.482 96.277 Q127.311 99.8187 130.922 99.8187 Q134.556 99.8187 136.362 96.277 Q138.191 92.7122 138.191 85.6058 Q138.191 78.4762 136.362 74.9345 Q134.556 71.3697 130.922 71.3697 M130.922 67.6661 Q136.732 67.6661 139.788 72.2725 Q142.867 76.8558 142.867 85.6058 Q142.867 94.3326 139.788 98.939 Q136.732 103.522 130.922 103.522 Q125.112 103.522 122.033 98.939 Q118.978 94.3326 118.978 85.6058 Q118.978 76.8558 122.033 72.2725 Q125.112 67.6661 130.922 67.6661 Z\" fill=\"#000000\" fill-rule=\"nonzero\" fill-opacity=\"1\" /><path clip-path=\"url(#clip860)\" d=\"M161.084 71.3697 Q157.473 71.3697 155.644 74.9345 Q153.839 78.4762 153.839 85.6058 Q153.839 92.7122 155.644 96.277 Q157.473 99.8187 161.084 99.8187 Q164.718 99.8187 166.524 96.277 Q168.353 92.7122 168.353 85.6058 Q168.353 78.4762 166.524 74.9345 Q164.718 71.3697 161.084 71.3697 M161.084 67.6661 Q166.894 67.6661 169.95 72.2725 Q173.029 76.8558 173.029 85.6058 Q173.029 94.3326 169.95 98.939 Q166.894 103.522 161.084 103.522 Q155.274 103.522 152.195 98.939 Q149.14 94.3326 149.14 85.6058 Q149.14 76.8558 152.195 72.2725 Q155.274 67.6661 161.084 67.6661 Z\" fill=\"#000000\" fill-rule=\"nonzero\" fill-opacity=\"1\" /><polyline clip-path=\"url(#clip862)\" style=\"stroke:#009af9; stroke-linecap:round; stroke-linejoin:round; stroke-width:4; stroke-opacity:1; fill:none\" points=\"269.7,1201.01 282.867,1201.01 404.613,1201.03 477.778,1201.04 539.637,1201.05 606.834,1201.07 668.784,1201.09 735.2,1201.11 812.15,1201.14 880.534,1201.18 940.501,1201.23 1005.88,1201.31 1071.65,1201.44 1089.83,1201.49 1108.01,1201.55 1126.19,1201.63 1144.36,1201.73 1161.66,1201.85 1178.96,1202.01 1187.61,1202.11 1196.25,1202.23 1204.9,1202.38 1213.55,1202.58 1222.54,1202.83 1231.54,1203.19 1236.03,1203.41 1240.53,1203.69 1245.02,1204.05 1249.52,1204.5 1254.02,1205.1 1258.51,1205.94 1263.01,1207.21 1267.51,1209.33 1269.75,1211.03 1272,1213.59 1273.13,1215.42 1274.25,1217.88 1275.37,1221.34 1276.5,1226.56 1277.06,1230.33 1277.62,1235.38 1278.18,1242.54 1278.75,1253.44 1279.31,1272.07 1279.87,1311.18 1280.43,1445.72 1280.99,87.9763 1281.56,1030.88 1282.12,1108.86 1282.68,1137.8 1283.24,1152.9 1283.8,1162.16 1284.37,1168.43 1284.93,1172.95 1285.49,1176.37 1286.44,1180.56 1287.38,1183.52 1288.33,1185.73 1289.27,1187.45 1291.17,1189.92 1293.06,1191.63 1296.84,1193.83 1300.63,1195.19 1304.41,1196.11 1308.2,1196.77 1311.98,1197.27 1315.77,1197.67 1319.55,1197.98 1323.34,1198.24 1327.12,1198.46 1330.91,1198.65 1338.48,1198.94 1346.05,1199.17 1355.29,1199.38 1364.53,1199.55 1373.77,1199.69 1383.01,1199.8 1401.5,1199.97 1419.98,1200.09 1453.84,1200.25 1487.71,1200.36 1550.26,1200.48 1613.62,1200.56 1684.63,1200.62 1748.98,1200.66 1822.65,1200.69 1890.87,1200.72 1958.12,1200.73 2023.42,1200.75 2090.36,1200.76 2163.69,1200.77 2270.23,1200.79 2292.08,1200.79 \"/>\n",
       "<path clip-path=\"url(#clip860)\" d=\"M2014.5 198.898 L2281.3 198.898 L2281.3 95.2176 L2014.5 95.2176  Z\" fill=\"#ffffff\" fill-rule=\"evenodd\" fill-opacity=\"1\"/>\n",
       "<polyline clip-path=\"url(#clip860)\" style=\"stroke:#000000; stroke-linecap:round; stroke-linejoin:round; stroke-width:4; stroke-opacity:1; fill:none\" points=\"2014.5,198.898 2281.3,198.898 2281.3,95.2176 2014.5,95.2176 2014.5,198.898 \"/>\n",
       "<polyline clip-path=\"url(#clip860)\" style=\"stroke:#009af9; stroke-linecap:round; stroke-linejoin:round; stroke-width:4; stroke-opacity:1; fill:none\" points=\"2038.31,147.058 2181.23,147.058 \"/>\n",
       "<path clip-path=\"url(#clip860)\" d=\"M2218.89 166.745 Q2217.09 171.375 2215.37 172.787 Q2213.66 174.199 2210.79 174.199 L2207.39 174.199 L2207.39 170.634 L2209.89 170.634 Q2211.65 170.634 2212.62 169.8 Q2213.59 168.967 2214.77 165.865 L2215.53 163.921 L2205.05 138.412 L2209.56 138.412 L2217.66 158.689 L2225.77 138.412 L2230.28 138.412 L2218.89 166.745 Z\" fill=\"#000000\" fill-rule=\"nonzero\" fill-opacity=\"1\" /><path clip-path=\"url(#clip860)\" d=\"M2237.57 160.402 L2245.21 160.402 L2245.21 134.037 L2236.9 135.703 L2236.9 131.444 L2245.16 129.778 L2249.84 129.778 L2249.84 160.402 L2257.48 160.402 L2257.48 164.338 L2237.57 164.338 L2237.57 160.402 Z\" fill=\"#000000\" fill-rule=\"nonzero\" fill-opacity=\"1\" /></svg>\n"
      ],
      "text/html": [
       "<?xml version=\"1.0\" encoding=\"utf-8\"?>\n",
       "<svg xmlns=\"http://www.w3.org/2000/svg\" xmlns:xlink=\"http://www.w3.org/1999/xlink\" width=\"600\" height=\"400\" viewBox=\"0 0 2400 1600\">\n",
       "<defs>\n",
       "  <clipPath id=\"clip910\">\n",
       "    <rect x=\"0\" y=\"0\" width=\"2400\" height=\"1600\"/>\n",
       "  </clipPath>\n",
       "</defs>\n",
       "<path clip-path=\"url(#clip910)\" d=\"M0 1600 L2400 1600 L2400 0 L0 0  Z\" fill=\"#ffffff\" fill-rule=\"evenodd\" fill-opacity=\"1\"/>\n",
       "<defs>\n",
       "  <clipPath id=\"clip911\">\n",
       "    <rect x=\"480\" y=\"0\" width=\"1681\" height=\"1600\"/>\n",
       "  </clipPath>\n",
       "</defs>\n",
       "<path clip-path=\"url(#clip910)\" d=\"M209.029 1486.45 L2352.76 1486.45 L2352.76 47.2441 L209.029 47.2441  Z\" fill=\"#ffffff\" fill-rule=\"evenodd\" fill-opacity=\"1\"/>\n",
       "<defs>\n",
       "  <clipPath id=\"clip912\">\n",
       "    <rect x=\"209\" y=\"47\" width=\"2145\" height=\"1440\"/>\n",
       "  </clipPath>\n",
       "</defs>\n",
       "<polyline clip-path=\"url(#clip912)\" style=\"stroke:#000000; stroke-linecap:round; stroke-linejoin:round; stroke-width:2; stroke-opacity:0.1; fill:none\" points=\"471.938,1486.45 471.938,47.2441 \"/>\n",
       "<polyline clip-path=\"url(#clip912)\" style=\"stroke:#000000; stroke-linecap:round; stroke-linejoin:round; stroke-width:2; stroke-opacity:0.1; fill:none\" points=\"876.415,1486.45 876.415,47.2441 \"/>\n",
       "<polyline clip-path=\"url(#clip912)\" style=\"stroke:#000000; stroke-linecap:round; stroke-linejoin:round; stroke-width:2; stroke-opacity:0.1; fill:none\" points=\"1280.89,1486.45 1280.89,47.2441 \"/>\n",
       "<polyline clip-path=\"url(#clip912)\" style=\"stroke:#000000; stroke-linecap:round; stroke-linejoin:round; stroke-width:2; stroke-opacity:0.1; fill:none\" points=\"1685.37,1486.45 1685.37,47.2441 \"/>\n",
       "<polyline clip-path=\"url(#clip912)\" style=\"stroke:#000000; stroke-linecap:round; stroke-linejoin:round; stroke-width:2; stroke-opacity:0.1; fill:none\" points=\"2089.85,1486.45 2089.85,47.2441 \"/>\n",
       "<polyline clip-path=\"url(#clip910)\" style=\"stroke:#000000; stroke-linecap:round; stroke-linejoin:round; stroke-width:4; stroke-opacity:1; fill:none\" points=\"209.029,1486.45 2352.76,1486.45 \"/>\n",
       "<polyline clip-path=\"url(#clip910)\" style=\"stroke:#000000; stroke-linecap:round; stroke-linejoin:round; stroke-width:4; stroke-opacity:1; fill:none\" points=\"471.938,1486.45 471.938,1467.55 \"/>\n",
       "<polyline clip-path=\"url(#clip910)\" style=\"stroke:#000000; stroke-linecap:round; stroke-linejoin:round; stroke-width:4; stroke-opacity:1; fill:none\" points=\"876.415,1486.45 876.415,1467.55 \"/>\n",
       "<polyline clip-path=\"url(#clip910)\" style=\"stroke:#000000; stroke-linecap:round; stroke-linejoin:round; stroke-width:4; stroke-opacity:1; fill:none\" points=\"1280.89,1486.45 1280.89,1467.55 \"/>\n",
       "<polyline clip-path=\"url(#clip910)\" style=\"stroke:#000000; stroke-linecap:round; stroke-linejoin:round; stroke-width:4; stroke-opacity:1; fill:none\" points=\"1685.37,1486.45 1685.37,1467.55 \"/>\n",
       "<polyline clip-path=\"url(#clip910)\" style=\"stroke:#000000; stroke-linecap:round; stroke-linejoin:round; stroke-width:4; stroke-opacity:1; fill:none\" points=\"2089.85,1486.45 2089.85,1467.55 \"/>\n",
       "<path clip-path=\"url(#clip910)\" d=\"M440.839 1532.02 L470.515 1532.02 L470.515 1535.95 L440.839 1535.95 L440.839 1532.02 Z\" fill=\"#000000\" fill-rule=\"nonzero\" fill-opacity=\"1\" /><path clip-path=\"url(#clip910)\" d=\"M493.455 1518.36 L481.649 1536.81 L493.455 1536.81 L493.455 1518.36 M492.228 1514.29 L498.107 1514.29 L498.107 1536.81 L503.038 1536.81 L503.038 1540.7 L498.107 1540.7 L498.107 1548.85 L493.455 1548.85 L493.455 1540.7 L477.853 1540.7 L477.853 1536.19 L492.228 1514.29 Z\" fill=\"#000000\" fill-rule=\"nonzero\" fill-opacity=\"1\" /><path clip-path=\"url(#clip910)\" d=\"M846.358 1532.02 L876.033 1532.02 L876.033 1535.95 L846.358 1535.95 L846.358 1532.02 Z\" fill=\"#000000\" fill-rule=\"nonzero\" fill-opacity=\"1\" /><path clip-path=\"url(#clip910)\" d=\"M890.154 1544.91 L906.473 1544.91 L906.473 1548.85 L884.529 1548.85 L884.529 1544.91 Q887.191 1542.16 891.774 1537.53 Q896.381 1532.88 897.561 1531.53 Q899.806 1529.01 900.686 1527.27 Q901.589 1525.51 901.589 1523.82 Q901.589 1521.07 899.644 1519.33 Q897.723 1517.6 894.621 1517.6 Q892.422 1517.6 889.969 1518.36 Q887.538 1519.13 884.76 1520.68 L884.76 1515.95 Q887.584 1514.82 890.038 1514.24 Q892.492 1513.66 894.529 1513.66 Q899.899 1513.66 903.093 1516.35 Q906.288 1519.03 906.288 1523.52 Q906.288 1525.65 905.478 1527.57 Q904.691 1529.47 902.584 1532.07 Q902.005 1532.74 898.904 1535.95 Q895.802 1539.15 890.154 1544.91 Z\" fill=\"#000000\" fill-rule=\"nonzero\" fill-opacity=\"1\" /><path clip-path=\"url(#clip910)\" d=\"M1280.89 1517.37 Q1277.28 1517.37 1275.45 1520.93 Q1273.65 1524.47 1273.65 1531.6 Q1273.65 1538.71 1275.45 1542.27 Q1277.28 1545.82 1280.89 1545.82 Q1284.53 1545.82 1286.33 1542.27 Q1288.16 1538.71 1288.16 1531.6 Q1288.16 1524.47 1286.33 1520.93 Q1284.53 1517.37 1280.89 1517.37 M1280.89 1513.66 Q1286.7 1513.66 1289.76 1518.27 Q1292.84 1522.85 1292.84 1531.6 Q1292.84 1540.33 1289.76 1544.94 Q1286.7 1549.52 1280.89 1549.52 Q1275.08 1549.52 1272 1544.94 Q1268.95 1540.33 1268.95 1531.6 Q1268.95 1522.85 1272 1518.27 Q1275.08 1513.66 1280.89 1513.66 Z\" fill=\"#000000\" fill-rule=\"nonzero\" fill-opacity=\"1\" /><path clip-path=\"url(#clip910)\" d=\"M1680.02 1544.91 L1696.34 1544.91 L1696.34 1548.85 L1674.4 1548.85 L1674.4 1544.91 Q1677.06 1542.16 1681.64 1537.53 Q1686.25 1532.88 1687.43 1531.53 Q1689.67 1529.01 1690.55 1527.27 Q1691.46 1525.51 1691.46 1523.82 Q1691.46 1521.07 1689.51 1519.33 Q1687.59 1517.6 1684.49 1517.6 Q1682.29 1517.6 1679.84 1518.36 Q1677.41 1519.13 1674.63 1520.68 L1674.63 1515.95 Q1677.45 1514.82 1679.91 1514.24 Q1682.36 1513.66 1684.4 1513.66 Q1689.77 1513.66 1692.96 1516.35 Q1696.16 1519.03 1696.16 1523.52 Q1696.16 1525.65 1695.35 1527.57 Q1694.56 1529.47 1692.45 1532.07 Q1691.87 1532.74 1688.77 1535.95 Q1685.67 1539.15 1680.02 1544.91 Z\" fill=\"#000000\" fill-rule=\"nonzero\" fill-opacity=\"1\" /><path clip-path=\"url(#clip910)\" d=\"M2092.86 1518.36 L2081.05 1536.81 L2092.86 1536.81 L2092.86 1518.36 M2091.63 1514.29 L2097.51 1514.29 L2097.51 1536.81 L2102.44 1536.81 L2102.44 1540.7 L2097.51 1540.7 L2097.51 1548.85 L2092.86 1548.85 L2092.86 1540.7 L2077.25 1540.7 L2077.25 1536.19 L2091.63 1514.29 Z\" fill=\"#000000\" fill-rule=\"nonzero\" fill-opacity=\"1\" /><polyline clip-path=\"url(#clip912)\" style=\"stroke:#000000; stroke-linecap:round; stroke-linejoin:round; stroke-width:2; stroke-opacity:0.1; fill:none\" points=\"209.029,1479.73 2352.76,1479.73 \"/>\n",
       "<polyline clip-path=\"url(#clip912)\" style=\"stroke:#000000; stroke-linecap:round; stroke-linejoin:round; stroke-width:2; stroke-opacity:0.1; fill:none\" points=\"209.029,1200.9 2352.76,1200.9 \"/>\n",
       "<polyline clip-path=\"url(#clip912)\" style=\"stroke:#000000; stroke-linecap:round; stroke-linejoin:round; stroke-width:2; stroke-opacity:0.1; fill:none\" points=\"209.029,922.068 2352.76,922.068 \"/>\n",
       "<polyline clip-path=\"url(#clip912)\" style=\"stroke:#000000; stroke-linecap:round; stroke-linejoin:round; stroke-width:2; stroke-opacity:0.1; fill:none\" points=\"209.029,643.236 2352.76,643.236 \"/>\n",
       "<polyline clip-path=\"url(#clip912)\" style=\"stroke:#000000; stroke-linecap:round; stroke-linejoin:round; stroke-width:2; stroke-opacity:0.1; fill:none\" points=\"209.029,364.403 2352.76,364.403 \"/>\n",
       "<polyline clip-path=\"url(#clip912)\" style=\"stroke:#000000; stroke-linecap:round; stroke-linejoin:round; stroke-width:2; stroke-opacity:0.1; fill:none\" points=\"209.029,85.571 2352.76,85.571 \"/>\n",
       "<polyline clip-path=\"url(#clip910)\" style=\"stroke:#000000; stroke-linecap:round; stroke-linejoin:round; stroke-width:4; stroke-opacity:1; fill:none\" points=\"209.029,1486.45 209.029,47.2441 \"/>\n",
       "<polyline clip-path=\"url(#clip910)\" style=\"stroke:#000000; stroke-linecap:round; stroke-linejoin:round; stroke-width:4; stroke-opacity:1; fill:none\" points=\"209.029,1479.73 227.926,1479.73 \"/>\n",
       "<polyline clip-path=\"url(#clip910)\" style=\"stroke:#000000; stroke-linecap:round; stroke-linejoin:round; stroke-width:4; stroke-opacity:1; fill:none\" points=\"209.029,1200.9 227.926,1200.9 \"/>\n",
       "<polyline clip-path=\"url(#clip910)\" style=\"stroke:#000000; stroke-linecap:round; stroke-linejoin:round; stroke-width:4; stroke-opacity:1; fill:none\" points=\"209.029,922.068 227.926,922.068 \"/>\n",
       "<polyline clip-path=\"url(#clip910)\" style=\"stroke:#000000; stroke-linecap:round; stroke-linejoin:round; stroke-width:4; stroke-opacity:1; fill:none\" points=\"209.029,643.236 227.926,643.236 \"/>\n",
       "<polyline clip-path=\"url(#clip910)\" style=\"stroke:#000000; stroke-linecap:round; stroke-linejoin:round; stroke-width:4; stroke-opacity:1; fill:none\" points=\"209.029,364.403 227.926,364.403 \"/>\n",
       "<polyline clip-path=\"url(#clip910)\" style=\"stroke:#000000; stroke-linecap:round; stroke-linejoin:round; stroke-width:4; stroke-opacity:1; fill:none\" points=\"209.029,85.571 227.926,85.571 \"/>\n",
       "<path clip-path=\"url(#clip910)\" d=\"M50.9921 1480.18 L80.6679 1480.18 L80.6679 1484.12 L50.9921 1484.12 L50.9921 1480.18 Z\" fill=\"#000000\" fill-rule=\"nonzero\" fill-opacity=\"1\" /><path clip-path=\"url(#clip910)\" d=\"M90.8067 1462.45 L109.163 1462.45 L109.163 1466.39 L95.0891 1466.39 L95.0891 1474.86 Q96.1076 1474.51 97.1261 1474.35 Q98.1447 1474.17 99.1632 1474.17 Q104.95 1474.17 108.33 1477.34 Q111.709 1480.51 111.709 1485.93 Q111.709 1491.5 108.237 1494.61 Q104.765 1497.68 98.4456 1497.68 Q96.2697 1497.68 94.0012 1497.31 Q91.7558 1496.94 89.3484 1496.2 L89.3484 1491.5 Q91.4317 1492.64 93.6539 1493.19 Q95.8761 1493.75 98.353 1493.75 Q102.358 1493.75 104.696 1491.64 Q107.033 1489.54 107.033 1485.93 Q107.033 1482.31 104.696 1480.21 Q102.358 1478.1 98.353 1478.1 Q96.478 1478.1 94.603 1478.52 Q92.7512 1478.93 90.8067 1479.81 L90.8067 1462.45 Z\" fill=\"#000000\" fill-rule=\"nonzero\" fill-opacity=\"1\" /><path clip-path=\"url(#clip910)\" d=\"M130.922 1465.53 Q127.311 1465.53 125.482 1469.1 Q123.677 1472.64 123.677 1479.77 Q123.677 1486.87 125.482 1490.44 Q127.311 1493.98 130.922 1493.98 Q134.556 1493.98 136.362 1490.44 Q138.191 1486.87 138.191 1479.77 Q138.191 1472.64 136.362 1469.1 Q134.556 1465.53 130.922 1465.53 M130.922 1461.83 Q136.732 1461.83 139.788 1466.43 Q142.867 1471.02 142.867 1479.77 Q142.867 1488.49 139.788 1493.1 Q136.732 1497.68 130.922 1497.68 Q125.112 1497.68 122.033 1493.1 Q118.978 1488.49 118.978 1479.77 Q118.978 1471.02 122.033 1466.43 Q125.112 1461.83 130.922 1461.83 Z\" fill=\"#000000\" fill-rule=\"nonzero\" fill-opacity=\"1\" /><path clip-path=\"url(#clip910)\" d=\"M161.084 1465.53 Q157.473 1465.53 155.644 1469.1 Q153.839 1472.64 153.839 1479.77 Q153.839 1486.87 155.644 1490.44 Q157.473 1493.98 161.084 1493.98 Q164.718 1493.98 166.524 1490.44 Q168.353 1486.87 168.353 1479.77 Q168.353 1472.64 166.524 1469.1 Q164.718 1465.53 161.084 1465.53 M161.084 1461.83 Q166.894 1461.83 169.95 1466.43 Q173.029 1471.02 173.029 1479.77 Q173.029 1488.49 169.95 1493.1 Q166.894 1497.68 161.084 1497.68 Q155.274 1497.68 152.195 1493.1 Q149.14 1488.49 149.14 1479.77 Q149.14 1471.02 152.195 1466.43 Q155.274 1461.83 161.084 1461.83 Z\" fill=\"#000000\" fill-rule=\"nonzero\" fill-opacity=\"1\" /><path clip-path=\"url(#clip910)\" d=\"M161.084 1186.7 Q157.473 1186.7 155.644 1190.26 Q153.839 1193.81 153.839 1200.94 Q153.839 1208.04 155.644 1211.61 Q157.473 1215.15 161.084 1215.15 Q164.718 1215.15 166.524 1211.61 Q168.353 1208.04 168.353 1200.94 Q168.353 1193.81 166.524 1190.26 Q164.718 1186.7 161.084 1186.7 M161.084 1183 Q166.894 1183 169.95 1187.6 Q173.029 1192.19 173.029 1200.94 Q173.029 1209.66 169.95 1214.27 Q166.894 1218.85 161.084 1218.85 Q155.274 1218.85 152.195 1214.27 Q149.14 1209.66 149.14 1200.94 Q149.14 1192.19 152.195 1187.6 Q155.274 1183 161.084 1183 Z\" fill=\"#000000\" fill-rule=\"nonzero\" fill-opacity=\"1\" /><path clip-path=\"url(#clip910)\" d=\"M90.8067 904.788 L109.163 904.788 L109.163 908.724 L95.0891 908.724 L95.0891 917.196 Q96.1076 916.848 97.1261 916.686 Q98.1447 916.501 99.1632 916.501 Q104.95 916.501 108.33 919.673 Q111.709 922.844 111.709 928.26 Q111.709 933.839 108.237 936.941 Q104.765 940.02 98.4456 940.02 Q96.2697 940.02 94.0012 939.649 Q91.7558 939.279 89.3484 938.538 L89.3484 933.839 Q91.4317 934.973 93.6539 935.529 Q95.8761 936.084 98.353 936.084 Q102.358 936.084 104.696 933.978 Q107.033 931.872 107.033 928.26 Q107.033 924.649 104.696 922.543 Q102.358 920.436 98.353 920.436 Q96.478 920.436 94.603 920.853 Q92.7512 921.27 90.8067 922.149 L90.8067 904.788 Z\" fill=\"#000000\" fill-rule=\"nonzero\" fill-opacity=\"1\" /><path clip-path=\"url(#clip910)\" d=\"M130.922 907.867 Q127.311 907.867 125.482 911.432 Q123.677 914.973 123.677 922.103 Q123.677 929.21 125.482 932.774 Q127.311 936.316 130.922 936.316 Q134.556 936.316 136.362 932.774 Q138.191 929.21 138.191 922.103 Q138.191 914.973 136.362 911.432 Q134.556 907.867 130.922 907.867 M130.922 904.163 Q136.732 904.163 139.788 908.77 Q142.867 913.353 142.867 922.103 Q142.867 930.83 139.788 935.436 Q136.732 940.02 130.922 940.02 Q125.112 940.02 122.033 935.436 Q118.978 930.83 118.978 922.103 Q118.978 913.353 122.033 908.77 Q125.112 904.163 130.922 904.163 Z\" fill=\"#000000\" fill-rule=\"nonzero\" fill-opacity=\"1\" /><path clip-path=\"url(#clip910)\" d=\"M161.084 907.867 Q157.473 907.867 155.644 911.432 Q153.839 914.973 153.839 922.103 Q153.839 929.21 155.644 932.774 Q157.473 936.316 161.084 936.316 Q164.718 936.316 166.524 932.774 Q168.353 929.21 168.353 922.103 Q168.353 914.973 166.524 911.432 Q164.718 907.867 161.084 907.867 M161.084 904.163 Q166.894 904.163 169.95 908.77 Q173.029 913.353 173.029 922.103 Q173.029 930.83 169.95 935.436 Q166.894 940.02 161.084 940.02 Q155.274 940.02 152.195 935.436 Q149.14 930.83 149.14 922.103 Q149.14 913.353 152.195 908.77 Q155.274 904.163 161.084 904.163 Z\" fill=\"#000000\" fill-rule=\"nonzero\" fill-opacity=\"1\" /><path clip-path=\"url(#clip910)\" d=\"M61.4087 656.581 L69.0476 656.581 L69.0476 630.215 L60.7374 631.882 L60.7374 627.623 L69.0013 625.956 L73.6772 625.956 L73.6772 656.581 L81.316 656.581 L81.316 660.516 L61.4087 660.516 L61.4087 656.581 Z\" fill=\"#000000\" fill-rule=\"nonzero\" fill-opacity=\"1\" /><path clip-path=\"url(#clip910)\" d=\"M100.76 629.035 Q97.1493 629.035 95.3206 632.599 Q93.515 636.141 93.515 643.271 Q93.515 650.377 95.3206 653.942 Q97.1493 657.484 100.76 657.484 Q104.395 657.484 106.2 653.942 Q108.029 650.377 108.029 643.271 Q108.029 636.141 106.2 632.599 Q104.395 629.035 100.76 629.035 M100.76 625.331 Q106.571 625.331 109.626 629.937 Q112.705 634.521 112.705 643.271 Q112.705 651.997 109.626 656.604 Q106.571 661.187 100.76 661.187 Q94.9502 661.187 91.8715 656.604 Q88.816 651.997 88.816 643.271 Q88.816 634.521 91.8715 629.937 Q94.9502 625.331 100.76 625.331 Z\" fill=\"#000000\" fill-rule=\"nonzero\" fill-opacity=\"1\" /><path clip-path=\"url(#clip910)\" d=\"M130.922 629.035 Q127.311 629.035 125.482 632.599 Q123.677 636.141 123.677 643.271 Q123.677 650.377 125.482 653.942 Q127.311 657.484 130.922 657.484 Q134.556 657.484 136.362 653.942 Q138.191 650.377 138.191 643.271 Q138.191 636.141 136.362 632.599 Q134.556 629.035 130.922 629.035 M130.922 625.331 Q136.732 625.331 139.788 629.937 Q142.867 634.521 142.867 643.271 Q142.867 651.997 139.788 656.604 Q136.732 661.187 130.922 661.187 Q125.112 661.187 122.033 656.604 Q118.978 651.997 118.978 643.271 Q118.978 634.521 122.033 629.937 Q125.112 625.331 130.922 625.331 Z\" fill=\"#000000\" fill-rule=\"nonzero\" fill-opacity=\"1\" /><path clip-path=\"url(#clip910)\" d=\"M161.084 629.035 Q157.473 629.035 155.644 632.599 Q153.839 636.141 153.839 643.271 Q153.839 650.377 155.644 653.942 Q157.473 657.484 161.084 657.484 Q164.718 657.484 166.524 653.942 Q168.353 650.377 168.353 643.271 Q168.353 636.141 166.524 632.599 Q164.718 629.035 161.084 629.035 M161.084 625.331 Q166.894 625.331 169.95 629.937 Q173.029 634.521 173.029 643.271 Q173.029 651.997 169.95 656.604 Q166.894 661.187 161.084 661.187 Q155.274 661.187 152.195 656.604 Q149.14 651.997 149.14 643.271 Q149.14 634.521 152.195 629.937 Q155.274 625.331 161.084 625.331 Z\" fill=\"#000000\" fill-rule=\"nonzero\" fill-opacity=\"1\" /><path clip-path=\"url(#clip910)\" d=\"M61.4087 377.748 L69.0476 377.748 L69.0476 351.383 L60.7374 353.049 L60.7374 348.79 L69.0013 347.123 L73.6772 347.123 L73.6772 377.748 L81.316 377.748 L81.316 381.683 L61.4087 381.683 L61.4087 377.748 Z\" fill=\"#000000\" fill-rule=\"nonzero\" fill-opacity=\"1\" /><path clip-path=\"url(#clip910)\" d=\"M90.8067 347.123 L109.163 347.123 L109.163 351.059 L95.0891 351.059 L95.0891 359.531 Q96.1076 359.184 97.1261 359.022 Q98.1447 358.836 99.1632 358.836 Q104.95 358.836 108.33 362.008 Q111.709 365.179 111.709 370.596 Q111.709 376.174 108.237 379.276 Q104.765 382.355 98.4456 382.355 Q96.2697 382.355 94.0012 381.984 Q91.7558 381.614 89.3484 380.873 L89.3484 376.174 Q91.4317 377.309 93.6539 377.864 Q95.8761 378.42 98.353 378.42 Q102.358 378.42 104.696 376.313 Q107.033 374.207 107.033 370.596 Q107.033 366.984 104.696 364.878 Q102.358 362.772 98.353 362.772 Q96.478 362.772 94.603 363.188 Q92.7512 363.605 90.8067 364.484 L90.8067 347.123 Z\" fill=\"#000000\" fill-rule=\"nonzero\" fill-opacity=\"1\" /><path clip-path=\"url(#clip910)\" d=\"M130.922 350.202 Q127.311 350.202 125.482 353.767 Q123.677 357.309 123.677 364.438 Q123.677 371.545 125.482 375.109 Q127.311 378.651 130.922 378.651 Q134.556 378.651 136.362 375.109 Q138.191 371.545 138.191 364.438 Q138.191 357.309 136.362 353.767 Q134.556 350.202 130.922 350.202 M130.922 346.498 Q136.732 346.498 139.788 351.105 Q142.867 355.688 142.867 364.438 Q142.867 373.165 139.788 377.771 Q136.732 382.355 130.922 382.355 Q125.112 382.355 122.033 377.771 Q118.978 373.165 118.978 364.438 Q118.978 355.688 122.033 351.105 Q125.112 346.498 130.922 346.498 Z\" fill=\"#000000\" fill-rule=\"nonzero\" fill-opacity=\"1\" /><path clip-path=\"url(#clip910)\" d=\"M161.084 350.202 Q157.473 350.202 155.644 353.767 Q153.839 357.309 153.839 364.438 Q153.839 371.545 155.644 375.109 Q157.473 378.651 161.084 378.651 Q164.718 378.651 166.524 375.109 Q168.353 371.545 168.353 364.438 Q168.353 357.309 166.524 353.767 Q164.718 350.202 161.084 350.202 M161.084 346.498 Q166.894 346.498 169.95 351.105 Q173.029 355.688 173.029 364.438 Q173.029 373.165 169.95 377.771 Q166.894 382.355 161.084 382.355 Q155.274 382.355 152.195 377.771 Q149.14 373.165 149.14 364.438 Q149.14 355.688 152.195 351.105 Q155.274 346.498 161.084 346.498 Z\" fill=\"#000000\" fill-rule=\"nonzero\" fill-opacity=\"1\" /><path clip-path=\"url(#clip910)\" d=\"M64.6263 98.9159 L80.9457 98.9159 L80.9457 102.851 L59.0013 102.851 L59.0013 98.9159 Q61.6634 96.1613 66.2467 91.5317 Q70.8531 86.8789 72.0337 85.5363 Q74.279 83.0132 75.1587 81.2771 Q76.0614 79.5178 76.0614 77.828 Q76.0614 75.0734 74.117 73.3373 Q72.1957 71.6012 69.0939 71.6012 Q66.8948 71.6012 64.4411 72.3651 Q62.0106 73.129 59.2328 74.6799 L59.2328 69.9577 Q62.0569 68.8235 64.5106 68.2448 Q66.9643 67.6661 69.0013 67.6661 Q74.3716 67.6661 77.5661 70.3512 Q80.7605 73.0364 80.7605 77.5271 Q80.7605 79.6567 79.9503 81.578 Q79.1633 83.4762 77.0568 86.0687 Q76.4781 86.74 73.3763 89.9576 Q70.2744 93.152 64.6263 98.9159 Z\" fill=\"#000000\" fill-rule=\"nonzero\" fill-opacity=\"1\" /><path clip-path=\"url(#clip910)\" d=\"M100.76 71.3697 Q97.1493 71.3697 95.3206 74.9345 Q93.515 78.4762 93.515 85.6058 Q93.515 92.7122 95.3206 96.277 Q97.1493 99.8187 100.76 99.8187 Q104.395 99.8187 106.2 96.277 Q108.029 92.7122 108.029 85.6058 Q108.029 78.4762 106.2 74.9345 Q104.395 71.3697 100.76 71.3697 M100.76 67.6661 Q106.571 67.6661 109.626 72.2725 Q112.705 76.8558 112.705 85.6058 Q112.705 94.3326 109.626 98.939 Q106.571 103.522 100.76 103.522 Q94.9502 103.522 91.8715 98.939 Q88.816 94.3326 88.816 85.6058 Q88.816 76.8558 91.8715 72.2725 Q94.9502 67.6661 100.76 67.6661 Z\" fill=\"#000000\" fill-rule=\"nonzero\" fill-opacity=\"1\" /><path clip-path=\"url(#clip910)\" d=\"M130.922 71.3697 Q127.311 71.3697 125.482 74.9345 Q123.677 78.4762 123.677 85.6058 Q123.677 92.7122 125.482 96.277 Q127.311 99.8187 130.922 99.8187 Q134.556 99.8187 136.362 96.277 Q138.191 92.7122 138.191 85.6058 Q138.191 78.4762 136.362 74.9345 Q134.556 71.3697 130.922 71.3697 M130.922 67.6661 Q136.732 67.6661 139.788 72.2725 Q142.867 76.8558 142.867 85.6058 Q142.867 94.3326 139.788 98.939 Q136.732 103.522 130.922 103.522 Q125.112 103.522 122.033 98.939 Q118.978 94.3326 118.978 85.6058 Q118.978 76.8558 122.033 72.2725 Q125.112 67.6661 130.922 67.6661 Z\" fill=\"#000000\" fill-rule=\"nonzero\" fill-opacity=\"1\" /><path clip-path=\"url(#clip910)\" d=\"M161.084 71.3697 Q157.473 71.3697 155.644 74.9345 Q153.839 78.4762 153.839 85.6058 Q153.839 92.7122 155.644 96.277 Q157.473 99.8187 161.084 99.8187 Q164.718 99.8187 166.524 96.277 Q168.353 92.7122 168.353 85.6058 Q168.353 78.4762 166.524 74.9345 Q164.718 71.3697 161.084 71.3697 M161.084 67.6661 Q166.894 67.6661 169.95 72.2725 Q173.029 76.8558 173.029 85.6058 Q173.029 94.3326 169.95 98.939 Q166.894 103.522 161.084 103.522 Q155.274 103.522 152.195 98.939 Q149.14 94.3326 149.14 85.6058 Q149.14 76.8558 152.195 72.2725 Q155.274 67.6661 161.084 67.6661 Z\" fill=\"#000000\" fill-rule=\"nonzero\" fill-opacity=\"1\" /><polyline clip-path=\"url(#clip912)\" style=\"stroke:#009af9; stroke-linecap:round; stroke-linejoin:round; stroke-width:4; stroke-opacity:1; fill:none\" points=\"269.7,1201.01 282.867,1201.01 404.613,1201.03 477.778,1201.04 539.637,1201.05 606.834,1201.07 668.784,1201.09 735.2,1201.11 812.15,1201.14 880.534,1201.18 940.501,1201.23 1005.88,1201.31 1071.65,1201.44 1089.83,1201.49 1108.01,1201.55 1126.19,1201.63 1144.36,1201.73 1161.66,1201.85 1178.96,1202.01 1187.61,1202.11 1196.25,1202.23 1204.9,1202.38 1213.55,1202.58 1222.54,1202.83 1231.54,1203.19 1236.03,1203.41 1240.53,1203.69 1245.02,1204.05 1249.52,1204.5 1254.02,1205.1 1258.51,1205.94 1263.01,1207.21 1267.51,1209.33 1269.75,1211.03 1272,1213.59 1273.13,1215.42 1274.25,1217.88 1275.37,1221.34 1276.5,1226.56 1277.06,1230.33 1277.62,1235.38 1278.18,1242.54 1278.75,1253.44 1279.31,1272.07 1279.87,1311.18 1280.43,1445.72 1280.99,87.9763 1281.56,1030.88 1282.12,1108.86 1282.68,1137.8 1283.24,1152.9 1283.8,1162.16 1284.37,1168.43 1284.93,1172.95 1285.49,1176.37 1286.44,1180.56 1287.38,1183.52 1288.33,1185.73 1289.27,1187.45 1291.17,1189.92 1293.06,1191.63 1296.84,1193.83 1300.63,1195.19 1304.41,1196.11 1308.2,1196.77 1311.98,1197.27 1315.77,1197.67 1319.55,1197.98 1323.34,1198.24 1327.12,1198.46 1330.91,1198.65 1338.48,1198.94 1346.05,1199.17 1355.29,1199.38 1364.53,1199.55 1373.77,1199.69 1383.01,1199.8 1401.5,1199.97 1419.98,1200.09 1453.84,1200.25 1487.71,1200.36 1550.26,1200.48 1613.62,1200.56 1684.63,1200.62 1748.98,1200.66 1822.65,1200.69 1890.87,1200.72 1958.12,1200.73 2023.42,1200.75 2090.36,1200.76 2163.69,1200.77 2270.23,1200.79 2292.08,1200.79 \"/>\n",
       "<path clip-path=\"url(#clip910)\" d=\"M2014.5 198.898 L2281.3 198.898 L2281.3 95.2176 L2014.5 95.2176  Z\" fill=\"#ffffff\" fill-rule=\"evenodd\" fill-opacity=\"1\"/>\n",
       "<polyline clip-path=\"url(#clip910)\" style=\"stroke:#000000; stroke-linecap:round; stroke-linejoin:round; stroke-width:4; stroke-opacity:1; fill:none\" points=\"2014.5,198.898 2281.3,198.898 2281.3,95.2176 2014.5,95.2176 2014.5,198.898 \"/>\n",
       "<polyline clip-path=\"url(#clip910)\" style=\"stroke:#009af9; stroke-linecap:round; stroke-linejoin:round; stroke-width:4; stroke-opacity:1; fill:none\" points=\"2038.31,147.058 2181.23,147.058 \"/>\n",
       "<path clip-path=\"url(#clip910)\" d=\"M2218.89 166.745 Q2217.09 171.375 2215.37 172.787 Q2213.66 174.199 2210.79 174.199 L2207.39 174.199 L2207.39 170.634 L2209.89 170.634 Q2211.65 170.634 2212.62 169.8 Q2213.59 168.967 2214.77 165.865 L2215.53 163.921 L2205.05 138.412 L2209.56 138.412 L2217.66 158.689 L2225.77 138.412 L2230.28 138.412 L2218.89 166.745 Z\" fill=\"#000000\" fill-rule=\"nonzero\" fill-opacity=\"1\" /><path clip-path=\"url(#clip910)\" d=\"M2237.57 160.402 L2245.21 160.402 L2245.21 134.037 L2236.9 135.703 L2236.9 131.444 L2245.16 129.778 L2249.84 129.778 L2249.84 160.402 L2257.48 160.402 L2257.48 164.338 L2237.57 164.338 L2237.57 160.402 Z\" fill=\"#000000\" fill-rule=\"nonzero\" fill-opacity=\"1\" /></svg>\n"
      ]
     },
     "execution_count": 22,
     "metadata": {},
     "output_type": "execute_result"
    }
   ],
   "source": [
    "plot(x -> 1/x)"
   ]
  },
  {
   "cell_type": "code",
   "execution_count": 23,
   "metadata": {},
   "outputs": [
    {
     "data": {
      "text/plain": [
       "Results of univariate zero finding:\n",
       "\n",
       "* Converged to: 0.0\n",
       "* Algorithm: Bisection()\n",
       "* iterations: 61\n",
       "* function evaluations ≈ 64\n",
       "* stopped as x_n ≈ x_{n-1} using atol=xatol, rtol=xrtol\n",
       "\n",
       "Trace:\n",
       "(a₀, b₀) = ( -1, 0 )\n",
       "(a₁, b₁) = ( -1.118751109680031e-154, 0 )\n",
       "(a₂, b₂) = ( -1.1272010346794983e-231, 0 )\n",
       "(a₃, b₃) = ( -3.5491565585003241e-270, 0 )\n",
       "(a₄, b₄) = ( -1.988135013128901e-289, 0 )\n",
       "(a₅, b₅) = ( -4.7036486372562232e-299, 0 )\n",
       "(a₆, b₆) = ( -7.2341601287786131e-304, 0 )\n",
       "(a₇, b₇) = ( -2.8369691695966818e-306, 0 )\n",
       "(a₈, b₈) = ( -1.7765824089018436e-307, 0 )\n",
       "(a₉, b₉) = ( -4.4458018696345059e-308, 0 )\n",
       "(a₁₀, b₁₀) = ( -2.2229009348172529e-308, 0 )\n",
       "(a₁₁, b₁₁) = ( -1.1114504674086265e-308, 0 )\n",
       "(a₁₂, b₁₂) = ( -5.5572523370431324e-309, 0 )\n",
       "(a₁₃, b₁₃) = ( -2.7786261685215662e-309, 0 )\n",
       "(a₁₄, b₁₄) = ( -1.3893130842607831e-309, 0 )\n",
       "(a₁₅, b₁₅) = ( -6.9465654213039155e-310, 0 )\n",
       "(a₁₆, b₁₆) = ( -3.4732827106519577e-310, 0 )\n",
       "(a₁₇, b₁₇) = ( -1.7366413553259789e-310, 0 )\n",
       "(a₁₈, b₁₈) = ( -8.6832067766298943e-311, 0 )\n",
       "(a₁₉, b₁₉) = ( -4.3416033883149472e-311, 0 )\n",
       "(a₂₀, b₂₀) = ( -2.1708016941574736e-311, 0 )\n",
       "(a₂₁, b₂₁) = ( -1.0854008470787368e-311, 0 )\n",
       "(a₂₂, b₂₂) = ( -5.4270042353936839e-312, 0 )\n",
       "(a₂₃, b₂₃) = ( -2.713502117696842e-312, 0 )\n",
       "(a₂₄, b₂₄) = ( -1.356751058848421e-312, 0 )\n",
       "(a₂₅, b₂₅) = ( -6.7837552942421049e-313, 0 )\n",
       "(a₂₆, b₂₆) = ( -3.3918776471210525e-313, 0 )\n",
       "(a₂₇, b₂₇) = ( -1.6959388235605262e-313, 0 )\n",
       "(a₂₈, b₂₈) = ( -8.4796941178026312e-314, 0 )\n",
       "(a₂₉, b₂₉) = ( -4.2398470589013156e-314, 0 )\n",
       "(a₃₀, b₃₀) = ( -2.1199235294506578e-314, 0 )\n",
       "(a₃₁, b₃₁) = ( -1.0599617647253289e-314, 0 )\n",
       "(a₃₂, b₃₂) = ( -5.2998088236266445e-315, 0 )\n",
       "(a₃₃, b₃₃) = ( -2.6499044118133222e-315, 0 )\n",
       "(a₃₄, b₃₄) = ( -1.3249522059066611e-315, 0 )\n",
       "(a₃₅, b₃₅) = ( -6.6247610295333056e-316, 0 )\n",
       "(a₃₆, b₃₆) = ( -3.3123805147666528e-316, 0 )\n",
       "(a₃₇, b₃₇) = ( -1.6561902573833264e-316, 0 )\n",
       "(a₃₈, b₃₈) = ( -8.280951286916632e-317, 0 )\n",
       "(a₃₉, b₃₉) = ( -4.140475643458316e-317, 0 )\n",
       "(a₄₀, b₄₀) = ( -2.070237821729158e-317, 0 )\n",
       "(a₄₁, b₄₁) = ( -1.035118910864579e-317, 0 )\n",
       "(a₄₂, b₄₂) = ( -5.175594554322895e-318, 0 )\n",
       "(a₄₃, b₄₃) = ( -2.5877972771614475e-318, 0 )\n",
       "(a₄₄, b₄₄) = ( -1.2938986385807237e-318, 0 )\n",
       "(a₄₅, b₄₅) = ( -6.4694931929036187e-319, 0 )\n",
       "(a₄₆, b₄₆) = ( -3.2347465964518094e-319, 0 )\n",
       "(a₄₇, b₄₇) = ( -1.6173732982259047e-319, 0 )\n",
       "(a₄₈, b₄₈) = ( -8.0868664911295234e-320, 0 )\n",
       "(a₄₉, b₄₉) = ( -4.0434332455647617e-320, 0 )\n",
       "(a₅₀, b₅₀) = ( -2.0217166227823809e-320, 0 )\n",
       "(a₅₁, b₅₁) = ( -1.0108583113911904e-320, 0 )\n",
       "(a₅₂, b₅₂) = ( -5.0542915569559521e-321, 0 )\n",
       "(a₅₃, b₅₃) = ( -2.5246754502487698e-321, 0 )\n",
       "(a₅₄, b₅₄) = ( -1.2598673968951787e-321, 0 )\n",
       "(a₅₅, b₅₅) = ( -6.2746337021838311e-322, 0 )\n",
       "(a₅₆, b₅₆) = ( -3.1126135687998532e-322, 0 )\n",
       "(a₅₇, b₅₇) = ( -1.5316035021078643e-322, 0 )\n",
       "(a₅₈, b₅₈) = ( -7.4109846876186982e-323, 0 )\n",
       "(a₅₉, b₅₉) = ( -3.4584595208887258e-323, 0 )\n",
       "(a₆₀, b₆₀) = ( -1.4821969375237396e-323, 0 )\n",
       "(a₆₁, b₆₁) = ( -4.9406564584124654e-324, 0 )\n",
       "\n"
      ]
     },
     "metadata": {},
     "output_type": "display_data"
    },
    {
     "data": {
      "text/plain": [
       "0.0"
      ]
     },
     "execution_count": 23,
     "metadata": {},
     "output_type": "execute_result"
    }
   ],
   "source": [
    "find_zero(x -> 1/x, (-1, 1), verbose=true)"
   ]
  },
  {
   "cell_type": "markdown",
   "metadata": {},
   "source": [
    "find_zeros - szukanie więcej niż jednego pierwiastka. Wykorzystuje podział przedziału na mniejsze podprzedziały"
   ]
  },
  {
   "cell_type": "code",
   "execution_count": 24,
   "metadata": {},
   "outputs": [
    {
     "data": {
      "text/plain": [
       "2-element Vector{Float64}:\n",
       " 0.0\n",
       " 3.0"
      ]
     },
     "execution_count": 24,
     "metadata": {},
     "output_type": "execute_result"
    }
   ],
   "source": [
    "find_zeros(x ->(x-3)*x, -10, 10)"
   ]
  },
  {
   "cell_type": "code",
   "execution_count": 25,
   "metadata": {
    "scrolled": true
   },
   "outputs": [
    {
     "data": {
      "image/png": "[encoded data removed]",
      "image/svg+xml": [
       "<?xml version=\"1.0\" encoding=\"utf-8\"?>\n",
       "<svg xmlns=\"http://www.w3.org/2000/svg\" xmlns:xlink=\"http://www.w3.org/1999/xlink\" width=\"600\" height=\"400\" viewBox=\"0 0 2400 1600\">\n",
       "<defs>\n",
       "  <clipPath id=\"clip950\">\n",
       "    <rect x=\"0\" y=\"0\" width=\"2400\" height=\"1600\"/>\n",
       "  </clipPath>\n",
       "</defs>\n",
       "<path clip-path=\"url(#clip950)\" d=\"M0 1600 L2400 1600 L2400 0 L0 0  Z\" fill=\"#ffffff\" fill-rule=\"evenodd\" fill-opacity=\"1\"/>\n",
       "<defs>\n",
       "  <clipPath id=\"clip951\">\n",
       "    <rect x=\"480\" y=\"0\" width=\"1681\" height=\"1600\"/>\n",
       "  </clipPath>\n",
       "</defs>\n",
       "<path clip-path=\"url(#clip950)\" d=\"M147.478 1486.45 L2352.76 1486.45 L2352.76 47.2441 L147.478 47.2441  Z\" fill=\"#ffffff\" fill-rule=\"evenodd\" fill-opacity=\"1\"/>\n",
       "<defs>\n",
       "  <clipPath id=\"clip952\">\n",
       "    <rect x=\"147\" y=\"47\" width=\"2206\" height=\"1440\"/>\n",
       "  </clipPath>\n",
       "</defs>\n",
       "<polyline clip-path=\"url(#clip952)\" style=\"stroke:#000000; stroke-linecap:round; stroke-linejoin:round; stroke-width:2; stroke-opacity:0.1; fill:none\" points=\"209.891,1486.45 209.891,47.2441 \"/>\n",
       "<polyline clip-path=\"url(#clip952)\" style=\"stroke:#000000; stroke-linecap:round; stroke-linejoin:round; stroke-width:2; stroke-opacity:0.1; fill:none\" points=\"625.982,1486.45 625.982,47.2441 \"/>\n",
       "<polyline clip-path=\"url(#clip952)\" style=\"stroke:#000000; stroke-linecap:round; stroke-linejoin:round; stroke-width:2; stroke-opacity:0.1; fill:none\" points=\"1042.07,1486.45 1042.07,47.2441 \"/>\n",
       "<polyline clip-path=\"url(#clip952)\" style=\"stroke:#000000; stroke-linecap:round; stroke-linejoin:round; stroke-width:2; stroke-opacity:0.1; fill:none\" points=\"1458.16,1486.45 1458.16,47.2441 \"/>\n",
       "<polyline clip-path=\"url(#clip952)\" style=\"stroke:#000000; stroke-linecap:round; stroke-linejoin:round; stroke-width:2; stroke-opacity:0.1; fill:none\" points=\"1874.25,1486.45 1874.25,47.2441 \"/>\n",
       "<polyline clip-path=\"url(#clip952)\" style=\"stroke:#000000; stroke-linecap:round; stroke-linejoin:round; stroke-width:2; stroke-opacity:0.1; fill:none\" points=\"2290.34,1486.45 2290.34,47.2441 \"/>\n",
       "<polyline clip-path=\"url(#clip950)\" style=\"stroke:#000000; stroke-linecap:round; stroke-linejoin:round; stroke-width:4; stroke-opacity:1; fill:none\" points=\"147.478,1486.45 2352.76,1486.45 \"/>\n",
       "<polyline clip-path=\"url(#clip950)\" style=\"stroke:#000000; stroke-linecap:round; stroke-linejoin:round; stroke-width:4; stroke-opacity:1; fill:none\" points=\"209.891,1486.45 209.891,1467.55 \"/>\n",
       "<polyline clip-path=\"url(#clip950)\" style=\"stroke:#000000; stroke-linecap:round; stroke-linejoin:round; stroke-width:4; stroke-opacity:1; fill:none\" points=\"625.982,1486.45 625.982,1467.55 \"/>\n",
       "<polyline clip-path=\"url(#clip950)\" style=\"stroke:#000000; stroke-linecap:round; stroke-linejoin:round; stroke-width:4; stroke-opacity:1; fill:none\" points=\"1042.07,1486.45 1042.07,1467.55 \"/>\n",
       "<polyline clip-path=\"url(#clip950)\" style=\"stroke:#000000; stroke-linecap:round; stroke-linejoin:round; stroke-width:4; stroke-opacity:1; fill:none\" points=\"1458.16,1486.45 1458.16,1467.55 \"/>\n",
       "<polyline clip-path=\"url(#clip950)\" style=\"stroke:#000000; stroke-linecap:round; stroke-linejoin:round; stroke-width:4; stroke-opacity:1; fill:none\" points=\"1874.25,1486.45 1874.25,1467.55 \"/>\n",
       "<polyline clip-path=\"url(#clip950)\" style=\"stroke:#000000; stroke-linecap:round; stroke-linejoin:round; stroke-width:4; stroke-opacity:1; fill:none\" points=\"2290.34,1486.45 2290.34,1467.55 \"/>\n",
       "<path clip-path=\"url(#clip950)\" d=\"M179.649 1532.02 L209.324 1532.02 L209.324 1535.95 L179.649 1535.95 L179.649 1532.02 Z\" fill=\"#000000\" fill-rule=\"nonzero\" fill-opacity=\"1\" /><path clip-path=\"url(#clip950)\" d=\"M220.227 1544.91 L227.866 1544.91 L227.866 1518.55 L219.556 1520.21 L219.556 1515.95 L227.82 1514.29 L232.495 1514.29 L232.495 1544.91 L240.134 1544.91 L240.134 1548.85 L220.227 1548.85 L220.227 1544.91 Z\" fill=\"#000000\" fill-rule=\"nonzero\" fill-opacity=\"1\" /><path clip-path=\"url(#clip950)\" d=\"M625.982 1517.37 Q622.371 1517.37 620.542 1520.93 Q618.736 1524.47 618.736 1531.6 Q618.736 1538.71 620.542 1542.27 Q622.371 1545.82 625.982 1545.82 Q629.616 1545.82 631.421 1542.27 Q633.25 1538.71 633.25 1531.6 Q633.25 1524.47 631.421 1520.93 Q629.616 1517.37 625.982 1517.37 M625.982 1513.66 Q631.792 1513.66 634.847 1518.27 Q637.926 1522.85 637.926 1531.6 Q637.926 1540.33 634.847 1544.94 Q631.792 1549.52 625.982 1549.52 Q620.171 1549.52 617.093 1544.94 Q614.037 1540.33 614.037 1531.6 Q614.037 1522.85 617.093 1518.27 Q620.171 1513.66 625.982 1513.66 Z\" fill=\"#000000\" fill-rule=\"nonzero\" fill-opacity=\"1\" /><path clip-path=\"url(#clip950)\" d=\"M1032.45 1544.91 L1040.09 1544.91 L1040.09 1518.55 L1031.78 1520.21 L1031.78 1515.95 L1040.05 1514.29 L1044.72 1514.29 L1044.72 1544.91 L1052.36 1544.91 L1052.36 1548.85 L1032.45 1548.85 L1032.45 1544.91 Z\" fill=\"#000000\" fill-rule=\"nonzero\" fill-opacity=\"1\" /><path clip-path=\"url(#clip950)\" d=\"M1452.81 1544.91 L1469.13 1544.91 L1469.13 1548.85 L1447.19 1548.85 L1447.19 1544.91 Q1449.85 1542.16 1454.44 1537.53 Q1459.04 1532.88 1460.22 1531.53 Q1462.47 1529.01 1463.35 1527.27 Q1464.25 1525.51 1464.25 1523.82 Q1464.25 1521.07 1462.31 1519.33 Q1460.38 1517.6 1457.28 1517.6 Q1455.08 1517.6 1452.63 1518.36 Q1450.2 1519.13 1447.42 1520.68 L1447.42 1515.95 Q1450.25 1514.82 1452.7 1514.24 Q1455.15 1513.66 1457.19 1513.66 Q1462.56 1513.66 1465.75 1516.35 Q1468.95 1519.03 1468.95 1523.52 Q1468.95 1525.65 1468.14 1527.57 Q1467.35 1529.47 1465.25 1532.07 Q1464.67 1532.74 1461.56 1535.95 Q1458.46 1539.15 1452.81 1544.91 Z\" fill=\"#000000\" fill-rule=\"nonzero\" fill-opacity=\"1\" /><path clip-path=\"url(#clip950)\" d=\"M1878.5 1530.21 Q1881.86 1530.93 1883.73 1533.2 Q1885.63 1535.47 1885.63 1538.8 Q1885.63 1543.92 1882.11 1546.72 Q1878.59 1549.52 1872.11 1549.52 Q1869.94 1549.52 1867.62 1549.08 Q1865.33 1548.66 1862.87 1547.81 L1862.87 1543.29 Q1864.82 1544.43 1867.13 1545.01 Q1869.45 1545.58 1871.97 1545.58 Q1876.37 1545.58 1878.66 1543.85 Q1880.98 1542.11 1880.98 1538.8 Q1880.98 1535.75 1878.82 1534.03 Q1876.69 1532.3 1872.87 1532.3 L1868.85 1532.3 L1868.85 1528.45 L1873.06 1528.45 Q1876.51 1528.45 1878.34 1527.09 Q1880.17 1525.7 1880.17 1523.11 Q1880.17 1520.45 1878.27 1519.03 Q1876.39 1517.6 1872.87 1517.6 Q1870.95 1517.6 1868.75 1518.01 Q1866.56 1518.43 1863.92 1519.31 L1863.92 1515.14 Q1866.58 1514.4 1868.89 1514.03 Q1871.23 1513.66 1873.29 1513.66 Q1878.62 1513.66 1881.72 1516.09 Q1884.82 1518.5 1884.82 1522.62 Q1884.82 1525.49 1883.18 1527.48 Q1881.53 1529.45 1878.5 1530.21 Z\" fill=\"#000000\" fill-rule=\"nonzero\" fill-opacity=\"1\" /><path clip-path=\"url(#clip950)\" d=\"M2293.35 1518.36 L2281.55 1536.81 L2293.35 1536.81 L2293.35 1518.36 M2292.12 1514.29 L2298 1514.29 L2298 1536.81 L2302.93 1536.81 L2302.93 1540.7 L2298 1540.7 L2298 1548.85 L2293.35 1548.85 L2293.35 1540.7 L2277.75 1540.7 L2277.75 1536.19 L2292.12 1514.29 Z\" fill=\"#000000\" fill-rule=\"nonzero\" fill-opacity=\"1\" /><polyline clip-path=\"url(#clip952)\" style=\"stroke:#000000; stroke-linecap:round; stroke-linejoin:round; stroke-width:2; stroke-opacity:0.1; fill:none\" points=\"147.478,1391.43 2352.76,1391.43 \"/>\n",
       "<polyline clip-path=\"url(#clip952)\" style=\"stroke:#000000; stroke-linecap:round; stroke-linejoin:round; stroke-width:2; stroke-opacity:0.1; fill:none\" points=\"147.478,1174.19 2352.76,1174.19 \"/>\n",
       "<polyline clip-path=\"url(#clip952)\" style=\"stroke:#000000; stroke-linecap:round; stroke-linejoin:round; stroke-width:2; stroke-opacity:0.1; fill:none\" points=\"147.478,956.947 2352.76,956.947 \"/>\n",
       "<polyline clip-path=\"url(#clip952)\" style=\"stroke:#000000; stroke-linecap:round; stroke-linejoin:round; stroke-width:2; stroke-opacity:0.1; fill:none\" points=\"147.478,739.705 2352.76,739.705 \"/>\n",
       "<polyline clip-path=\"url(#clip952)\" style=\"stroke:#000000; stroke-linecap:round; stroke-linejoin:round; stroke-width:2; stroke-opacity:0.1; fill:none\" points=\"147.478,522.462 2352.76,522.462 \"/>\n",
       "<polyline clip-path=\"url(#clip952)\" style=\"stroke:#000000; stroke-linecap:round; stroke-linejoin:round; stroke-width:2; stroke-opacity:0.1; fill:none\" points=\"147.478,305.219 2352.76,305.219 \"/>\n",
       "<polyline clip-path=\"url(#clip952)\" style=\"stroke:#000000; stroke-linecap:round; stroke-linejoin:round; stroke-width:2; stroke-opacity:0.1; fill:none\" points=\"147.478,87.9763 2352.76,87.9763 \"/>\n",
       "<polyline clip-path=\"url(#clip950)\" style=\"stroke:#000000; stroke-linecap:round; stroke-linejoin:round; stroke-width:4; stroke-opacity:1; fill:none\" points=\"147.478,1486.45 147.478,47.2441 \"/>\n",
       "<polyline clip-path=\"url(#clip950)\" style=\"stroke:#000000; stroke-linecap:round; stroke-linejoin:round; stroke-width:4; stroke-opacity:1; fill:none\" points=\"147.478,1391.43 166.376,1391.43 \"/>\n",
       "<polyline clip-path=\"url(#clip950)\" style=\"stroke:#000000; stroke-linecap:round; stroke-linejoin:round; stroke-width:4; stroke-opacity:1; fill:none\" points=\"147.478,1174.19 166.376,1174.19 \"/>\n",
       "<polyline clip-path=\"url(#clip950)\" style=\"stroke:#000000; stroke-linecap:round; stroke-linejoin:round; stroke-width:4; stroke-opacity:1; fill:none\" points=\"147.478,956.947 166.376,956.947 \"/>\n",
       "<polyline clip-path=\"url(#clip950)\" style=\"stroke:#000000; stroke-linecap:round; stroke-linejoin:round; stroke-width:4; stroke-opacity:1; fill:none\" points=\"147.478,739.705 166.376,739.705 \"/>\n",
       "<polyline clip-path=\"url(#clip950)\" style=\"stroke:#000000; stroke-linecap:round; stroke-linejoin:round; stroke-width:4; stroke-opacity:1; fill:none\" points=\"147.478,522.462 166.376,522.462 \"/>\n",
       "<polyline clip-path=\"url(#clip950)\" style=\"stroke:#000000; stroke-linecap:round; stroke-linejoin:round; stroke-width:4; stroke-opacity:1; fill:none\" points=\"147.478,305.219 166.376,305.219 \"/>\n",
       "<polyline clip-path=\"url(#clip950)\" style=\"stroke:#000000; stroke-linecap:round; stroke-linejoin:round; stroke-width:4; stroke-opacity:1; fill:none\" points=\"147.478,87.9763 166.376,87.9763 \"/>\n",
       "<path clip-path=\"url(#clip950)\" d=\"M51.3625 1391.88 L81.0383 1391.88 L81.0383 1395.82 L51.3625 1395.82 L51.3625 1391.88 Z\" fill=\"#000000\" fill-rule=\"nonzero\" fill-opacity=\"1\" /><path clip-path=\"url(#clip950)\" d=\"M95.1586 1404.78 L111.478 1404.78 L111.478 1408.71 L89.5336 1408.71 L89.5336 1404.78 Q92.1956 1402.02 96.7789 1397.39 Q101.385 1392.74 102.566 1391.4 Q104.811 1388.88 105.691 1387.14 Q106.594 1385.38 106.594 1383.69 Q106.594 1380.94 104.649 1379.2 Q102.728 1377.46 99.6261 1377.46 Q97.4271 1377.46 94.9734 1378.23 Q92.5428 1378.99 89.7651 1380.54 L89.7651 1375.82 Q92.5891 1374.69 95.0428 1374.11 Q97.4965 1373.53 99.5335 1373.53 Q104.904 1373.53 108.098 1376.21 Q111.293 1378.9 111.293 1383.39 Q111.293 1385.52 110.483 1387.44 Q109.696 1389.34 107.589 1391.93 Q107.01 1392.6 103.909 1395.82 Q100.807 1399.01 95.1586 1404.78 Z\" fill=\"#000000\" fill-rule=\"nonzero\" fill-opacity=\"1\" /><path clip-path=\"url(#clip950)\" d=\"M50.9921 1174.64 L80.6679 1174.64 L80.6679 1178.58 L50.9921 1178.58 L50.9921 1174.64 Z\" fill=\"#000000\" fill-rule=\"nonzero\" fill-opacity=\"1\" /><path clip-path=\"url(#clip950)\" d=\"M91.5706 1187.54 L99.2095 1187.54 L99.2095 1161.17 L90.8993 1162.84 L90.8993 1158.58 L99.1632 1156.91 L103.839 1156.91 L103.839 1187.54 L111.478 1187.54 L111.478 1191.47 L91.5706 1191.47 L91.5706 1187.54 Z\" fill=\"#000000\" fill-rule=\"nonzero\" fill-opacity=\"1\" /><path clip-path=\"url(#clip950)\" d=\"M99.5335 942.746 Q95.9224 942.746 94.0937 946.311 Q92.2882 949.853 92.2882 956.982 Q92.2882 964.089 94.0937 967.653 Q95.9224 971.195 99.5335 971.195 Q103.168 971.195 104.973 967.653 Q106.802 964.089 106.802 956.982 Q106.802 949.853 104.973 946.311 Q103.168 942.746 99.5335 942.746 M99.5335 939.042 Q105.344 939.042 108.399 943.649 Q111.478 948.232 111.478 956.982 Q111.478 965.709 108.399 970.315 Q105.344 974.899 99.5335 974.899 Q93.7234 974.899 90.6447 970.315 Q87.5892 965.709 87.5892 956.982 Q87.5892 948.232 90.6447 943.649 Q93.7234 939.042 99.5335 939.042 Z\" fill=\"#000000\" fill-rule=\"nonzero\" fill-opacity=\"1\" /><path clip-path=\"url(#clip950)\" d=\"M91.5706 753.05 L99.2095 753.05 L99.2095 726.684 L90.8993 728.351 L90.8993 724.091 L99.1632 722.425 L103.839 722.425 L103.839 753.05 L111.478 753.05 L111.478 756.985 L91.5706 756.985 L91.5706 753.05 Z\" fill=\"#000000\" fill-rule=\"nonzero\" fill-opacity=\"1\" /><path clip-path=\"url(#clip950)\" d=\"M95.1586 535.807 L111.478 535.807 L111.478 539.742 L89.5336 539.742 L89.5336 535.807 Q92.1956 533.052 96.7789 528.422 Q101.385 523.77 102.566 522.427 Q104.811 519.904 105.691 518.168 Q106.594 516.409 106.594 514.719 Q106.594 511.964 104.649 510.228 Q102.728 508.492 99.6261 508.492 Q97.4271 508.492 94.9734 509.256 Q92.5428 510.02 89.7651 511.571 L89.7651 506.849 Q92.5891 505.714 95.0428 505.136 Q97.4965 504.557 99.5335 504.557 Q104.904 504.557 108.098 507.242 Q111.293 509.927 111.293 514.418 Q111.293 516.548 110.483 518.469 Q109.696 520.367 107.589 522.96 Q107.01 523.631 103.909 526.848 Q100.807 530.043 95.1586 535.807 Z\" fill=\"#000000\" fill-rule=\"nonzero\" fill-opacity=\"1\" /><path clip-path=\"url(#clip950)\" d=\"M104.348 303.865 Q107.705 304.583 109.58 306.851 Q111.478 309.12 111.478 312.453 Q111.478 317.569 107.959 320.369 Q104.441 323.17 97.9595 323.17 Q95.7836 323.17 93.4688 322.731 Q91.1771 322.314 88.7234 321.457 L88.7234 316.944 Q90.6678 318.078 92.9826 318.657 Q95.2974 319.235 97.8206 319.235 Q102.219 319.235 104.51 317.499 Q106.825 315.763 106.825 312.453 Q106.825 309.397 104.672 307.684 Q102.543 305.948 98.7234 305.948 L94.6956 305.948 L94.6956 302.106 L98.9085 302.106 Q102.358 302.106 104.186 300.74 Q106.015 299.351 106.015 296.758 Q106.015 294.096 104.117 292.684 Q102.242 291.249 98.7234 291.249 Q96.8021 291.249 94.603 291.666 Q92.4039 292.083 89.7651 292.962 L89.7651 288.796 Q92.4271 288.055 94.7419 287.684 Q97.0798 287.314 99.14 287.314 Q104.464 287.314 107.566 289.745 Q110.668 292.152 110.668 296.272 Q110.668 299.143 109.024 301.133 Q107.381 303.101 104.348 303.865 Z\" fill=\"#000000\" fill-rule=\"nonzero\" fill-opacity=\"1\" /><path clip-path=\"url(#clip950)\" d=\"M101.895 74.7703 L90.0891 93.2193 L101.895 93.2193 L101.895 74.7703 M100.668 70.6963 L106.547 70.6963 L106.547 93.2193 L111.478 93.2193 L111.478 97.1082 L106.547 97.1082 L106.547 105.256 L101.895 105.256 L101.895 97.1082 L86.2929 97.1082 L86.2929 92.5943 L100.668 70.6963 Z\" fill=\"#000000\" fill-rule=\"nonzero\" fill-opacity=\"1\" /><polyline clip-path=\"url(#clip952)\" style=\"stroke:#009af9; stroke-linecap:round; stroke-linejoin:round; stroke-width:4; stroke-opacity:1; fill:none\" points=\"209.891,87.9763 213.278,96.8017 216.664,105.598 220.05,114.366 223.436,123.105 254.747,202.548 286.057,279.53 317.368,354.052 348.678,426.113 386.311,509.47 423.943,589.272 455.761,653.971 487.579,716.13 522.142,780.772 556.705,842.417 588.569,896.592 620.434,948.219 654.595,1000.74 688.757,1050.33 708.547,1077.72 728.337,1104.12 748.127,1129.54 767.917,1153.98 803.09,1195 838.264,1232.9 869.108,1263.59 899.953,1291.89 933.581,1320.02 967.21,1345.31 1001.04,1367.9 1034.87,1387.61 1072.27,1406.05 1109.67,1420.99 1145.26,1431.95 1180.84,1439.72 1217.84,1444.44 1254.85,1445.72 1285.99,1444.13 1317.14,1440.11 1336.16,1436.45 1355.17,1431.9 1374.18,1426.43 1393.2,1420.06 1428.03,1406.02 1462.87,1388.95 1495.04,1370.47 1527.22,1349.4 1559.81,1325.4 1592.4,1298.74 1628.92,1265.69 1665.45,1229.29 1698.55,1193.42 1731.64,1154.8 1750.59,1131.45 1769.54,1107.2 1788.49,1082.05 1807.43,1056 1842.52,1005.39 1877.61,951.678 1912.2,895.704 1946.79,836.726 1980.38,776.591 2013.96,713.625 2048.39,646.139 2082.82,575.677 2101.68,535.817 2120.54,495.063 2139.4,453.417 2158.27,410.878 2185.66,347.494 2213.06,282.225 2240.46,215.072 2267.86,146.036 2273.48,131.64 2279.1,117.165 2284.72,102.61 2290.34,87.9763 \"/>\n",
       "<path clip-path=\"url(#clip950)\" d=\"M2006.29 1438.47 L2279.25 1438.47 L2279.25 1334.79 L2006.29 1334.79  Z\" fill=\"#ffffff\" fill-rule=\"evenodd\" fill-opacity=\"1\"/>\n",
       "<polyline clip-path=\"url(#clip950)\" style=\"stroke:#000000; stroke-linecap:round; stroke-linejoin:round; stroke-width:4; stroke-opacity:1; fill:none\" points=\"2006.29,1438.47 2279.25,1438.47 2279.25,1334.79 2006.29,1334.79 2006.29,1438.47 \"/>\n",
       "<polyline clip-path=\"url(#clip950)\" style=\"stroke:#009af9; stroke-linecap:round; stroke-linejoin:round; stroke-width:4; stroke-opacity:1; fill:none\" points=\"2030.79,1386.63 2177.81,1386.63 \"/>\n",
       "<path clip-path=\"url(#clip950)\" d=\"M2216.16 1406.32 Q2214.35 1410.95 2212.64 1412.36 Q2210.92 1413.78 2208.05 1413.78 L2204.65 1413.78 L2204.65 1410.21 L2207.15 1410.21 Q2208.91 1410.21 2209.88 1409.38 Q2210.85 1408.54 2212.04 1405.44 L2212.8 1403.5 L2202.31 1377.99 L2206.83 1377.99 L2214.93 1398.27 L2223.03 1377.99 L2227.54 1377.99 L2216.16 1406.32 Z\" fill=\"#000000\" fill-rule=\"nonzero\" fill-opacity=\"1\" /><path clip-path=\"url(#clip950)\" d=\"M2234.84 1399.98 L2242.48 1399.98 L2242.48 1373.61 L2234.16 1375.28 L2234.16 1371.02 L2242.43 1369.35 L2247.1 1369.35 L2247.1 1399.98 L2254.74 1399.98 L2254.74 1403.91 L2234.84 1403.91 L2234.84 1399.98 Z\" fill=\"#000000\" fill-rule=\"nonzero\" fill-opacity=\"1\" /></svg>\n"
      ],
      "text/html": [
       "<?xml version=\"1.0\" encoding=\"utf-8\"?>\n",
       "<svg xmlns=\"http://www.w3.org/2000/svg\" xmlns:xlink=\"http://www.w3.org/1999/xlink\" width=\"600\" height=\"400\" viewBox=\"0 0 2400 1600\">\n",
       "<defs>\n",
       "  <clipPath id=\"clip000\">\n",
       "    <rect x=\"0\" y=\"0\" width=\"2400\" height=\"1600\"/>\n",
       "  </clipPath>\n",
       "</defs>\n",
       "<path clip-path=\"url(#clip000)\" d=\"M0 1600 L2400 1600 L2400 0 L0 0  Z\" fill=\"#ffffff\" fill-rule=\"evenodd\" fill-opacity=\"1\"/>\n",
       "<defs>\n",
       "  <clipPath id=\"clip001\">\n",
       "    <rect x=\"480\" y=\"0\" width=\"1681\" height=\"1600\"/>\n",
       "  </clipPath>\n",
       "</defs>\n",
       "<path clip-path=\"url(#clip000)\" d=\"M147.478 1486.45 L2352.76 1486.45 L2352.76 47.2441 L147.478 47.2441  Z\" fill=\"#ffffff\" fill-rule=\"evenodd\" fill-opacity=\"1\"/>\n",
       "<defs>\n",
       "  <clipPath id=\"clip002\">\n",
       "    <rect x=\"147\" y=\"47\" width=\"2206\" height=\"1440\"/>\n",
       "  </clipPath>\n",
       "</defs>\n",
       "<polyline clip-path=\"url(#clip002)\" style=\"stroke:#000000; stroke-linecap:round; stroke-linejoin:round; stroke-width:2; stroke-opacity:0.1; fill:none\" points=\"209.891,1486.45 209.891,47.2441 \"/>\n",
       "<polyline clip-path=\"url(#clip002)\" style=\"stroke:#000000; stroke-linecap:round; stroke-linejoin:round; stroke-width:2; stroke-opacity:0.1; fill:none\" points=\"625.982,1486.45 625.982,47.2441 \"/>\n",
       "<polyline clip-path=\"url(#clip002)\" style=\"stroke:#000000; stroke-linecap:round; stroke-linejoin:round; stroke-width:2; stroke-opacity:0.1; fill:none\" points=\"1042.07,1486.45 1042.07,47.2441 \"/>\n",
       "<polyline clip-path=\"url(#clip002)\" style=\"stroke:#000000; stroke-linecap:round; stroke-linejoin:round; stroke-width:2; stroke-opacity:0.1; fill:none\" points=\"1458.16,1486.45 1458.16,47.2441 \"/>\n",
       "<polyline clip-path=\"url(#clip002)\" style=\"stroke:#000000; stroke-linecap:round; stroke-linejoin:round; stroke-width:2; stroke-opacity:0.1; fill:none\" points=\"1874.25,1486.45 1874.25,47.2441 \"/>\n",
       "<polyline clip-path=\"url(#clip002)\" style=\"stroke:#000000; stroke-linecap:round; stroke-linejoin:round; stroke-width:2; stroke-opacity:0.1; fill:none\" points=\"2290.34,1486.45 2290.34,47.2441 \"/>\n",
       "<polyline clip-path=\"url(#clip000)\" style=\"stroke:#000000; stroke-linecap:round; stroke-linejoin:round; stroke-width:4; stroke-opacity:1; fill:none\" points=\"147.478,1486.45 2352.76,1486.45 \"/>\n",
       "<polyline clip-path=\"url(#clip000)\" style=\"stroke:#000000; stroke-linecap:round; stroke-linejoin:round; stroke-width:4; stroke-opacity:1; fill:none\" points=\"209.891,1486.45 209.891,1467.55 \"/>\n",
       "<polyline clip-path=\"url(#clip000)\" style=\"stroke:#000000; stroke-linecap:round; stroke-linejoin:round; stroke-width:4; stroke-opacity:1; fill:none\" points=\"625.982,1486.45 625.982,1467.55 \"/>\n",
       "<polyline clip-path=\"url(#clip000)\" style=\"stroke:#000000; stroke-linecap:round; stroke-linejoin:round; stroke-width:4; stroke-opacity:1; fill:none\" points=\"1042.07,1486.45 1042.07,1467.55 \"/>\n",
       "<polyline clip-path=\"url(#clip000)\" style=\"stroke:#000000; stroke-linecap:round; stroke-linejoin:round; stroke-width:4; stroke-opacity:1; fill:none\" points=\"1458.16,1486.45 1458.16,1467.55 \"/>\n",
       "<polyline clip-path=\"url(#clip000)\" style=\"stroke:#000000; stroke-linecap:round; stroke-linejoin:round; stroke-width:4; stroke-opacity:1; fill:none\" points=\"1874.25,1486.45 1874.25,1467.55 \"/>\n",
       "<polyline clip-path=\"url(#clip000)\" style=\"stroke:#000000; stroke-linecap:round; stroke-linejoin:round; stroke-width:4; stroke-opacity:1; fill:none\" points=\"2290.34,1486.45 2290.34,1467.55 \"/>\n",
       "<path clip-path=\"url(#clip000)\" d=\"M179.649 1532.02 L209.324 1532.02 L209.324 1535.95 L179.649 1535.95 L179.649 1532.02 Z\" fill=\"#000000\" fill-rule=\"nonzero\" fill-opacity=\"1\" /><path clip-path=\"url(#clip000)\" d=\"M220.227 1544.91 L227.866 1544.91 L227.866 1518.55 L219.556 1520.21 L219.556 1515.95 L227.82 1514.29 L232.495 1514.29 L232.495 1544.91 L240.134 1544.91 L240.134 1548.85 L220.227 1548.85 L220.227 1544.91 Z\" fill=\"#000000\" fill-rule=\"nonzero\" fill-opacity=\"1\" /><path clip-path=\"url(#clip000)\" d=\"M625.982 1517.37 Q622.371 1517.37 620.542 1520.93 Q618.736 1524.47 618.736 1531.6 Q618.736 1538.71 620.542 1542.27 Q622.371 1545.82 625.982 1545.82 Q629.616 1545.82 631.421 1542.27 Q633.25 1538.71 633.25 1531.6 Q633.25 1524.47 631.421 1520.93 Q629.616 1517.37 625.982 1517.37 M625.982 1513.66 Q631.792 1513.66 634.847 1518.27 Q637.926 1522.85 637.926 1531.6 Q637.926 1540.33 634.847 1544.94 Q631.792 1549.52 625.982 1549.52 Q620.171 1549.52 617.093 1544.94 Q614.037 1540.33 614.037 1531.6 Q614.037 1522.85 617.093 1518.27 Q620.171 1513.66 625.982 1513.66 Z\" fill=\"#000000\" fill-rule=\"nonzero\" fill-opacity=\"1\" /><path clip-path=\"url(#clip000)\" d=\"M1032.45 1544.91 L1040.09 1544.91 L1040.09 1518.55 L1031.78 1520.21 L1031.78 1515.95 L1040.05 1514.29 L1044.72 1514.29 L1044.72 1544.91 L1052.36 1544.91 L1052.36 1548.85 L1032.45 1548.85 L1032.45 1544.91 Z\" fill=\"#000000\" fill-rule=\"nonzero\" fill-opacity=\"1\" /><path clip-path=\"url(#clip000)\" d=\"M1452.81 1544.91 L1469.13 1544.91 L1469.13 1548.85 L1447.19 1548.85 L1447.19 1544.91 Q1449.85 1542.16 1454.44 1537.53 Q1459.04 1532.88 1460.22 1531.53 Q1462.47 1529.01 1463.35 1527.27 Q1464.25 1525.51 1464.25 1523.82 Q1464.25 1521.07 1462.31 1519.33 Q1460.38 1517.6 1457.28 1517.6 Q1455.08 1517.6 1452.63 1518.36 Q1450.2 1519.13 1447.42 1520.68 L1447.42 1515.95 Q1450.25 1514.82 1452.7 1514.24 Q1455.15 1513.66 1457.19 1513.66 Q1462.56 1513.66 1465.75 1516.35 Q1468.95 1519.03 1468.95 1523.52 Q1468.95 1525.65 1468.14 1527.57 Q1467.35 1529.47 1465.25 1532.07 Q1464.67 1532.74 1461.56 1535.95 Q1458.46 1539.15 1452.81 1544.91 Z\" fill=\"#000000\" fill-rule=\"nonzero\" fill-opacity=\"1\" /><path clip-path=\"url(#clip000)\" d=\"M1878.5 1530.21 Q1881.86 1530.93 1883.73 1533.2 Q1885.63 1535.47 1885.63 1538.8 Q1885.63 1543.92 1882.11 1546.72 Q1878.59 1549.52 1872.11 1549.52 Q1869.94 1549.52 1867.62 1549.08 Q1865.33 1548.66 1862.87 1547.81 L1862.87 1543.29 Q1864.82 1544.43 1867.13 1545.01 Q1869.45 1545.58 1871.97 1545.58 Q1876.37 1545.58 1878.66 1543.85 Q1880.98 1542.11 1880.98 1538.8 Q1880.98 1535.75 1878.82 1534.03 Q1876.69 1532.3 1872.87 1532.3 L1868.85 1532.3 L1868.85 1528.45 L1873.06 1528.45 Q1876.51 1528.45 1878.34 1527.09 Q1880.17 1525.7 1880.17 1523.11 Q1880.17 1520.45 1878.27 1519.03 Q1876.39 1517.6 1872.87 1517.6 Q1870.95 1517.6 1868.75 1518.01 Q1866.56 1518.43 1863.92 1519.31 L1863.92 1515.14 Q1866.58 1514.4 1868.89 1514.03 Q1871.23 1513.66 1873.29 1513.66 Q1878.62 1513.66 1881.72 1516.09 Q1884.82 1518.5 1884.82 1522.62 Q1884.82 1525.49 1883.18 1527.48 Q1881.53 1529.45 1878.5 1530.21 Z\" fill=\"#000000\" fill-rule=\"nonzero\" fill-opacity=\"1\" /><path clip-path=\"url(#clip000)\" d=\"M2293.35 1518.36 L2281.55 1536.81 L2293.35 1536.81 L2293.35 1518.36 M2292.12 1514.29 L2298 1514.29 L2298 1536.81 L2302.93 1536.81 L2302.93 1540.7 L2298 1540.7 L2298 1548.85 L2293.35 1548.85 L2293.35 1540.7 L2277.75 1540.7 L2277.75 1536.19 L2292.12 1514.29 Z\" fill=\"#000000\" fill-rule=\"nonzero\" fill-opacity=\"1\" /><polyline clip-path=\"url(#clip002)\" style=\"stroke:#000000; stroke-linecap:round; stroke-linejoin:round; stroke-width:2; stroke-opacity:0.1; fill:none\" points=\"147.478,1391.43 2352.76,1391.43 \"/>\n",
       "<polyline clip-path=\"url(#clip002)\" style=\"stroke:#000000; stroke-linecap:round; stroke-linejoin:round; stroke-width:2; stroke-opacity:0.1; fill:none\" points=\"147.478,1174.19 2352.76,1174.19 \"/>\n",
       "<polyline clip-path=\"url(#clip002)\" style=\"stroke:#000000; stroke-linecap:round; stroke-linejoin:round; stroke-width:2; stroke-opacity:0.1; fill:none\" points=\"147.478,956.947 2352.76,956.947 \"/>\n",
       "<polyline clip-path=\"url(#clip002)\" style=\"stroke:#000000; stroke-linecap:round; stroke-linejoin:round; stroke-width:2; stroke-opacity:0.1; fill:none\" points=\"147.478,739.705 2352.76,739.705 \"/>\n",
       "<polyline clip-path=\"url(#clip002)\" style=\"stroke:#000000; stroke-linecap:round; stroke-linejoin:round; stroke-width:2; stroke-opacity:0.1; fill:none\" points=\"147.478,522.462 2352.76,522.462 \"/>\n",
       "<polyline clip-path=\"url(#clip002)\" style=\"stroke:#000000; stroke-linecap:round; stroke-linejoin:round; stroke-width:2; stroke-opacity:0.1; fill:none\" points=\"147.478,305.219 2352.76,305.219 \"/>\n",
       "<polyline clip-path=\"url(#clip002)\" style=\"stroke:#000000; stroke-linecap:round; stroke-linejoin:round; stroke-width:2; stroke-opacity:0.1; fill:none\" points=\"147.478,87.9763 2352.76,87.9763 \"/>\n",
       "<polyline clip-path=\"url(#clip000)\" style=\"stroke:#000000; stroke-linecap:round; stroke-linejoin:round; stroke-width:4; stroke-opacity:1; fill:none\" points=\"147.478,1486.45 147.478,47.2441 \"/>\n",
       "<polyline clip-path=\"url(#clip000)\" style=\"stroke:#000000; stroke-linecap:round; stroke-linejoin:round; stroke-width:4; stroke-opacity:1; fill:none\" points=\"147.478,1391.43 166.376,1391.43 \"/>\n",
       "<polyline clip-path=\"url(#clip000)\" style=\"stroke:#000000; stroke-linecap:round; stroke-linejoin:round; stroke-width:4; stroke-opacity:1; fill:none\" points=\"147.478,1174.19 166.376,1174.19 \"/>\n",
       "<polyline clip-path=\"url(#clip000)\" style=\"stroke:#000000; stroke-linecap:round; stroke-linejoin:round; stroke-width:4; stroke-opacity:1; fill:none\" points=\"147.478,956.947 166.376,956.947 \"/>\n",
       "<polyline clip-path=\"url(#clip000)\" style=\"stroke:#000000; stroke-linecap:round; stroke-linejoin:round; stroke-width:4; stroke-opacity:1; fill:none\" points=\"147.478,739.705 166.376,739.705 \"/>\n",
       "<polyline clip-path=\"url(#clip000)\" style=\"stroke:#000000; stroke-linecap:round; stroke-linejoin:round; stroke-width:4; stroke-opacity:1; fill:none\" points=\"147.478,522.462 166.376,522.462 \"/>\n",
       "<polyline clip-path=\"url(#clip000)\" style=\"stroke:#000000; stroke-linecap:round; stroke-linejoin:round; stroke-width:4; stroke-opacity:1; fill:none\" points=\"147.478,305.219 166.376,305.219 \"/>\n",
       "<polyline clip-path=\"url(#clip000)\" style=\"stroke:#000000; stroke-linecap:round; stroke-linejoin:round; stroke-width:4; stroke-opacity:1; fill:none\" points=\"147.478,87.9763 166.376,87.9763 \"/>\n",
       "<path clip-path=\"url(#clip000)\" d=\"M51.3625 1391.88 L81.0383 1391.88 L81.0383 1395.82 L51.3625 1395.82 L51.3625 1391.88 Z\" fill=\"#000000\" fill-rule=\"nonzero\" fill-opacity=\"1\" /><path clip-path=\"url(#clip000)\" d=\"M95.1586 1404.78 L111.478 1404.78 L111.478 1408.71 L89.5336 1408.71 L89.5336 1404.78 Q92.1956 1402.02 96.7789 1397.39 Q101.385 1392.74 102.566 1391.4 Q104.811 1388.88 105.691 1387.14 Q106.594 1385.38 106.594 1383.69 Q106.594 1380.94 104.649 1379.2 Q102.728 1377.46 99.6261 1377.46 Q97.4271 1377.46 94.9734 1378.23 Q92.5428 1378.99 89.7651 1380.54 L89.7651 1375.82 Q92.5891 1374.69 95.0428 1374.11 Q97.4965 1373.53 99.5335 1373.53 Q104.904 1373.53 108.098 1376.21 Q111.293 1378.9 111.293 1383.39 Q111.293 1385.52 110.483 1387.44 Q109.696 1389.34 107.589 1391.93 Q107.01 1392.6 103.909 1395.82 Q100.807 1399.01 95.1586 1404.78 Z\" fill=\"#000000\" fill-rule=\"nonzero\" fill-opacity=\"1\" /><path clip-path=\"url(#clip000)\" d=\"M50.9921 1174.64 L80.6679 1174.64 L80.6679 1178.58 L50.9921 1178.58 L50.9921 1174.64 Z\" fill=\"#000000\" fill-rule=\"nonzero\" fill-opacity=\"1\" /><path clip-path=\"url(#clip000)\" d=\"M91.5706 1187.54 L99.2095 1187.54 L99.2095 1161.17 L90.8993 1162.84 L90.8993 1158.58 L99.1632 1156.91 L103.839 1156.91 L103.839 1187.54 L111.478 1187.54 L111.478 1191.47 L91.5706 1191.47 L91.5706 1187.54 Z\" fill=\"#000000\" fill-rule=\"nonzero\" fill-opacity=\"1\" /><path clip-path=\"url(#clip000)\" d=\"M99.5335 942.746 Q95.9224 942.746 94.0937 946.311 Q92.2882 949.853 92.2882 956.982 Q92.2882 964.089 94.0937 967.653 Q95.9224 971.195 99.5335 971.195 Q103.168 971.195 104.973 967.653 Q106.802 964.089 106.802 956.982 Q106.802 949.853 104.973 946.311 Q103.168 942.746 99.5335 942.746 M99.5335 939.042 Q105.344 939.042 108.399 943.649 Q111.478 948.232 111.478 956.982 Q111.478 965.709 108.399 970.315 Q105.344 974.899 99.5335 974.899 Q93.7234 974.899 90.6447 970.315 Q87.5892 965.709 87.5892 956.982 Q87.5892 948.232 90.6447 943.649 Q93.7234 939.042 99.5335 939.042 Z\" fill=\"#000000\" fill-rule=\"nonzero\" fill-opacity=\"1\" /><path clip-path=\"url(#clip000)\" d=\"M91.5706 753.05 L99.2095 753.05 L99.2095 726.684 L90.8993 728.351 L90.8993 724.091 L99.1632 722.425 L103.839 722.425 L103.839 753.05 L111.478 753.05 L111.478 756.985 L91.5706 756.985 L91.5706 753.05 Z\" fill=\"#000000\" fill-rule=\"nonzero\" fill-opacity=\"1\" /><path clip-path=\"url(#clip000)\" d=\"M95.1586 535.807 L111.478 535.807 L111.478 539.742 L89.5336 539.742 L89.5336 535.807 Q92.1956 533.052 96.7789 528.422 Q101.385 523.77 102.566 522.427 Q104.811 519.904 105.691 518.168 Q106.594 516.409 106.594 514.719 Q106.594 511.964 104.649 510.228 Q102.728 508.492 99.6261 508.492 Q97.4271 508.492 94.9734 509.256 Q92.5428 510.02 89.7651 511.571 L89.7651 506.849 Q92.5891 505.714 95.0428 505.136 Q97.4965 504.557 99.5335 504.557 Q104.904 504.557 108.098 507.242 Q111.293 509.927 111.293 514.418 Q111.293 516.548 110.483 518.469 Q109.696 520.367 107.589 522.96 Q107.01 523.631 103.909 526.848 Q100.807 530.043 95.1586 535.807 Z\" fill=\"#000000\" fill-rule=\"nonzero\" fill-opacity=\"1\" /><path clip-path=\"url(#clip000)\" d=\"M104.348 303.865 Q107.705 304.583 109.58 306.851 Q111.478 309.12 111.478 312.453 Q111.478 317.569 107.959 320.369 Q104.441 323.17 97.9595 323.17 Q95.7836 323.17 93.4688 322.731 Q91.1771 322.314 88.7234 321.457 L88.7234 316.944 Q90.6678 318.078 92.9826 318.657 Q95.2974 319.235 97.8206 319.235 Q102.219 319.235 104.51 317.499 Q106.825 315.763 106.825 312.453 Q106.825 309.397 104.672 307.684 Q102.543 305.948 98.7234 305.948 L94.6956 305.948 L94.6956 302.106 L98.9085 302.106 Q102.358 302.106 104.186 300.74 Q106.015 299.351 106.015 296.758 Q106.015 294.096 104.117 292.684 Q102.242 291.249 98.7234 291.249 Q96.8021 291.249 94.603 291.666 Q92.4039 292.083 89.7651 292.962 L89.7651 288.796 Q92.4271 288.055 94.7419 287.684 Q97.0798 287.314 99.14 287.314 Q104.464 287.314 107.566 289.745 Q110.668 292.152 110.668 296.272 Q110.668 299.143 109.024 301.133 Q107.381 303.101 104.348 303.865 Z\" fill=\"#000000\" fill-rule=\"nonzero\" fill-opacity=\"1\" /><path clip-path=\"url(#clip000)\" d=\"M101.895 74.7703 L90.0891 93.2193 L101.895 93.2193 L101.895 74.7703 M100.668 70.6963 L106.547 70.6963 L106.547 93.2193 L111.478 93.2193 L111.478 97.1082 L106.547 97.1082 L106.547 105.256 L101.895 105.256 L101.895 97.1082 L86.2929 97.1082 L86.2929 92.5943 L100.668 70.6963 Z\" fill=\"#000000\" fill-rule=\"nonzero\" fill-opacity=\"1\" /><polyline clip-path=\"url(#clip002)\" style=\"stroke:#009af9; stroke-linecap:round; stroke-linejoin:round; stroke-width:4; stroke-opacity:1; fill:none\" points=\"209.891,87.9763 213.278,96.8017 216.664,105.598 220.05,114.366 223.436,123.105 254.747,202.548 286.057,279.53 317.368,354.052 348.678,426.113 386.311,509.47 423.943,589.272 455.761,653.971 487.579,716.13 522.142,780.772 556.705,842.417 588.569,896.592 620.434,948.219 654.595,1000.74 688.757,1050.33 708.547,1077.72 728.337,1104.12 748.127,1129.54 767.917,1153.98 803.09,1195 838.264,1232.9 869.108,1263.59 899.953,1291.89 933.581,1320.02 967.21,1345.31 1001.04,1367.9 1034.87,1387.61 1072.27,1406.05 1109.67,1420.99 1145.26,1431.95 1180.84,1439.72 1217.84,1444.44 1254.85,1445.72 1285.99,1444.13 1317.14,1440.11 1336.16,1436.45 1355.17,1431.9 1374.18,1426.43 1393.2,1420.06 1428.03,1406.02 1462.87,1388.95 1495.04,1370.47 1527.22,1349.4 1559.81,1325.4 1592.4,1298.74 1628.92,1265.69 1665.45,1229.29 1698.55,1193.42 1731.64,1154.8 1750.59,1131.45 1769.54,1107.2 1788.49,1082.05 1807.43,1056 1842.52,1005.39 1877.61,951.678 1912.2,895.704 1946.79,836.726 1980.38,776.591 2013.96,713.625 2048.39,646.139 2082.82,575.677 2101.68,535.817 2120.54,495.063 2139.4,453.417 2158.27,410.878 2185.66,347.494 2213.06,282.225 2240.46,215.072 2267.86,146.036 2273.48,131.64 2279.1,117.165 2284.72,102.61 2290.34,87.9763 \"/>\n",
       "<path clip-path=\"url(#clip000)\" d=\"M2006.29 1438.47 L2279.25 1438.47 L2279.25 1334.79 L2006.29 1334.79  Z\" fill=\"#ffffff\" fill-rule=\"evenodd\" fill-opacity=\"1\"/>\n",
       "<polyline clip-path=\"url(#clip000)\" style=\"stroke:#000000; stroke-linecap:round; stroke-linejoin:round; stroke-width:4; stroke-opacity:1; fill:none\" points=\"2006.29,1438.47 2279.25,1438.47 2279.25,1334.79 2006.29,1334.79 2006.29,1438.47 \"/>\n",
       "<polyline clip-path=\"url(#clip000)\" style=\"stroke:#009af9; stroke-linecap:round; stroke-linejoin:round; stroke-width:4; stroke-opacity:1; fill:none\" points=\"2030.79,1386.63 2177.81,1386.63 \"/>\n",
       "<path clip-path=\"url(#clip000)\" d=\"M2216.16 1406.32 Q2214.35 1410.95 2212.64 1412.36 Q2210.92 1413.78 2208.05 1413.78 L2204.65 1413.78 L2204.65 1410.21 L2207.15 1410.21 Q2208.91 1410.21 2209.88 1409.38 Q2210.85 1408.54 2212.04 1405.44 L2212.8 1403.5 L2202.31 1377.99 L2206.83 1377.99 L2214.93 1398.27 L2223.03 1377.99 L2227.54 1377.99 L2216.16 1406.32 Z\" fill=\"#000000\" fill-rule=\"nonzero\" fill-opacity=\"1\" /><path clip-path=\"url(#clip000)\" d=\"M2234.84 1399.98 L2242.48 1399.98 L2242.48 1373.61 L2234.16 1375.28 L2234.16 1371.02 L2242.43 1369.35 L2247.1 1369.35 L2247.1 1399.98 L2254.74 1399.98 L2254.74 1403.91 L2234.84 1403.91 L2234.84 1399.98 Z\" fill=\"#000000\" fill-rule=\"nonzero\" fill-opacity=\"1\" /></svg>\n"
      ]
     },
     "execution_count": 25,
     "metadata": {},
     "output_type": "execute_result"
    }
   ],
   "source": [
    "plot(x ->(x-3)*x,-1,4)"
   ]
  },
  {
   "cell_type": "markdown",
   "metadata": {},
   "source": [
    "Więcej na https://docs.juliahub.com/Roots/o0Xsi/2.0.10/reference/"
   ]
  },
  {
   "cell_type": "markdown",
   "metadata": {},
   "source": [
    "Wyciąganie informacji z przebiegu działania funkcji: https://docs.juliahub.com/Roots/o0Xsi/2.0.10/reference/#Tracking-iterations\n",
    "\n",
    "\n",
    "tracker = Roots.Tracks()\n",
    "find_zero(..., tracks = tracker)\n",
    " \n",
    "iteracje ->  tracker.steps\n",
    "\n",
    "wywołania funkcji ->  tracker.fncalls\n",
    "\n",
    "WAŻNE: empty!(tracker) po każdym wywołaniu funkcji, inaczej zostają tam wyniki z poprzednich wywołań zakłamujące dane.\n"
   ]
  },
  {
   "cell_type": "markdown",
   "metadata": {},
   "source": [
    "### Zadanie:\n",
    "\n",
    "A. Wybrać trzy metody poszukiwania pierwiastków: \n",
    "\n",
    "* wykorzystującą przedział i zmianę znaku, \n",
    "* wykorzystującą pochodną, \n",
    "* wykorzystującą przybliżenie pochodnej\n",
    "\n",
    "    1. Każdą z trzech wybranych metod przetestować (ilość iteracji, ilość wywołań funkcji) na sześciu wybranych  funkcjach ze zbioru http://people.sc.fsu.edu/~jburkardt/py_src/test_zero/test_zero.html Wyniki przedstawić w formie tabelki. <b>Pamiętać o sprawdzeniu czy wynik jest poprawny poprzez obliczenie wartości funkcji dla znalezionego pierwiastka !</b> (3 pkt)\n",
    "\n",
    "    2. Zademonstrować wybrany, ciekawy przykład trudnej funkcji z p.1 i działania metod na niej. (1 pkt)\n",
    "\n",
    "    3. Dla każdej z wybranych metod zademonstrować i wyjaśnić po jednym  przykładzie, dla którego nie działają (można na podstawie p.1 lub wymyślić własny)(1 pkt)\n",
    "\n",
    "B. Narysować <a href=\"https://pl.wikipedia.org/wiki/Wst%C4%99ga_Newtona\"> wstegę Newtona </a> i objaśnić, w jaki sposób powstała i jaki jest jej związek z metodą Newtona do znajdowania pierwiastków. Sposób i język - dowolny. (1 pkt)"
   ]
  }
 ],
 "metadata": {
  "kernelspec": {
   "display_name": "Julia 1.10.1",
   "language": "julia",
   "name": "julia-1.10"
  },
  "language_info": {
   "file_extension": ".jl",
   "mimetype": "application/julia",
   "name": "julia",
   "version": "1.10.1"
  }
 },
 "nbformat": 4,
 "nbformat_minor": 4
}
